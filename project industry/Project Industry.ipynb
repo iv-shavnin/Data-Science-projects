{
 "cells": [
  {
   "cell_type": "markdown",
   "id": "premier-superintendent",
   "metadata": {
    "toc": true
   },
   "source": [
    "<h1>Table of Contents<span class=\"tocSkip\"></span></h1>\n",
    "<div class=\"toc\"><ul class=\"toc-item\"><li><span><a href=\"#План-работы\" data-toc-modified-id=\"План-работы-1\"><span class=\"toc-item-num\">1&nbsp;&nbsp;</span>План работы</a></span></li><li><span><a href=\"#Загрузка-данных\" data-toc-modified-id=\"Загрузка-данных-2\"><span class=\"toc-item-num\">2&nbsp;&nbsp;</span>Загрузка данных</a></span><ul class=\"toc-item\"><li><span><a href=\"#Вывод\" data-toc-modified-id=\"Вывод-2.1\"><span class=\"toc-item-num\">2.1&nbsp;&nbsp;</span>Вывод</a></span></li></ul></li><li><span><a href=\"#Обработка-данных\" data-toc-modified-id=\"Обработка-данных-3\"><span class=\"toc-item-num\">3&nbsp;&nbsp;</span>Обработка данных</a></span><ul class=\"toc-item\"><li><span><a href=\"#Вывод\" data-toc-modified-id=\"Вывод-3.1\"><span class=\"toc-item-num\">3.1&nbsp;&nbsp;</span>Вывод</a></span></li></ul></li><li><span><a href=\"#Исследовательский-анализ\" data-toc-modified-id=\"Исследовательский-анализ-4\"><span class=\"toc-item-num\">4&nbsp;&nbsp;</span>Исследовательский анализ</a></span><ul class=\"toc-item\"><li><span><a href=\"#Вывод\" data-toc-modified-id=\"Вывод-4.1\"><span class=\"toc-item-num\">4.1&nbsp;&nbsp;</span>Вывод</a></span></li></ul></li><li><span><a href=\"#Объединение-данных-и-создание-новых-признаков\" data-toc-modified-id=\"Объединение-данных-и-создание-новых-признаков-5\"><span class=\"toc-item-num\">5&nbsp;&nbsp;</span>Объединение данных и создание новых признаков</a></span></li><li><span><a href=\"#Обучение-моделей\" data-toc-modified-id=\"Обучение-моделей-6\"><span class=\"toc-item-num\">6&nbsp;&nbsp;</span>Обучение моделей</a></span><ul class=\"toc-item\"><li><span><a href=\"#DecisionTree\" data-toc-modified-id=\"DecisionTree-6.1\"><span class=\"toc-item-num\">6.1&nbsp;&nbsp;</span>DecisionTree</a></span></li><li><span><a href=\"#LinearRegression\" data-toc-modified-id=\"LinearRegression-6.2\"><span class=\"toc-item-num\">6.2&nbsp;&nbsp;</span>LinearRegression</a></span></li><li><span><a href=\"#RandomForest\" data-toc-modified-id=\"RandomForest-6.3\"><span class=\"toc-item-num\">6.3&nbsp;&nbsp;</span>RandomForest</a></span></li><li><span><a href=\"#LightGBM\" data-toc-modified-id=\"LightGBM-6.4\"><span class=\"toc-item-num\">6.4&nbsp;&nbsp;</span>LightGBM</a></span></li><li><span><a href=\"#CatBoost\" data-toc-modified-id=\"CatBoost-6.5\"><span class=\"toc-item-num\">6.5&nbsp;&nbsp;</span>CatBoost</a></span></li><li><span><a href=\"#TabNet\" data-toc-modified-id=\"TabNet-6.6\"><span class=\"toc-item-num\">6.6&nbsp;&nbsp;</span>TabNet</a></span></li><li><span><a href=\"#Сравнение-результатов\" data-toc-modified-id=\"Сравнение-результатов-6.7\"><span class=\"toc-item-num\">6.7&nbsp;&nbsp;</span>Сравнение результатов</a></span></li><li><span><a href=\"#Вывод\" data-toc-modified-id=\"Вывод-6.8\"><span class=\"toc-item-num\">6.8&nbsp;&nbsp;</span>Вывод</a></span></li></ul></li><li><span><a href=\"#Вывод\" data-toc-modified-id=\"Вывод-7\"><span class=\"toc-item-num\">7&nbsp;&nbsp;</span>Вывод</a></span></li></ul></div>"
   ]
  },
  {
   "cell_type": "markdown",
   "id": "funded-robin",
   "metadata": {},
   "source": [
    "# Промышленность. Выпускной проект\n",
    "\n",
    "Чтобы оптимизировать производственные расходы, металлургический комбинат ООО «Так закаляем сталь» решил уменьшить потребление электроэнергии на этапе обработки стали. Вам предстоит построить модель, которая предскажет температуру стали.\n",
    "\n",
    "**Описание этапа обработки**\n",
    "\n",
    "Сталь обрабатывают в металлическом ковше вместимостью около 100 тонн. Чтобы ковш выдерживал высокие температуры, изнутри его облицовывают огнеупорным кирпичом. Расплавленную сталь заливают в ковш и подогревают до нужной температуры графитовыми электродами. Они установлены в крышке ковша. \n",
    "\n",
    "Из сплава выводится сера (десульфурация), добавлением примесей корректируется химический состав и отбираются пробы. Сталь легируют — изменяют её состав — подавая куски сплава из бункера для сыпучих материалов или проволоку через специальный трайб-аппарат (англ. tribe, «масса»).\n",
    "\n",
    "Перед тем как первый раз ввести легирующие добавки, измеряют температуру стали и производят её химический анализ. Потом температуру на несколько минут повышают, добавляют легирующие материалы и продувают сплав инертным газом. Затем его перемешивают и снова проводят измерения. Такой цикл повторяется до достижения целевого химического состава и оптимальной температуры плавки.\n",
    "\n",
    "Тогда расплавленная сталь отправляется на доводку металла или поступает в машину непрерывной разливки. Оттуда готовый продукт выходит в виде заготовок-слябов (англ. *slab*, «плита»).\n",
    "\n",
    "**Описание данных**\n",
    "\n",
    "Данные состоят из файлов, полученных из разных источников:\n",
    "\n",
    "- `data_arc.csv` — данные об электродах;\n",
    "- `data_bulk.csv` — данные о подаче сыпучих материалов (объём);\n",
    "- `data_bulk_time.csv` *—* данные о подаче сыпучих материалов (время);\n",
    "- `data_gas.csv` — данные о продувке сплава газом;\n",
    "- `data_temp.csv` — результаты измерения температуры;\n",
    "- `data_wire.csv` — данные о проволочных материалах (объём);\n",
    "- `data_wire_time.csv` — данные о проволочных материалах (время).\n",
    "\n",
    "Во всех файлах столбец `key` содержит номер партии. В файлах может быть несколько строк с одинаковым значением `key`: они соответствуют разным итерациям обработки."
   ]
  },
  {
   "cell_type": "markdown",
   "id": "greater-entertainment",
   "metadata": {},
   "source": [
    "## План работы\n",
    "\n",
    "1) Загрузить и изучить данные\n",
    "\n",
    "2) Предобработать данные:\n",
    "\n",
    "- удалить или заполнить пропуски;\n",
    "- привести все колонки к нужным типам данных; \n",
    "\n",
    "3) Провести исследовательский анализ:\n",
    "\n",
    "- Построить гистограммы распределений всех доступных значений и найти выбросы и аномалии;\n",
    "- Узнать какая связь между реактивной и активной мощностями;\n",
    "- Построить точечную диаграмму распределения температур по партиям для поиска аномальных значений;\n",
    "\n",
    "4) Создание единой таблицы со всеми признаками для обучения будущих моделей:\n",
    "\n",
    "- Выделить среднюю активную и реактивную мощности для каждой партии;\n",
    "- Выделить суммарное время нагревания электрической дуги для каждой партии;\n",
    "- Выделить температуру на начало и конец измерений в каждой партии;\n",
    "- Объединить эти данные с таблицами об объеме добавленных сыпучих и проволочных материалах;\n",
    "- К полученым данных добавить столбец с отношением активной и реактивной мощностей и их вектовной суммой;\n",
    "\n",
    "5) Обучить модели:\n",
    "    \n",
    "- Выделить из данных целевой признак (конечная температура партии);\n",
    "- DecisionTree. Провести кроссвалидацию и выяснить значение метрики МАЕ (не больше 8). По этой модели получить таблицу с важностью признаков и оставить для будущих моделей самые важные;\n",
    "- RandomForest. Найти наилучшие значения гиперпараметров, проведя кроссвалидацию и определев МАЕ.\n",
    "- LinearRegression. Найти МАЕ с помощью кроссвалидации.\n",
    "- LightGBM. Найти наилучшие значения гиперпараметров, проведя кроссвалидацию и определев МАЕ.\n",
    "- Catboost. Найти наилучшие значения гиперпараметров, проведя кроссвалидацию и определев МАЕ."
   ]
  },
  {
   "cell_type": "markdown",
   "id": "following-boost",
   "metadata": {},
   "source": [
    "## Загрузка данных"
   ]
  },
  {
   "cell_type": "code",
   "execution_count": 1,
   "id": "bronze-perry",
   "metadata": {},
   "outputs": [],
   "source": [
    "import pandas as pd\n",
    "import numpy as np\n",
    "import matplotlib.pyplot as plt\n",
    "import seaborn as sns\n",
    "from sklearn.tree import DecisionTreeRegressor\n",
    "from sklearn.ensemble import RandomForestRegressor\n",
    "from sklearn.linear_model import LinearRegression\n",
    "from lightgbm import LGBMRegressor\n",
    "from catboost import CatBoostRegressor\n",
    "from pytorch_tabnet.tab_model import TabNetRegressor\n",
    "from sklearn.model_selection import train_test_split, cross_val_score, GridSearchCV, RandomizedSearchCV\n",
    "from sklearn.metrics import mean_absolute_error\n",
    "from sklearn.cluster import KMeans\n",
    "from tensorflow.keras.layers import AveragePooling2D, Dense, Flatten\n",
    "from tensorflow.keras.models import Sequential\n",
    "from tensorflow.keras.optimizers import Adam\n",
    "import warnings"
   ]
  },
  {
   "cell_type": "code",
   "execution_count": 2,
   "id": "legitimate-malawi",
   "metadata": {},
   "outputs": [],
   "source": [
    "warnings.filterwarnings('ignore')"
   ]
  },
  {
   "cell_type": "code",
   "execution_count": 3,
   "id": "cordless-depth",
   "metadata": {},
   "outputs": [],
   "source": [
    "data_arc = pd.read_csv('final_steel/data_arc.csv')\n",
    "data_bulk = pd.read_csv('final_steel/data_bulk.csv')\n",
    "data_bulk_time = pd.read_csv('final_steel/data_bulk_time.csv')\n",
    "data_gas = pd.read_csv('final_steel/data_gas.csv')\n",
    "data_temp = pd.read_csv('final_steel/data_temp.csv')\n",
    "data_wire = pd.read_csv('final_steel/data_wire.csv')\n",
    "data_wire_time = pd.read_csv('final_steel/data_wire_time.csv')"
   ]
  },
  {
   "cell_type": "markdown",
   "id": "individual-plane",
   "metadata": {},
   "source": [
    "Выведем информацию о `data_arc`."
   ]
  },
  {
   "cell_type": "code",
   "execution_count": 5,
   "id": "historic-christmas",
   "metadata": {
    "scrolled": false
   },
   "outputs": [
    {
     "name": "stdout",
     "output_type": "stream",
     "text": [
      "<class 'pandas.core.frame.DataFrame'>\n",
      "RangeIndex: 14876 entries, 0 to 14875\n",
      "Data columns (total 5 columns):\n",
      "key                     14876 non-null int64\n",
      "Начало нагрева дугой    14876 non-null object\n",
      "Конец нагрева дугой     14876 non-null object\n",
      "Активная мощность       14876 non-null float64\n",
      "Реактивная мощность     14876 non-null float64\n",
      "dtypes: float64(2), int64(1), object(2)\n",
      "memory usage: 581.2+ KB\n",
      "None\n"
     ]
    },
    {
     "data": {
      "text/html": [
       "<div>\n",
       "<style scoped>\n",
       "    .dataframe tbody tr th:only-of-type {\n",
       "        vertical-align: middle;\n",
       "    }\n",
       "\n",
       "    .dataframe tbody tr th {\n",
       "        vertical-align: top;\n",
       "    }\n",
       "\n",
       "    .dataframe thead th {\n",
       "        text-align: right;\n",
       "    }\n",
       "</style>\n",
       "<table border=\"1\" class=\"dataframe\">\n",
       "  <thead>\n",
       "    <tr style=\"text-align: right;\">\n",
       "      <th></th>\n",
       "      <th>key</th>\n",
       "      <th>Начало нагрева дугой</th>\n",
       "      <th>Конец нагрева дугой</th>\n",
       "      <th>Активная мощность</th>\n",
       "      <th>Реактивная мощность</th>\n",
       "    </tr>\n",
       "  </thead>\n",
       "  <tbody>\n",
       "    <tr>\n",
       "      <td>0</td>\n",
       "      <td>1</td>\n",
       "      <td>2019-05-03 11:02:14</td>\n",
       "      <td>2019-05-03 11:06:02</td>\n",
       "      <td>0.976059</td>\n",
       "      <td>0.687084</td>\n",
       "    </tr>\n",
       "    <tr>\n",
       "      <td>1</td>\n",
       "      <td>1</td>\n",
       "      <td>2019-05-03 11:07:28</td>\n",
       "      <td>2019-05-03 11:10:33</td>\n",
       "      <td>0.805607</td>\n",
       "      <td>0.520285</td>\n",
       "    </tr>\n",
       "    <tr>\n",
       "      <td>2</td>\n",
       "      <td>1</td>\n",
       "      <td>2019-05-03 11:11:44</td>\n",
       "      <td>2019-05-03 11:14:36</td>\n",
       "      <td>0.744363</td>\n",
       "      <td>0.498805</td>\n",
       "    </tr>\n",
       "    <tr>\n",
       "      <td>3</td>\n",
       "      <td>1</td>\n",
       "      <td>2019-05-03 11:18:14</td>\n",
       "      <td>2019-05-03 11:24:19</td>\n",
       "      <td>1.659363</td>\n",
       "      <td>1.062669</td>\n",
       "    </tr>\n",
       "    <tr>\n",
       "      <td>4</td>\n",
       "      <td>1</td>\n",
       "      <td>2019-05-03 11:26:09</td>\n",
       "      <td>2019-05-03 11:28:37</td>\n",
       "      <td>0.692755</td>\n",
       "      <td>0.414397</td>\n",
       "    </tr>\n",
       "  </tbody>\n",
       "</table>\n",
       "</div>"
      ],
      "text/plain": [
       "   key Начало нагрева дугой  Конец нагрева дугой  Активная мощность  \\\n",
       "0    1  2019-05-03 11:02:14  2019-05-03 11:06:02           0.976059   \n",
       "1    1  2019-05-03 11:07:28  2019-05-03 11:10:33           0.805607   \n",
       "2    1  2019-05-03 11:11:44  2019-05-03 11:14:36           0.744363   \n",
       "3    1  2019-05-03 11:18:14  2019-05-03 11:24:19           1.659363   \n",
       "4    1  2019-05-03 11:26:09  2019-05-03 11:28:37           0.692755   \n",
       "\n",
       "   Реактивная мощность  \n",
       "0             0.687084  \n",
       "1             0.520285  \n",
       "2             0.498805  \n",
       "3             1.062669  \n",
       "4             0.414397  "
      ]
     },
     "execution_count": 5,
     "metadata": {},
     "output_type": "execute_result"
    }
   ],
   "source": [
    "print(data_arc.info())\n",
    "data_arc.head()"
   ]
  },
  {
   "cell_type": "markdown",
   "id": "bridal-twenty",
   "metadata": {},
   "source": [
    "В таблице присутствуют 14876 строк и 5 столбцов. Пропусков в данных не обнаружено."
   ]
  },
  {
   "cell_type": "markdown",
   "id": "speaking-control",
   "metadata": {},
   "source": [
    "Выведем информацию о `data_bulk`."
   ]
  },
  {
   "cell_type": "code",
   "execution_count": 6,
   "id": "protecting-blink",
   "metadata": {
    "scrolled": false
   },
   "outputs": [
    {
     "name": "stdout",
     "output_type": "stream",
     "text": [
      "<class 'pandas.core.frame.DataFrame'>\n",
      "RangeIndex: 3129 entries, 0 to 3128\n",
      "Data columns (total 16 columns):\n",
      "key        3129 non-null int64\n",
      "Bulk 1     252 non-null float64\n",
      "Bulk 2     22 non-null float64\n",
      "Bulk 3     1298 non-null float64\n",
      "Bulk 4     1014 non-null float64\n",
      "Bulk 5     77 non-null float64\n",
      "Bulk 6     576 non-null float64\n",
      "Bulk 7     25 non-null float64\n",
      "Bulk 8     1 non-null float64\n",
      "Bulk 9     19 non-null float64\n",
      "Bulk 10    176 non-null float64\n",
      "Bulk 11    177 non-null float64\n",
      "Bulk 12    2450 non-null float64\n",
      "Bulk 13    18 non-null float64\n",
      "Bulk 14    2806 non-null float64\n",
      "Bulk 15    2248 non-null float64\n",
      "dtypes: float64(15), int64(1)\n",
      "memory usage: 391.2 KB\n",
      "None\n"
     ]
    },
    {
     "data": {
      "text/html": [
       "<div>\n",
       "<style scoped>\n",
       "    .dataframe tbody tr th:only-of-type {\n",
       "        vertical-align: middle;\n",
       "    }\n",
       "\n",
       "    .dataframe tbody tr th {\n",
       "        vertical-align: top;\n",
       "    }\n",
       "\n",
       "    .dataframe thead th {\n",
       "        text-align: right;\n",
       "    }\n",
       "</style>\n",
       "<table border=\"1\" class=\"dataframe\">\n",
       "  <thead>\n",
       "    <tr style=\"text-align: right;\">\n",
       "      <th></th>\n",
       "      <th>key</th>\n",
       "      <th>Bulk 1</th>\n",
       "      <th>Bulk 2</th>\n",
       "      <th>Bulk 3</th>\n",
       "      <th>Bulk 4</th>\n",
       "      <th>Bulk 5</th>\n",
       "      <th>Bulk 6</th>\n",
       "      <th>Bulk 7</th>\n",
       "      <th>Bulk 8</th>\n",
       "      <th>Bulk 9</th>\n",
       "      <th>Bulk 10</th>\n",
       "      <th>Bulk 11</th>\n",
       "      <th>Bulk 12</th>\n",
       "      <th>Bulk 13</th>\n",
       "      <th>Bulk 14</th>\n",
       "      <th>Bulk 15</th>\n",
       "    </tr>\n",
       "  </thead>\n",
       "  <tbody>\n",
       "    <tr>\n",
       "      <td>0</td>\n",
       "      <td>1</td>\n",
       "      <td>NaN</td>\n",
       "      <td>NaN</td>\n",
       "      <td>NaN</td>\n",
       "      <td>43.0</td>\n",
       "      <td>NaN</td>\n",
       "      <td>NaN</td>\n",
       "      <td>NaN</td>\n",
       "      <td>NaN</td>\n",
       "      <td>NaN</td>\n",
       "      <td>NaN</td>\n",
       "      <td>NaN</td>\n",
       "      <td>206.0</td>\n",
       "      <td>NaN</td>\n",
       "      <td>150.0</td>\n",
       "      <td>154.0</td>\n",
       "    </tr>\n",
       "    <tr>\n",
       "      <td>1</td>\n",
       "      <td>2</td>\n",
       "      <td>NaN</td>\n",
       "      <td>NaN</td>\n",
       "      <td>NaN</td>\n",
       "      <td>73.0</td>\n",
       "      <td>NaN</td>\n",
       "      <td>NaN</td>\n",
       "      <td>NaN</td>\n",
       "      <td>NaN</td>\n",
       "      <td>NaN</td>\n",
       "      <td>NaN</td>\n",
       "      <td>NaN</td>\n",
       "      <td>206.0</td>\n",
       "      <td>NaN</td>\n",
       "      <td>149.0</td>\n",
       "      <td>154.0</td>\n",
       "    </tr>\n",
       "    <tr>\n",
       "      <td>2</td>\n",
       "      <td>3</td>\n",
       "      <td>NaN</td>\n",
       "      <td>NaN</td>\n",
       "      <td>NaN</td>\n",
       "      <td>34.0</td>\n",
       "      <td>NaN</td>\n",
       "      <td>NaN</td>\n",
       "      <td>NaN</td>\n",
       "      <td>NaN</td>\n",
       "      <td>NaN</td>\n",
       "      <td>NaN</td>\n",
       "      <td>NaN</td>\n",
       "      <td>205.0</td>\n",
       "      <td>NaN</td>\n",
       "      <td>152.0</td>\n",
       "      <td>153.0</td>\n",
       "    </tr>\n",
       "    <tr>\n",
       "      <td>3</td>\n",
       "      <td>4</td>\n",
       "      <td>NaN</td>\n",
       "      <td>NaN</td>\n",
       "      <td>NaN</td>\n",
       "      <td>81.0</td>\n",
       "      <td>NaN</td>\n",
       "      <td>NaN</td>\n",
       "      <td>NaN</td>\n",
       "      <td>NaN</td>\n",
       "      <td>NaN</td>\n",
       "      <td>NaN</td>\n",
       "      <td>NaN</td>\n",
       "      <td>207.0</td>\n",
       "      <td>NaN</td>\n",
       "      <td>153.0</td>\n",
       "      <td>154.0</td>\n",
       "    </tr>\n",
       "    <tr>\n",
       "      <td>4</td>\n",
       "      <td>5</td>\n",
       "      <td>NaN</td>\n",
       "      <td>NaN</td>\n",
       "      <td>NaN</td>\n",
       "      <td>78.0</td>\n",
       "      <td>NaN</td>\n",
       "      <td>NaN</td>\n",
       "      <td>NaN</td>\n",
       "      <td>NaN</td>\n",
       "      <td>NaN</td>\n",
       "      <td>NaN</td>\n",
       "      <td>NaN</td>\n",
       "      <td>203.0</td>\n",
       "      <td>NaN</td>\n",
       "      <td>151.0</td>\n",
       "      <td>152.0</td>\n",
       "    </tr>\n",
       "  </tbody>\n",
       "</table>\n",
       "</div>"
      ],
      "text/plain": [
       "   key  Bulk 1  Bulk 2  Bulk 3  Bulk 4  Bulk 5  Bulk 6  Bulk 7  Bulk 8  \\\n",
       "0    1     NaN     NaN     NaN    43.0     NaN     NaN     NaN     NaN   \n",
       "1    2     NaN     NaN     NaN    73.0     NaN     NaN     NaN     NaN   \n",
       "2    3     NaN     NaN     NaN    34.0     NaN     NaN     NaN     NaN   \n",
       "3    4     NaN     NaN     NaN    81.0     NaN     NaN     NaN     NaN   \n",
       "4    5     NaN     NaN     NaN    78.0     NaN     NaN     NaN     NaN   \n",
       "\n",
       "   Bulk 9  Bulk 10  Bulk 11  Bulk 12  Bulk 13  Bulk 14  Bulk 15  \n",
       "0     NaN      NaN      NaN    206.0      NaN    150.0    154.0  \n",
       "1     NaN      NaN      NaN    206.0      NaN    149.0    154.0  \n",
       "2     NaN      NaN      NaN    205.0      NaN    152.0    153.0  \n",
       "3     NaN      NaN      NaN    207.0      NaN    153.0    154.0  \n",
       "4     NaN      NaN      NaN    203.0      NaN    151.0    152.0  "
      ]
     },
     "execution_count": 6,
     "metadata": {},
     "output_type": "execute_result"
    }
   ],
   "source": [
    "print(data_bulk.info())\n",
    "data_bulk.head()"
   ]
  },
  {
   "cell_type": "markdown",
   "id": "bright-bench",
   "metadata": {},
   "source": [
    "В таблице присутствуют 3129 строк и 16 столбцов. Пропуски присутствуют во всех столбцах  кроме `key`. Это связано с тем что к различным партиям добавляют различные сыпучие материалы, вследствие чего если материал не добавляется, то в ячейке остается пропуск. Поэтому в дальнейшем будет нужно заполнить такие пропуски нулями."
   ]
  },
  {
   "cell_type": "markdown",
   "id": "spatial-donor",
   "metadata": {},
   "source": [
    "Выведем информацию о `data_bulk_time`."
   ]
  },
  {
   "cell_type": "code",
   "execution_count": 7,
   "id": "removable-october",
   "metadata": {
    "scrolled": false
   },
   "outputs": [
    {
     "name": "stdout",
     "output_type": "stream",
     "text": [
      "<class 'pandas.core.frame.DataFrame'>\n",
      "RangeIndex: 3129 entries, 0 to 3128\n",
      "Data columns (total 16 columns):\n",
      "key        3129 non-null int64\n",
      "Bulk 1     252 non-null object\n",
      "Bulk 2     22 non-null object\n",
      "Bulk 3     1298 non-null object\n",
      "Bulk 4     1014 non-null object\n",
      "Bulk 5     77 non-null object\n",
      "Bulk 6     576 non-null object\n",
      "Bulk 7     25 non-null object\n",
      "Bulk 8     1 non-null object\n",
      "Bulk 9     19 non-null object\n",
      "Bulk 10    176 non-null object\n",
      "Bulk 11    177 non-null object\n",
      "Bulk 12    2450 non-null object\n",
      "Bulk 13    18 non-null object\n",
      "Bulk 14    2806 non-null object\n",
      "Bulk 15    2248 non-null object\n",
      "dtypes: int64(1), object(15)\n",
      "memory usage: 391.2+ KB\n",
      "None\n"
     ]
    },
    {
     "data": {
      "text/html": [
       "<div>\n",
       "<style scoped>\n",
       "    .dataframe tbody tr th:only-of-type {\n",
       "        vertical-align: middle;\n",
       "    }\n",
       "\n",
       "    .dataframe tbody tr th {\n",
       "        vertical-align: top;\n",
       "    }\n",
       "\n",
       "    .dataframe thead th {\n",
       "        text-align: right;\n",
       "    }\n",
       "</style>\n",
       "<table border=\"1\" class=\"dataframe\">\n",
       "  <thead>\n",
       "    <tr style=\"text-align: right;\">\n",
       "      <th></th>\n",
       "      <th>key</th>\n",
       "      <th>Bulk 1</th>\n",
       "      <th>Bulk 2</th>\n",
       "      <th>Bulk 3</th>\n",
       "      <th>Bulk 4</th>\n",
       "      <th>Bulk 5</th>\n",
       "      <th>Bulk 6</th>\n",
       "      <th>Bulk 7</th>\n",
       "      <th>Bulk 8</th>\n",
       "      <th>Bulk 9</th>\n",
       "      <th>Bulk 10</th>\n",
       "      <th>Bulk 11</th>\n",
       "      <th>Bulk 12</th>\n",
       "      <th>Bulk 13</th>\n",
       "      <th>Bulk 14</th>\n",
       "      <th>Bulk 15</th>\n",
       "    </tr>\n",
       "  </thead>\n",
       "  <tbody>\n",
       "    <tr>\n",
       "      <td>0</td>\n",
       "      <td>1</td>\n",
       "      <td>NaN</td>\n",
       "      <td>NaN</td>\n",
       "      <td>NaN</td>\n",
       "      <td>2019-05-03 11:21:30</td>\n",
       "      <td>NaN</td>\n",
       "      <td>NaN</td>\n",
       "      <td>NaN</td>\n",
       "      <td>NaN</td>\n",
       "      <td>NaN</td>\n",
       "      <td>NaN</td>\n",
       "      <td>NaN</td>\n",
       "      <td>2019-05-03 11:03:52</td>\n",
       "      <td>NaN</td>\n",
       "      <td>2019-05-03 11:03:52</td>\n",
       "      <td>2019-05-03 11:03:52</td>\n",
       "    </tr>\n",
       "    <tr>\n",
       "      <td>1</td>\n",
       "      <td>2</td>\n",
       "      <td>NaN</td>\n",
       "      <td>NaN</td>\n",
       "      <td>NaN</td>\n",
       "      <td>2019-05-03 11:46:38</td>\n",
       "      <td>NaN</td>\n",
       "      <td>NaN</td>\n",
       "      <td>NaN</td>\n",
       "      <td>NaN</td>\n",
       "      <td>NaN</td>\n",
       "      <td>NaN</td>\n",
       "      <td>NaN</td>\n",
       "      <td>2019-05-03 11:40:20</td>\n",
       "      <td>NaN</td>\n",
       "      <td>2019-05-03 11:40:20</td>\n",
       "      <td>2019-05-03 11:40:20</td>\n",
       "    </tr>\n",
       "    <tr>\n",
       "      <td>2</td>\n",
       "      <td>3</td>\n",
       "      <td>NaN</td>\n",
       "      <td>NaN</td>\n",
       "      <td>NaN</td>\n",
       "      <td>2019-05-03 12:31:06</td>\n",
       "      <td>NaN</td>\n",
       "      <td>NaN</td>\n",
       "      <td>NaN</td>\n",
       "      <td>NaN</td>\n",
       "      <td>NaN</td>\n",
       "      <td>NaN</td>\n",
       "      <td>NaN</td>\n",
       "      <td>2019-05-03 12:09:40</td>\n",
       "      <td>NaN</td>\n",
       "      <td>2019-05-03 12:09:40</td>\n",
       "      <td>2019-05-03 12:09:40</td>\n",
       "    </tr>\n",
       "    <tr>\n",
       "      <td>3</td>\n",
       "      <td>4</td>\n",
       "      <td>NaN</td>\n",
       "      <td>NaN</td>\n",
       "      <td>NaN</td>\n",
       "      <td>2019-05-03 12:48:43</td>\n",
       "      <td>NaN</td>\n",
       "      <td>NaN</td>\n",
       "      <td>NaN</td>\n",
       "      <td>NaN</td>\n",
       "      <td>NaN</td>\n",
       "      <td>NaN</td>\n",
       "      <td>NaN</td>\n",
       "      <td>2019-05-03 12:41:24</td>\n",
       "      <td>NaN</td>\n",
       "      <td>2019-05-03 12:41:24</td>\n",
       "      <td>2019-05-03 12:41:24</td>\n",
       "    </tr>\n",
       "    <tr>\n",
       "      <td>4</td>\n",
       "      <td>5</td>\n",
       "      <td>NaN</td>\n",
       "      <td>NaN</td>\n",
       "      <td>NaN</td>\n",
       "      <td>2019-05-03 13:18:50</td>\n",
       "      <td>NaN</td>\n",
       "      <td>NaN</td>\n",
       "      <td>NaN</td>\n",
       "      <td>NaN</td>\n",
       "      <td>NaN</td>\n",
       "      <td>NaN</td>\n",
       "      <td>NaN</td>\n",
       "      <td>2019-05-03 13:12:56</td>\n",
       "      <td>NaN</td>\n",
       "      <td>2019-05-03 13:12:56</td>\n",
       "      <td>2019-05-03 13:12:56</td>\n",
       "    </tr>\n",
       "  </tbody>\n",
       "</table>\n",
       "</div>"
      ],
      "text/plain": [
       "   key Bulk 1 Bulk 2 Bulk 3               Bulk 4 Bulk 5 Bulk 6 Bulk 7 Bulk 8  \\\n",
       "0    1    NaN    NaN    NaN  2019-05-03 11:21:30    NaN    NaN    NaN    NaN   \n",
       "1    2    NaN    NaN    NaN  2019-05-03 11:46:38    NaN    NaN    NaN    NaN   \n",
       "2    3    NaN    NaN    NaN  2019-05-03 12:31:06    NaN    NaN    NaN    NaN   \n",
       "3    4    NaN    NaN    NaN  2019-05-03 12:48:43    NaN    NaN    NaN    NaN   \n",
       "4    5    NaN    NaN    NaN  2019-05-03 13:18:50    NaN    NaN    NaN    NaN   \n",
       "\n",
       "  Bulk 9 Bulk 10 Bulk 11              Bulk 12 Bulk 13              Bulk 14  \\\n",
       "0    NaN     NaN     NaN  2019-05-03 11:03:52     NaN  2019-05-03 11:03:52   \n",
       "1    NaN     NaN     NaN  2019-05-03 11:40:20     NaN  2019-05-03 11:40:20   \n",
       "2    NaN     NaN     NaN  2019-05-03 12:09:40     NaN  2019-05-03 12:09:40   \n",
       "3    NaN     NaN     NaN  2019-05-03 12:41:24     NaN  2019-05-03 12:41:24   \n",
       "4    NaN     NaN     NaN  2019-05-03 13:12:56     NaN  2019-05-03 13:12:56   \n",
       "\n",
       "               Bulk 15  \n",
       "0  2019-05-03 11:03:52  \n",
       "1  2019-05-03 11:40:20  \n",
       "2  2019-05-03 12:09:40  \n",
       "3  2019-05-03 12:41:24  \n",
       "4  2019-05-03 13:12:56  "
      ]
     },
     "execution_count": 7,
     "metadata": {},
     "output_type": "execute_result"
    }
   ],
   "source": [
    "print(data_bulk_time.info())\n",
    "data_bulk_time.head()"
   ]
  },
  {
   "cell_type": "markdown",
   "id": "interpreted-leisure",
   "metadata": {},
   "source": [
    "В таблице присутствуют 3129 строк и 16 столбцов. Ситуация полностью повторяет предыдущую, с той лишь разницей, что в ячейках записано время добавления материала. Примем допущение, что время подачи материала не влияет на конечную температуру расплава и не будем учитавать эту таблицу в дальнейшей работе."
   ]
  },
  {
   "cell_type": "markdown",
   "id": "alpine-spirit",
   "metadata": {},
   "source": [
    "Выведем информацию о `data_wire`."
   ]
  },
  {
   "cell_type": "code",
   "execution_count": 8,
   "id": "perfect-collapse",
   "metadata": {
    "scrolled": false
   },
   "outputs": [
    {
     "name": "stdout",
     "output_type": "stream",
     "text": [
      "<class 'pandas.core.frame.DataFrame'>\n",
      "RangeIndex: 3081 entries, 0 to 3080\n",
      "Data columns (total 10 columns):\n",
      "key       3081 non-null int64\n",
      "Wire 1    3055 non-null float64\n",
      "Wire 2    1079 non-null float64\n",
      "Wire 3    63 non-null float64\n",
      "Wire 4    14 non-null float64\n",
      "Wire 5    1 non-null float64\n",
      "Wire 6    73 non-null float64\n",
      "Wire 7    11 non-null float64\n",
      "Wire 8    19 non-null float64\n",
      "Wire 9    29 non-null float64\n",
      "dtypes: float64(9), int64(1)\n",
      "memory usage: 240.8 KB\n",
      "None\n"
     ]
    },
    {
     "data": {
      "text/html": [
       "<div>\n",
       "<style scoped>\n",
       "    .dataframe tbody tr th:only-of-type {\n",
       "        vertical-align: middle;\n",
       "    }\n",
       "\n",
       "    .dataframe tbody tr th {\n",
       "        vertical-align: top;\n",
       "    }\n",
       "\n",
       "    .dataframe thead th {\n",
       "        text-align: right;\n",
       "    }\n",
       "</style>\n",
       "<table border=\"1\" class=\"dataframe\">\n",
       "  <thead>\n",
       "    <tr style=\"text-align: right;\">\n",
       "      <th></th>\n",
       "      <th>key</th>\n",
       "      <th>Wire 1</th>\n",
       "      <th>Wire 2</th>\n",
       "      <th>Wire 3</th>\n",
       "      <th>Wire 4</th>\n",
       "      <th>Wire 5</th>\n",
       "      <th>Wire 6</th>\n",
       "      <th>Wire 7</th>\n",
       "      <th>Wire 8</th>\n",
       "      <th>Wire 9</th>\n",
       "    </tr>\n",
       "  </thead>\n",
       "  <tbody>\n",
       "    <tr>\n",
       "      <td>0</td>\n",
       "      <td>1</td>\n",
       "      <td>60.059998</td>\n",
       "      <td>NaN</td>\n",
       "      <td>NaN</td>\n",
       "      <td>NaN</td>\n",
       "      <td>NaN</td>\n",
       "      <td>NaN</td>\n",
       "      <td>NaN</td>\n",
       "      <td>NaN</td>\n",
       "      <td>NaN</td>\n",
       "    </tr>\n",
       "    <tr>\n",
       "      <td>1</td>\n",
       "      <td>2</td>\n",
       "      <td>96.052315</td>\n",
       "      <td>NaN</td>\n",
       "      <td>NaN</td>\n",
       "      <td>NaN</td>\n",
       "      <td>NaN</td>\n",
       "      <td>NaN</td>\n",
       "      <td>NaN</td>\n",
       "      <td>NaN</td>\n",
       "      <td>NaN</td>\n",
       "    </tr>\n",
       "    <tr>\n",
       "      <td>2</td>\n",
       "      <td>3</td>\n",
       "      <td>91.160157</td>\n",
       "      <td>NaN</td>\n",
       "      <td>NaN</td>\n",
       "      <td>NaN</td>\n",
       "      <td>NaN</td>\n",
       "      <td>NaN</td>\n",
       "      <td>NaN</td>\n",
       "      <td>NaN</td>\n",
       "      <td>NaN</td>\n",
       "    </tr>\n",
       "    <tr>\n",
       "      <td>3</td>\n",
       "      <td>4</td>\n",
       "      <td>89.063515</td>\n",
       "      <td>NaN</td>\n",
       "      <td>NaN</td>\n",
       "      <td>NaN</td>\n",
       "      <td>NaN</td>\n",
       "      <td>NaN</td>\n",
       "      <td>NaN</td>\n",
       "      <td>NaN</td>\n",
       "      <td>NaN</td>\n",
       "    </tr>\n",
       "    <tr>\n",
       "      <td>4</td>\n",
       "      <td>5</td>\n",
       "      <td>89.238236</td>\n",
       "      <td>9.11456</td>\n",
       "      <td>NaN</td>\n",
       "      <td>NaN</td>\n",
       "      <td>NaN</td>\n",
       "      <td>NaN</td>\n",
       "      <td>NaN</td>\n",
       "      <td>NaN</td>\n",
       "      <td>NaN</td>\n",
       "    </tr>\n",
       "  </tbody>\n",
       "</table>\n",
       "</div>"
      ],
      "text/plain": [
       "   key     Wire 1   Wire 2  Wire 3  Wire 4  Wire 5  Wire 6  Wire 7  Wire 8  \\\n",
       "0    1  60.059998      NaN     NaN     NaN     NaN     NaN     NaN     NaN   \n",
       "1    2  96.052315      NaN     NaN     NaN     NaN     NaN     NaN     NaN   \n",
       "2    3  91.160157      NaN     NaN     NaN     NaN     NaN     NaN     NaN   \n",
       "3    4  89.063515      NaN     NaN     NaN     NaN     NaN     NaN     NaN   \n",
       "4    5  89.238236  9.11456     NaN     NaN     NaN     NaN     NaN     NaN   \n",
       "\n",
       "   Wire 9  \n",
       "0     NaN  \n",
       "1     NaN  \n",
       "2     NaN  \n",
       "3     NaN  \n",
       "4     NaN  "
      ]
     },
     "execution_count": 8,
     "metadata": {},
     "output_type": "execute_result"
    }
   ],
   "source": [
    "print(data_wire.info())\n",
    "data_wire.head()"
   ]
  },
  {
   "cell_type": "markdown",
   "id": "unnecessary-trout",
   "metadata": {},
   "source": [
    "В таблице присутствуют 3081 строка и 10 столбцов. Пропуски присутствуют во всех столбцах  кроме `key`. Объясняется это так же как и для таблицы `data_bulk`. В дальнейшем нужно будет заполнить такие пропуски нулями."
   ]
  },
  {
   "cell_type": "markdown",
   "id": "comprehensive-ottawa",
   "metadata": {},
   "source": [
    "Выведем информацию о `data_wire_time`."
   ]
  },
  {
   "cell_type": "code",
   "execution_count": 9,
   "id": "hawaiian-nancy",
   "metadata": {
    "scrolled": false
   },
   "outputs": [
    {
     "name": "stdout",
     "output_type": "stream",
     "text": [
      "<class 'pandas.core.frame.DataFrame'>\n",
      "RangeIndex: 3081 entries, 0 to 3080\n",
      "Data columns (total 10 columns):\n",
      "key       3081 non-null int64\n",
      "Wire 1    3055 non-null object\n",
      "Wire 2    1079 non-null object\n",
      "Wire 3    63 non-null object\n",
      "Wire 4    14 non-null object\n",
      "Wire 5    1 non-null object\n",
      "Wire 6    73 non-null object\n",
      "Wire 7    11 non-null object\n",
      "Wire 8    19 non-null object\n",
      "Wire 9    29 non-null object\n",
      "dtypes: int64(1), object(9)\n",
      "memory usage: 240.8+ KB\n",
      "None\n"
     ]
    },
    {
     "data": {
      "text/html": [
       "<div>\n",
       "<style scoped>\n",
       "    .dataframe tbody tr th:only-of-type {\n",
       "        vertical-align: middle;\n",
       "    }\n",
       "\n",
       "    .dataframe tbody tr th {\n",
       "        vertical-align: top;\n",
       "    }\n",
       "\n",
       "    .dataframe thead th {\n",
       "        text-align: right;\n",
       "    }\n",
       "</style>\n",
       "<table border=\"1\" class=\"dataframe\">\n",
       "  <thead>\n",
       "    <tr style=\"text-align: right;\">\n",
       "      <th></th>\n",
       "      <th>key</th>\n",
       "      <th>Wire 1</th>\n",
       "      <th>Wire 2</th>\n",
       "      <th>Wire 3</th>\n",
       "      <th>Wire 4</th>\n",
       "      <th>Wire 5</th>\n",
       "      <th>Wire 6</th>\n",
       "      <th>Wire 7</th>\n",
       "      <th>Wire 8</th>\n",
       "      <th>Wire 9</th>\n",
       "    </tr>\n",
       "  </thead>\n",
       "  <tbody>\n",
       "    <tr>\n",
       "      <td>0</td>\n",
       "      <td>1</td>\n",
       "      <td>2019-05-03 11:11:41</td>\n",
       "      <td>NaN</td>\n",
       "      <td>NaN</td>\n",
       "      <td>NaN</td>\n",
       "      <td>NaN</td>\n",
       "      <td>NaN</td>\n",
       "      <td>NaN</td>\n",
       "      <td>NaN</td>\n",
       "      <td>NaN</td>\n",
       "    </tr>\n",
       "    <tr>\n",
       "      <td>1</td>\n",
       "      <td>2</td>\n",
       "      <td>2019-05-03 11:46:10</td>\n",
       "      <td>NaN</td>\n",
       "      <td>NaN</td>\n",
       "      <td>NaN</td>\n",
       "      <td>NaN</td>\n",
       "      <td>NaN</td>\n",
       "      <td>NaN</td>\n",
       "      <td>NaN</td>\n",
       "      <td>NaN</td>\n",
       "    </tr>\n",
       "    <tr>\n",
       "      <td>2</td>\n",
       "      <td>3</td>\n",
       "      <td>2019-05-03 12:13:47</td>\n",
       "      <td>NaN</td>\n",
       "      <td>NaN</td>\n",
       "      <td>NaN</td>\n",
       "      <td>NaN</td>\n",
       "      <td>NaN</td>\n",
       "      <td>NaN</td>\n",
       "      <td>NaN</td>\n",
       "      <td>NaN</td>\n",
       "    </tr>\n",
       "    <tr>\n",
       "      <td>3</td>\n",
       "      <td>4</td>\n",
       "      <td>2019-05-03 12:48:05</td>\n",
       "      <td>NaN</td>\n",
       "      <td>NaN</td>\n",
       "      <td>NaN</td>\n",
       "      <td>NaN</td>\n",
       "      <td>NaN</td>\n",
       "      <td>NaN</td>\n",
       "      <td>NaN</td>\n",
       "      <td>NaN</td>\n",
       "    </tr>\n",
       "    <tr>\n",
       "      <td>4</td>\n",
       "      <td>5</td>\n",
       "      <td>2019-05-03 13:18:15</td>\n",
       "      <td>2019-05-03 13:32:06</td>\n",
       "      <td>NaN</td>\n",
       "      <td>NaN</td>\n",
       "      <td>NaN</td>\n",
       "      <td>NaN</td>\n",
       "      <td>NaN</td>\n",
       "      <td>NaN</td>\n",
       "      <td>NaN</td>\n",
       "    </tr>\n",
       "  </tbody>\n",
       "</table>\n",
       "</div>"
      ],
      "text/plain": [
       "   key               Wire 1               Wire 2 Wire 3 Wire 4 Wire 5 Wire 6  \\\n",
       "0    1  2019-05-03 11:11:41                  NaN    NaN    NaN    NaN    NaN   \n",
       "1    2  2019-05-03 11:46:10                  NaN    NaN    NaN    NaN    NaN   \n",
       "2    3  2019-05-03 12:13:47                  NaN    NaN    NaN    NaN    NaN   \n",
       "3    4  2019-05-03 12:48:05                  NaN    NaN    NaN    NaN    NaN   \n",
       "4    5  2019-05-03 13:18:15  2019-05-03 13:32:06    NaN    NaN    NaN    NaN   \n",
       "\n",
       "  Wire 7 Wire 8 Wire 9  \n",
       "0    NaN    NaN    NaN  \n",
       "1    NaN    NaN    NaN  \n",
       "2    NaN    NaN    NaN  \n",
       "3    NaN    NaN    NaN  \n",
       "4    NaN    NaN    NaN  "
      ]
     },
     "execution_count": 9,
     "metadata": {},
     "output_type": "execute_result"
    }
   ],
   "source": [
    "print(data_wire_time.info())\n",
    "data_wire_time.head()"
   ]
  },
  {
   "cell_type": "markdown",
   "id": "veterinary-mason",
   "metadata": {},
   "source": [
    "Точно так же как и для таблицы `data_bulk_time` примем допущение о том, что врямо добавки материалов не влияет на конечную температуру расплава."
   ]
  },
  {
   "cell_type": "markdown",
   "id": "therapeutic-fight",
   "metadata": {},
   "source": [
    "Выведем информацию о `data_temp`."
   ]
  },
  {
   "cell_type": "code",
   "execution_count": 10,
   "id": "caroline-australia",
   "metadata": {
    "scrolled": false
   },
   "outputs": [
    {
     "name": "stdout",
     "output_type": "stream",
     "text": [
      "<class 'pandas.core.frame.DataFrame'>\n",
      "RangeIndex: 15907 entries, 0 to 15906\n",
      "Data columns (total 3 columns):\n",
      "key             15907 non-null int64\n",
      "Время замера    15907 non-null object\n",
      "Температура     13006 non-null float64\n",
      "dtypes: float64(1), int64(1), object(1)\n",
      "memory usage: 372.9+ KB\n",
      "None\n"
     ]
    },
    {
     "data": {
      "text/html": [
       "<div>\n",
       "<style scoped>\n",
       "    .dataframe tbody tr th:only-of-type {\n",
       "        vertical-align: middle;\n",
       "    }\n",
       "\n",
       "    .dataframe tbody tr th {\n",
       "        vertical-align: top;\n",
       "    }\n",
       "\n",
       "    .dataframe thead th {\n",
       "        text-align: right;\n",
       "    }\n",
       "</style>\n",
       "<table border=\"1\" class=\"dataframe\">\n",
       "  <thead>\n",
       "    <tr style=\"text-align: right;\">\n",
       "      <th></th>\n",
       "      <th>key</th>\n",
       "      <th>Время замера</th>\n",
       "      <th>Температура</th>\n",
       "    </tr>\n",
       "  </thead>\n",
       "  <tbody>\n",
       "    <tr>\n",
       "      <td>0</td>\n",
       "      <td>1</td>\n",
       "      <td>2019-05-03 11:16:18</td>\n",
       "      <td>1571.0</td>\n",
       "    </tr>\n",
       "    <tr>\n",
       "      <td>1</td>\n",
       "      <td>1</td>\n",
       "      <td>2019-05-03 11:25:53</td>\n",
       "      <td>1604.0</td>\n",
       "    </tr>\n",
       "    <tr>\n",
       "      <td>2</td>\n",
       "      <td>1</td>\n",
       "      <td>2019-05-03 11:29:11</td>\n",
       "      <td>1618.0</td>\n",
       "    </tr>\n",
       "    <tr>\n",
       "      <td>3</td>\n",
       "      <td>1</td>\n",
       "      <td>2019-05-03 11:30:01</td>\n",
       "      <td>1601.0</td>\n",
       "    </tr>\n",
       "    <tr>\n",
       "      <td>4</td>\n",
       "      <td>1</td>\n",
       "      <td>2019-05-03 11:30:39</td>\n",
       "      <td>1613.0</td>\n",
       "    </tr>\n",
       "  </tbody>\n",
       "</table>\n",
       "</div>"
      ],
      "text/plain": [
       "   key         Время замера  Температура\n",
       "0    1  2019-05-03 11:16:18       1571.0\n",
       "1    1  2019-05-03 11:25:53       1604.0\n",
       "2    1  2019-05-03 11:29:11       1618.0\n",
       "3    1  2019-05-03 11:30:01       1601.0\n",
       "4    1  2019-05-03 11:30:39       1613.0"
      ]
     },
     "execution_count": 10,
     "metadata": {},
     "output_type": "execute_result"
    }
   ],
   "source": [
    "print(data_temp.info())\n",
    "data_temp.head()"
   ]
  },
  {
   "cell_type": "markdown",
   "id": "short-frank",
   "metadata": {},
   "source": [
    "В таблице присутствуют 15907 строк и 3 столбца. Пропуски есть только в столбце с температурой. Для каждого `key` необходимо будет проверить наличие начальной и конечной температуры. При отсутствии хотя бы одной из них такую партию нужно убрать из дальнейшего рассмотрения."
   ]
  },
  {
   "cell_type": "markdown",
   "id": "adult-siemens",
   "metadata": {},
   "source": [
    "Выведем информацию о `data_gas`."
   ]
  },
  {
   "cell_type": "code",
   "execution_count": 11,
   "id": "important-logging",
   "metadata": {
    "scrolled": false
   },
   "outputs": [
    {
     "name": "stdout",
     "output_type": "stream",
     "text": [
      "<class 'pandas.core.frame.DataFrame'>\n",
      "RangeIndex: 3239 entries, 0 to 3238\n",
      "Data columns (total 2 columns):\n",
      "key      3239 non-null int64\n",
      "Газ 1    3239 non-null float64\n",
      "dtypes: float64(1), int64(1)\n",
      "memory usage: 50.7 KB\n",
      "None\n"
     ]
    },
    {
     "data": {
      "text/html": [
       "<div>\n",
       "<style scoped>\n",
       "    .dataframe tbody tr th:only-of-type {\n",
       "        vertical-align: middle;\n",
       "    }\n",
       "\n",
       "    .dataframe tbody tr th {\n",
       "        vertical-align: top;\n",
       "    }\n",
       "\n",
       "    .dataframe thead th {\n",
       "        text-align: right;\n",
       "    }\n",
       "</style>\n",
       "<table border=\"1\" class=\"dataframe\">\n",
       "  <thead>\n",
       "    <tr style=\"text-align: right;\">\n",
       "      <th></th>\n",
       "      <th>key</th>\n",
       "      <th>Газ 1</th>\n",
       "    </tr>\n",
       "  </thead>\n",
       "  <tbody>\n",
       "    <tr>\n",
       "      <td>0</td>\n",
       "      <td>1</td>\n",
       "      <td>29.749986</td>\n",
       "    </tr>\n",
       "    <tr>\n",
       "      <td>1</td>\n",
       "      <td>2</td>\n",
       "      <td>12.555561</td>\n",
       "    </tr>\n",
       "    <tr>\n",
       "      <td>2</td>\n",
       "      <td>3</td>\n",
       "      <td>28.554793</td>\n",
       "    </tr>\n",
       "    <tr>\n",
       "      <td>3</td>\n",
       "      <td>4</td>\n",
       "      <td>18.841219</td>\n",
       "    </tr>\n",
       "    <tr>\n",
       "      <td>4</td>\n",
       "      <td>5</td>\n",
       "      <td>5.413692</td>\n",
       "    </tr>\n",
       "  </tbody>\n",
       "</table>\n",
       "</div>"
      ],
      "text/plain": [
       "   key      Газ 1\n",
       "0    1  29.749986\n",
       "1    2  12.555561\n",
       "2    3  28.554793\n",
       "3    4  18.841219\n",
       "4    5   5.413692"
      ]
     },
     "execution_count": 11,
     "metadata": {},
     "output_type": "execute_result"
    }
   ],
   "source": [
    "print(data_gas.info())\n",
    "data_gas.head()"
   ]
  },
  {
   "cell_type": "markdown",
   "id": "shared-benefit",
   "metadata": {},
   "source": [
    "В таблице присутствуют 3239 строк и 2 столбца. Пропусков не обнаружено."
   ]
  },
  {
   "cell_type": "markdown",
   "id": "blond-panel",
   "metadata": {},
   "source": [
    "### Вывод\n",
    "\n",
    "    - Данные загружены и изучены\n",
    "    - В таблицах data_gas и data_arc не обнаружено пропусков\n",
    "    - Таблицы data_wire и data_bulk содержат множество пропусков, которые следует заполнить нулями\n",
    "    - Таблицы data_wire_time и data_bulk_time не будут учитываться в дальнейшем решении задачи\n",
    "    - Таблица data_temp нуждается в дальнейшем изучении."
   ]
  },
  {
   "cell_type": "markdown",
   "id": "extensive-structure",
   "metadata": {},
   "source": [
    "## Обработка данных"
   ]
  },
  {
   "cell_type": "markdown",
   "id": "published-lighting",
   "metadata": {},
   "source": [
    "Для столбцов 'Начало нагрева дугой' и 'Конец нагрева дугой' таблицы `data_arc` и 'Время замера' таблицы `data_temp` поменяем тип данных со строкового на datetime, чтобы была возможность работать со временем."
   ]
  },
  {
   "cell_type": "code",
   "execution_count": 12,
   "id": "happy-coast",
   "metadata": {},
   "outputs": [],
   "source": [
    "data_arc['Начало нагрева дугой'] = pd.to_datetime(data_arc['Начало нагрева дугой'], format='%Y-%m-%d %H:%M:%S')\n",
    "data_arc['Конец нагрева дугой'] = pd.to_datetime(data_arc['Конец нагрева дугой'], format='%Y-%m-%d %H:%M:%S')\n",
    "data_temp['Время замера'] = pd.to_datetime(data_temp['Время замера'], format='%Y-%m-%d %H:%M:%S')"
   ]
  },
  {
   "cell_type": "code",
   "execution_count": 13,
   "id": "registered-delta",
   "metadata": {},
   "outputs": [
    {
     "name": "stdout",
     "output_type": "stream",
     "text": [
      "<class 'pandas.core.frame.DataFrame'>\n",
      "RangeIndex: 14876 entries, 0 to 14875\n",
      "Data columns (total 5 columns):\n",
      "key                     14876 non-null int64\n",
      "Начало нагрева дугой    14876 non-null datetime64[ns]\n",
      "Конец нагрева дугой     14876 non-null datetime64[ns]\n",
      "Активная мощность       14876 non-null float64\n",
      "Реактивная мощность     14876 non-null float64\n",
      "dtypes: datetime64[ns](2), float64(2), int64(1)\n",
      "memory usage: 581.2 KB\n"
     ]
    }
   ],
   "source": [
    "data_arc.info()"
   ]
  },
  {
   "cell_type": "code",
   "execution_count": 14,
   "id": "environmental-economy",
   "metadata": {},
   "outputs": [
    {
     "name": "stdout",
     "output_type": "stream",
     "text": [
      "<class 'pandas.core.frame.DataFrame'>\n",
      "RangeIndex: 15907 entries, 0 to 15906\n",
      "Data columns (total 3 columns):\n",
      "key             15907 non-null int64\n",
      "Время замера    15907 non-null datetime64[ns]\n",
      "Температура     13006 non-null float64\n",
      "dtypes: datetime64[ns](1), float64(1), int64(1)\n",
      "memory usage: 372.9 KB\n"
     ]
    }
   ],
   "source": [
    "data_temp.info()"
   ]
  },
  {
   "cell_type": "markdown",
   "id": "adequate-boutique",
   "metadata": {},
   "source": [
    "Далее заполним все пропущенные значения в таблицах `data_bulk` и `data_wire` нулями."
   ]
  },
  {
   "cell_type": "code",
   "execution_count": 15,
   "id": "southeast-mills",
   "metadata": {},
   "outputs": [
    {
     "name": "stdout",
     "output_type": "stream",
     "text": [
      "<class 'pandas.core.frame.DataFrame'>\n",
      "RangeIndex: 3129 entries, 0 to 3128\n",
      "Data columns (total 16 columns):\n",
      "key        3129 non-null int64\n",
      "Bulk 1     3129 non-null float64\n",
      "Bulk 2     3129 non-null float64\n",
      "Bulk 3     3129 non-null float64\n",
      "Bulk 4     3129 non-null float64\n",
      "Bulk 5     3129 non-null float64\n",
      "Bulk 6     3129 non-null float64\n",
      "Bulk 7     3129 non-null float64\n",
      "Bulk 8     3129 non-null float64\n",
      "Bulk 9     3129 non-null float64\n",
      "Bulk 10    3129 non-null float64\n",
      "Bulk 11    3129 non-null float64\n",
      "Bulk 12    3129 non-null float64\n",
      "Bulk 13    3129 non-null float64\n",
      "Bulk 14    3129 non-null float64\n",
      "Bulk 15    3129 non-null float64\n",
      "dtypes: float64(15), int64(1)\n",
      "memory usage: 391.2 KB\n"
     ]
    }
   ],
   "source": [
    "data_bulk = data_bulk.fillna(0)\n",
    "data_bulk.info()"
   ]
  },
  {
   "cell_type": "code",
   "execution_count": 16,
   "id": "sporting-fourth",
   "metadata": {},
   "outputs": [
    {
     "name": "stdout",
     "output_type": "stream",
     "text": [
      "<class 'pandas.core.frame.DataFrame'>\n",
      "RangeIndex: 3081 entries, 0 to 3080\n",
      "Data columns (total 10 columns):\n",
      "key       3081 non-null int64\n",
      "Wire 1    3081 non-null float64\n",
      "Wire 2    3081 non-null float64\n",
      "Wire 3    3081 non-null float64\n",
      "Wire 4    3081 non-null float64\n",
      "Wire 5    3081 non-null float64\n",
      "Wire 6    3081 non-null float64\n",
      "Wire 7    3081 non-null float64\n",
      "Wire 8    3081 non-null float64\n",
      "Wire 9    3081 non-null float64\n",
      "dtypes: float64(9), int64(1)\n",
      "memory usage: 240.8 KB\n"
     ]
    }
   ],
   "source": [
    "data_wire = data_wire.fillna(0)\n",
    "data_wire.info()"
   ]
  },
  {
   "cell_type": "markdown",
   "id": "forty-animal",
   "metadata": {},
   "source": [
    "### Вывод\n",
    "\n",
    "    - В таблицах data_arc и data_temp изменен тип данных колонок со временем совершения измерений на datetime64\n",
    "    - В таблицах data_bulk и data_wire пропуски были заполнены нулями."
   ]
  },
  {
   "cell_type": "markdown",
   "id": "authorized-petroleum",
   "metadata": {},
   "source": [
    "## Исследовательский анализ"
   ]
  },
  {
   "cell_type": "markdown",
   "id": "altered-ranking",
   "metadata": {},
   "source": [
    "Посмотрим на гистограммы распределения сыпучих и проволочных материалов."
   ]
  },
  {
   "cell_type": "code",
   "execution_count": 17,
   "id": "smaller-desperate",
   "metadata": {},
   "outputs": [
    {
     "data": {
      "image/png": "[encoded data removed]",
      "text/plain": [
       "<Figure size 1728x1080 with 15 Axes>"
      ]
     },
     "metadata": {
      "needs_background": "light"
     },
     "output_type": "display_data"
    }
   ],
   "source": [
    "def histogram(df, rows, cols, x):\n",
    "    i=1\n",
    "    plt.figure(figsize=(rows*8, cols*3))\n",
    "    for col in list(df.columns.drop('key')):\n",
    "        plt.subplot(rows, cols, i)\n",
    "        df[df[col] != 0][col].plot(kind='hist', bins=30)\n",
    "        plt.xlabel(x)\n",
    "        plt.ylabel('Количество')\n",
    "        plt.title(col)\n",
    "        i += 1\n",
    "\n",
    "histogram(data_bulk, 3, 5, 'Объем')"
   ]
  },
  {
   "cell_type": "code",
   "execution_count": 18,
   "id": "middle-caution",
   "metadata": {},
   "outputs": [
    {
     "data": {
      "image/png": "[encoded data removed]",
      "text/plain": [
       "<Figure size 1728x1080 with 9 Axes>"
      ]
     },
     "metadata": {
      "needs_background": "light"
     },
     "output_type": "display_data"
    }
   ],
   "source": [
    "histogram(data_wire, 3, 5, 'Объем')"
   ]
  },
  {
   "cell_type": "markdown",
   "id": "thermal-indication",
   "metadata": {},
   "source": [
    "Можно заметить, что для столбцов с большим числом добавок распределения по объему близки нормальному или Пуассоновскому распределению. Для некоторых столбцов (Bulk 12 и 15) характерны явные превышающие остальные значения пики, которые расположены на \"круглых\" значениях объема, что скорее всего связано с человеческих желанием видеть \"красивые\" округленные числа. Так как таких значений много, то за аномалии это считать не будем. Для тех же столбцов, где число добавок не велико, распределение носит случайный характер. Пока что будем считать, что явных выбросов в этих таблицах нет."
   ]
  },
  {
   "cell_type": "markdown",
   "id": "derived-cassette",
   "metadata": {},
   "source": [
    "Посмотрим на распределение значений активной и реактивной мощности в таблице `data_arc`."
   ]
  },
  {
   "cell_type": "code",
   "execution_count": 19,
   "id": "racial-consent",
   "metadata": {},
   "outputs": [
    {
     "data": {
      "image/png": "[encoded data removed]",
      "text/plain": [
       "<Figure size 1152x648 with 2 Axes>"
      ]
     },
     "metadata": {
      "needs_background": "light"
     },
     "output_type": "display_data"
    }
   ],
   "source": [
    "histogram(data_arc.drop(['Начало нагрева дугой', 'Конец нагрева дугой'], axis=1), 2, 3, 'Единицы измерения мощности')"
   ]
  },
  {
   "cell_type": "markdown",
   "id": "reported-pharmacology",
   "metadata": {},
   "source": [
    "Активная мощность представляет из себя нормальное распределение со скосом вправо. Без глубокого понимания тех.процесса нельзя сказать почему так происходит. А вот Реактивная мощность выглядит как одна единственная колонка, поэтому нужно вывести ее описание, boxplot и перестроить без учета выбросов."
   ]
  },
  {
   "cell_type": "code",
   "execution_count": 20,
   "id": "behind-silver",
   "metadata": {},
   "outputs": [
    {
     "data": {
      "text/plain": [
       "count    14876.000000\n",
       "mean         0.452592\n",
       "std          5.878702\n",
       "min       -715.504924\n",
       "25%          0.290991\n",
       "50%          0.415962\n",
       "75%          0.637371\n",
       "max          2.676388\n",
       "Name: Реактивная мощность, dtype: float64"
      ]
     },
     "execution_count": 20,
     "metadata": {},
     "output_type": "execute_result"
    }
   ],
   "source": [
    "data_arc['Реактивная мощность'].describe()"
   ]
  },
  {
   "cell_type": "markdown",
   "id": "ancient-counter",
   "metadata": {},
   "source": [
    "Уже из описания видно, что значение минимальной мощности в 715 выглядит странно. Нужно взглянуть на boxplot."
   ]
  },
  {
   "cell_type": "code",
   "execution_count": 21,
   "id": "sustainable-plaintiff",
   "metadata": {},
   "outputs": [
    {
     "data": {
      "image/png": "[encoded data removed]",
      "text/plain": [
       "<Figure size 432x288 with 1 Axes>"
      ]
     },
     "metadata": {
      "needs_background": "light"
     },
     "output_type": "display_data"
    }
   ],
   "source": [
    "plt.ylim([-0.5, 1.5])\n",
    "data_arc.boxplot(['Реактивная мощность'])\n",
    "plt.show()"
   ]
  },
  {
   "cell_type": "markdown",
   "id": "pending-threat",
   "metadata": {},
   "source": [
    "Избавимся от выбросов."
   ]
  },
  {
   "cell_type": "code",
   "execution_count": 22,
   "id": "ceramic-nevada",
   "metadata": {},
   "outputs": [
    {
     "data": {
      "image/png": "[encoded data removed]",
      "text/plain": [
       "<Figure size 432x288 with 1 Axes>"
      ]
     },
     "metadata": {
      "needs_background": "light"
     },
     "output_type": "display_data"
    }
   ],
   "source": [
    "data_arc = data_arc[(data_arc['Реактивная мощность'] < 1.25) & (data_arc['Реактивная мощность'] > -0.25)]\n",
    "data_arc.boxplot(['Реактивная мощность'])\n",
    "plt.show()"
   ]
  },
  {
   "cell_type": "markdown",
   "id": "allied-hygiene",
   "metadata": {},
   "source": [
    "Повторно построим гистограмму для реактивной мощности."
   ]
  },
  {
   "cell_type": "code",
   "execution_count": 23,
   "id": "living-nebraska",
   "metadata": {},
   "outputs": [
    {
     "data": {
      "image/png": "[encoded data removed]",
      "text/plain": [
       "<Figure size 432x288 with 1 Axes>"
      ]
     },
     "metadata": {
      "needs_background": "light"
     },
     "output_type": "display_data"
    }
   ],
   "source": [
    "data_arc['Реактивная мощность'].hist(bins=30)\n",
    "plt.title('Реактивная мощность')\n",
    "plt.xlabel('Единицы измерения мощности')\n",
    "plt.ylabel('Количество')\n",
    "plt.show()"
   ]
  },
  {
   "cell_type": "markdown",
   "id": "compatible-pavilion",
   "metadata": {},
   "source": [
    "Теперь распределение похоже на нормальное со скосом вправо, как и у активной мощности."
   ]
  },
  {
   "cell_type": "markdown",
   "id": "understanding-method",
   "metadata": {},
   "source": [
    "На всякий случай проверим boxplot у Активной мощности."
   ]
  },
  {
   "cell_type": "code",
   "execution_count": 24,
   "id": "second-relief",
   "metadata": {},
   "outputs": [
    {
     "data": {
      "image/png": "[encoded data removed]",
      "text/plain": [
       "<Figure size 432x288 with 1 Axes>"
      ]
     },
     "metadata": {
      "needs_background": "light"
     },
     "output_type": "display_data"
    }
   ],
   "source": [
    "data_arc.boxplot(['Активная мощность'])\n",
    "plt.show()"
   ]
  },
  {
   "cell_type": "markdown",
   "id": "still-economics",
   "metadata": {},
   "source": [
    "Удалим небольшое число выбросов."
   ]
  },
  {
   "cell_type": "code",
   "execution_count": 25,
   "id": "detailed-visitor",
   "metadata": {},
   "outputs": [
    {
     "data": {
      "image/png": "[encoded data removed]",
      "text/plain": [
       "<Figure size 432x288 with 1 Axes>"
      ]
     },
     "metadata": {
      "needs_background": "light"
     },
     "output_type": "display_data"
    }
   ],
   "source": [
    "data_arc = data_arc[data_arc['Активная мощность'] < 1.5]\n",
    "data_arc.boxplot(['Активная мощность'])\n",
    "plt.show()"
   ]
  },
  {
   "cell_type": "markdown",
   "id": "prescription-swimming",
   "metadata": {},
   "source": [
    "Проверим связь активной и реактивной мощностей."
   ]
  },
  {
   "cell_type": "code",
   "execution_count": 26,
   "id": "cathedral-nomination",
   "metadata": {},
   "outputs": [
    {
     "name": "stdout",
     "output_type": "stream",
     "text": [
      "Корреляция мощностей: 95.26%\n"
     ]
    }
   ],
   "source": [
    "print('Корреляция мощностей: {:.2%}'.format(data_arc['Активная мощность'].corr(data_arc['Реактивная мощность'])))"
   ]
  },
  {
   "cell_type": "markdown",
   "id": "global-closure",
   "metadata": {},
   "source": [
    "Обнаружена очень сильная взаимосвязь активной и реактивной мощностей. Это не удивительно, так как они являются ортогональными векторами и сумма этих векторов дает полную мощность, с которой мы будем работать в следующем разделе. Построим точечный график распределения этих величин относительно друг друга."
   ]
  },
  {
   "cell_type": "code",
   "execution_count": 27,
   "id": "lasting-radical",
   "metadata": {},
   "outputs": [
    {
     "data": {
      "image/png": "[encoded data removed]",
      "text/plain": [
       "<Figure size 864x648 with 1 Axes>"
      ]
     },
     "metadata": {
      "needs_background": "light"
     },
     "output_type": "display_data"
    }
   ],
   "source": [
    "data_arc.plot(x='Активная мощность', y='Реактивная мощность', kind='scatter', figsize=(12, 9), alpha=0.1)\n",
    "plt.title('Связь мощностей')\n",
    "plt.show()"
   ]
  },
  {
   "cell_type": "markdown",
   "id": "egyptian-concert",
   "metadata": {},
   "source": [
    "График подтверждает наличие линейной взаимосвязи этих величин."
   ]
  },
  {
   "cell_type": "markdown",
   "id": "suitable-savage",
   "metadata": {},
   "source": [
    "Построим распределение данный о продувке сплава газом."
   ]
  },
  {
   "cell_type": "code",
   "execution_count": 28,
   "id": "reverse-enough",
   "metadata": {},
   "outputs": [
    {
     "data": {
      "image/png": "[encoded data removed]",
      "text/plain": [
       "<Figure size 648x432 with 1 Axes>"
      ]
     },
     "metadata": {
      "needs_background": "light"
     },
     "output_type": "display_data"
    }
   ],
   "source": [
    "data_gas['Газ 1'].hist(bins=30, figsize=(9, 6))\n",
    "plt.xlabel('Объем газа')\n",
    "plt.ylabel('Количество')\n",
    "plt.title('Данные о продувке газом')\n",
    "plt.show()"
   ]
  },
  {
   "cell_type": "markdown",
   "id": "coordinated-christopher",
   "metadata": {},
   "source": [
    "Распределение близко к нормальному, но здесь явно присутсвуют выбросы."
   ]
  },
  {
   "cell_type": "markdown",
   "id": "important-compatibility",
   "metadata": {},
   "source": [
    "Избавимся от них."
   ]
  },
  {
   "cell_type": "code",
   "execution_count": 29,
   "id": "catholic-testing",
   "metadata": {},
   "outputs": [
    {
     "data": {
      "image/png": "[encoded data removed]",
      "text/plain": [
       "<Figure size 432x288 with 1 Axes>"
      ]
     },
     "metadata": {
      "needs_background": "light"
     },
     "output_type": "display_data"
    }
   ],
   "source": [
    "data_gas.boxplot('Газ 1')\n",
    "plt.show()"
   ]
  },
  {
   "cell_type": "code",
   "execution_count": 30,
   "id": "activated-drive",
   "metadata": {},
   "outputs": [
    {
     "data": {
      "image/png": "[encoded data removed]",
      "text/plain": [
       "<Figure size 432x288 with 1 Axes>"
      ]
     },
     "metadata": {
      "needs_background": "light"
     },
     "output_type": "display_data"
    }
   ],
   "source": [
    "data_gas = data_gas[data_gas['Газ 1'] < 24]\n",
    "data_gas.boxplot('Газ 1')\n",
    "plt.show()"
   ]
  },
  {
   "cell_type": "markdown",
   "id": "ranking-blast",
   "metadata": {},
   "source": [
    "Построим гистограмму распределения температур."
   ]
  },
  {
   "cell_type": "code",
   "execution_count": 31,
   "id": "marine-career",
   "metadata": {},
   "outputs": [
    {
     "data": {
      "image/png": "[encoded data removed]",
      "text/plain": [
       "<Figure size 648x432 with 1 Axes>"
      ]
     },
     "metadata": {
      "needs_background": "light"
     },
     "output_type": "display_data"
    }
   ],
   "source": [
    "data_temp['Температура'].hist(bins=150, figsize=(9, 6))\n",
    "plt.title('Распределение температуры')\n",
    "plt.xlabel('Температура')\n",
    "plt.ylabel('Количество')\n",
    "plt.show()"
   ]
  },
  {
   "cell_type": "markdown",
   "id": "raising-cabinet",
   "metadata": {},
   "source": [
    "Распределение температуры можно считать нормальным."
   ]
  },
  {
   "cell_type": "code",
   "execution_count": 32,
   "id": "flying-antibody",
   "metadata": {},
   "outputs": [
    {
     "data": {
      "image/png": "[encoded data removed]",
      "text/plain": [
       "<Figure size 432x288 with 1 Axes>"
      ]
     },
     "metadata": {
      "needs_background": "light"
     },
     "output_type": "display_data"
    }
   ],
   "source": [
    "data_temp.boxplot('Температура')\n",
    "plt.show()"
   ]
  },
  {
   "cell_type": "markdown",
   "id": "present-travel",
   "metadata": {},
   "source": [
    "В обработкой температуры следует быть аккуратным, так как дальнейшее обучение модели будет сильно зависеть от оставшихся значений. Примем решение удалить только явные выбросы (T < 1500)."
   ]
  },
  {
   "cell_type": "code",
   "execution_count": 33,
   "id": "tender-relation",
   "metadata": {},
   "outputs": [
    {
     "data": {
      "image/png": "[encoded data removed]",
      "text/plain": [
       "<Figure size 432x288 with 1 Axes>"
      ]
     },
     "metadata": {
      "needs_background": "light"
     },
     "output_type": "display_data"
    }
   ],
   "source": [
    "data_temp = data_temp[data_temp['Температура'] > 1500]\n",
    "data_temp.boxplot('Температура')\n",
    "plt.show()"
   ]
  },
  {
   "cell_type": "markdown",
   "id": "rising-procurement",
   "metadata": {},
   "source": [
    "Построим точечную диаграмму, показывающую количество измерений температуры, и узнаем, есть ли такие партии, для которых их измерено меньше 2."
   ]
  },
  {
   "cell_type": "code",
   "execution_count": 34,
   "id": "sufficient-drove",
   "metadata": {},
   "outputs": [
    {
     "data": {
      "image/png": "[encoded data removed]",
      "text/plain": [
       "<Figure size 1080x648 with 1 Axes>"
      ]
     },
     "metadata": {
      "needs_background": "light"
     },
     "output_type": "display_data"
    }
   ],
   "source": [
    "(data_temp['key']\n",
    " .value_counts()\n",
    " .sort_index()\n",
    " .plot(style='o', figsize=(15, 9)))\n",
    "plt.title('Диаграмма количества измерений температуры по партиям')\n",
    "plt.xlabel('Номер партии')\n",
    "plt.ylabel('Количество измерений')\n",
    "plt.show()"
   ]
  },
  {
   "cell_type": "markdown",
   "id": "authorized-brick",
   "metadata": {},
   "source": [
    "Избавимся от партий с 1 измерением температуры."
   ]
  },
  {
   "cell_type": "code",
   "execution_count": 35,
   "id": "extended-explanation",
   "metadata": {},
   "outputs": [
    {
     "data": {
      "image/png": "[encoded data removed]",
      "text/plain": [
       "<Figure size 1080x648 with 1 Axes>"
      ]
     },
     "metadata": {
      "needs_background": "light"
     },
     "output_type": "display_data"
    }
   ],
   "source": [
    "keys = data_temp['key'].value_counts()\n",
    "keys_not_1_index = keys[keys != 1].index\n",
    "data_temp = data_temp[data_temp['key'].isin(keys_not_1_index)]\n",
    "\n",
    "(data_temp['key']\n",
    " .value_counts()\n",
    " .sort_index()\n",
    " .plot(style='o', figsize=(15, 9)))\n",
    "plt.title('Диаграмма количества измерений температуры по партиям')\n",
    "plt.xlabel('Номер партии')\n",
    "plt.ylabel('Количество измерений')\n",
    "plt.show()"
   ]
  },
  {
   "cell_type": "code",
   "execution_count": 36,
   "id": "adequate-index",
   "metadata": {},
   "outputs": [
    {
     "name": "stdout",
     "output_type": "stream",
     "text": [
      "<class 'pandas.core.frame.DataFrame'>\n",
      "Int64Index: 12259 entries, 0 to 12266\n",
      "Data columns (total 3 columns):\n",
      "key             12259 non-null int64\n",
      "Время замера    12259 non-null datetime64[ns]\n",
      "Температура     12259 non-null float64\n",
      "dtypes: datetime64[ns](1), float64(1), int64(1)\n",
      "memory usage: 383.1 KB\n"
     ]
    }
   ],
   "source": [
    "data_temp.info()"
   ]
  },
  {
   "cell_type": "markdown",
   "id": "elect-value",
   "metadata": {},
   "source": [
    "В таблице `data_temp` после удаления партий с одним измерением исчезли все пропуски."
   ]
  },
  {
   "cell_type": "markdown",
   "id": "actual-spain",
   "metadata": {},
   "source": [
    "### Вывод\n",
    "\n",
    "Был проведен исследовательский анализ данных, в ходе которого выяснилось, что распределение большинства непрерывных признаков нормальное со скосом вправо или Пуассоновское при достаточном количестве объектов. Так же была обнаружена сильная линейная связь активной и реактивной мощностей, что может говорить о том, что их можно объединить в один признак без ущерба по качеству для будущих моделей. Диаграмма распределения количества измерений температуры по партиям показала, что от партии к партии количество измерений серьезно отличается, что может быть связано как со временем между первым и последним измерением, но это в работе не исследовалось, так как в дальнейшем использоваться не планируется. Выбросы и аномалии были удалены."
   ]
  },
  {
   "cell_type": "markdown",
   "id": "proof-philip",
   "metadata": {},
   "source": [
    "## Объединение данных и создание новых признаков"
   ]
  },
  {
   "cell_type": "markdown",
   "id": "included-theater",
   "metadata": {},
   "source": [
    "Теперь необходимо объединить данные в одной таблице. Но для начала получим сводную таблицу по мощности."
   ]
  },
  {
   "cell_type": "code",
   "execution_count": 37,
   "id": "packed-factor",
   "metadata": {},
   "outputs": [
    {
     "data": {
      "text/html": [
       "<div>\n",
       "<style scoped>\n",
       "    .dataframe tbody tr th:only-of-type {\n",
       "        vertical-align: middle;\n",
       "    }\n",
       "\n",
       "    .dataframe tbody tr th {\n",
       "        vertical-align: top;\n",
       "    }\n",
       "\n",
       "    .dataframe thead th {\n",
       "        text-align: right;\n",
       "    }\n",
       "</style>\n",
       "<table border=\"1\" class=\"dataframe\">\n",
       "  <thead>\n",
       "    <tr style=\"text-align: right;\">\n",
       "      <th></th>\n",
       "      <th>Активная мощность</th>\n",
       "      <th>Реактивная мощность</th>\n",
       "    </tr>\n",
       "    <tr>\n",
       "      <th>key</th>\n",
       "      <th></th>\n",
       "      <th></th>\n",
       "    </tr>\n",
       "  </thead>\n",
       "  <tbody>\n",
       "    <tr>\n",
       "      <td>1</td>\n",
       "      <td>0.804696</td>\n",
       "      <td>0.530143</td>\n",
       "    </tr>\n",
       "    <tr>\n",
       "      <td>2</td>\n",
       "      <td>0.763150</td>\n",
       "      <td>0.499528</td>\n",
       "    </tr>\n",
       "    <tr>\n",
       "      <td>3</td>\n",
       "      <td>0.505176</td>\n",
       "      <td>0.319815</td>\n",
       "    </tr>\n",
       "    <tr>\n",
       "      <td>4</td>\n",
       "      <td>0.802313</td>\n",
       "      <td>0.515074</td>\n",
       "    </tr>\n",
       "    <tr>\n",
       "      <td>5</td>\n",
       "      <td>0.575169</td>\n",
       "      <td>0.401622</td>\n",
       "    </tr>\n",
       "  </tbody>\n",
       "</table>\n",
       "</div>"
      ],
      "text/plain": [
       "     Активная мощность  Реактивная мощность\n",
       "key                                        \n",
       "1             0.804696             0.530143\n",
       "2             0.763150             0.499528\n",
       "3             0.505176             0.319815\n",
       "4             0.802313             0.515074\n",
       "5             0.575169             0.401622"
      ]
     },
     "execution_count": 37,
     "metadata": {},
     "output_type": "execute_result"
    }
   ],
   "source": [
    "power_mean = pd.pivot_table(data_arc, index='key', values=['Активная мощность', 'Реактивная мощность'], aggfunc=['mean'])\n",
    "power_mean.columns = ['Активная мощность', 'Реактивная мощность']\n",
    "power_mean.head()"
   ]
  },
  {
   "cell_type": "markdown",
   "id": "sealed-technical",
   "metadata": {},
   "source": [
    "Получим суммарное время и количество нагревов дуг для кажной партии."
   ]
  },
  {
   "cell_type": "code",
   "execution_count": 38,
   "id": "chemical-hierarchy",
   "metadata": {},
   "outputs": [
    {
     "data": {
      "text/html": [
       "<div>\n",
       "<style scoped>\n",
       "    .dataframe tbody tr th:only-of-type {\n",
       "        vertical-align: middle;\n",
       "    }\n",
       "\n",
       "    .dataframe tbody tr th {\n",
       "        vertical-align: top;\n",
       "    }\n",
       "\n",
       "    .dataframe thead th {\n",
       "        text-align: right;\n",
       "    }\n",
       "</style>\n",
       "<table border=\"1\" class=\"dataframe\">\n",
       "  <thead>\n",
       "    <tr style=\"text-align: right;\">\n",
       "      <th></th>\n",
       "      <th>Время нагрева дуг</th>\n",
       "    </tr>\n",
       "    <tr>\n",
       "      <th>key</th>\n",
       "      <th></th>\n",
       "    </tr>\n",
       "  </thead>\n",
       "  <tbody>\n",
       "    <tr>\n",
       "      <td>1</td>\n",
       "      <td>733</td>\n",
       "    </tr>\n",
       "    <tr>\n",
       "      <td>2</td>\n",
       "      <td>811</td>\n",
       "    </tr>\n",
       "    <tr>\n",
       "      <td>3</td>\n",
       "      <td>655</td>\n",
       "    </tr>\n",
       "    <tr>\n",
       "      <td>4</td>\n",
       "      <td>741</td>\n",
       "    </tr>\n",
       "    <tr>\n",
       "      <td>5</td>\n",
       "      <td>454</td>\n",
       "    </tr>\n",
       "    <tr>\n",
       "      <td>...</td>\n",
       "      <td>...</td>\n",
       "    </tr>\n",
       "    <tr>\n",
       "      <td>3237</td>\n",
       "      <td>909</td>\n",
       "    </tr>\n",
       "    <tr>\n",
       "      <td>3238</td>\n",
       "      <td>546</td>\n",
       "    </tr>\n",
       "    <tr>\n",
       "      <td>3239</td>\n",
       "      <td>1216</td>\n",
       "    </tr>\n",
       "    <tr>\n",
       "      <td>3240</td>\n",
       "      <td>839</td>\n",
       "    </tr>\n",
       "    <tr>\n",
       "      <td>3241</td>\n",
       "      <td>659</td>\n",
       "    </tr>\n",
       "  </tbody>\n",
       "</table>\n",
       "<p>3214 rows × 1 columns</p>\n",
       "</div>"
      ],
      "text/plain": [
       "      Время нагрева дуг\n",
       "key                    \n",
       "1                   733\n",
       "2                   811\n",
       "3                   655\n",
       "4                   741\n",
       "5                   454\n",
       "...                 ...\n",
       "3237                909\n",
       "3238                546\n",
       "3239               1216\n",
       "3240                839\n",
       "3241                659\n",
       "\n",
       "[3214 rows x 1 columns]"
      ]
     },
     "execution_count": 38,
     "metadata": {},
     "output_type": "execute_result"
    }
   ],
   "source": [
    "time_heat = data_arc.copy()\n",
    "time_heat['Разница времени'] = (data_arc['Конец нагрева дугой'] - data_arc['Начало нагрева дугой']).dt.seconds\n",
    "time_heat = pd.pivot_table(time_heat, index='key', values='Разница времени', aggfunc=['sum'])\n",
    "time_heat.columns = ['Время нагрева дуг']\n",
    "time_heat"
   ]
  },
  {
   "cell_type": "markdown",
   "id": "present-approval",
   "metadata": {},
   "source": [
    "Получим начальную и конечную температуру для каждой партии."
   ]
  },
  {
   "cell_type": "code",
   "execution_count": 39,
   "id": "chronic-breakfast",
   "metadata": {},
   "outputs": [
    {
     "data": {
      "text/html": [
       "<div>\n",
       "<style scoped>\n",
       "    .dataframe tbody tr th:only-of-type {\n",
       "        vertical-align: middle;\n",
       "    }\n",
       "\n",
       "    .dataframe tbody tr th {\n",
       "        vertical-align: top;\n",
       "    }\n",
       "\n",
       "    .dataframe thead th {\n",
       "        text-align: right;\n",
       "    }\n",
       "</style>\n",
       "<table border=\"1\" class=\"dataframe\">\n",
       "  <thead>\n",
       "    <tr style=\"text-align: right;\">\n",
       "      <th></th>\n",
       "      <th>Начальная температура</th>\n",
       "      <th>Конечная температура</th>\n",
       "    </tr>\n",
       "    <tr>\n",
       "      <th>key</th>\n",
       "      <th></th>\n",
       "      <th></th>\n",
       "    </tr>\n",
       "  </thead>\n",
       "  <tbody>\n",
       "    <tr>\n",
       "      <td>1</td>\n",
       "      <td>1571.0</td>\n",
       "      <td>1613.0</td>\n",
       "    </tr>\n",
       "    <tr>\n",
       "      <td>2</td>\n",
       "      <td>1581.0</td>\n",
       "      <td>1602.0</td>\n",
       "    </tr>\n",
       "    <tr>\n",
       "      <td>3</td>\n",
       "      <td>1596.0</td>\n",
       "      <td>1599.0</td>\n",
       "    </tr>\n",
       "    <tr>\n",
       "      <td>4</td>\n",
       "      <td>1601.0</td>\n",
       "      <td>1625.0</td>\n",
       "    </tr>\n",
       "    <tr>\n",
       "      <td>5</td>\n",
       "      <td>1576.0</td>\n",
       "      <td>1602.0</td>\n",
       "    </tr>\n",
       "  </tbody>\n",
       "</table>\n",
       "</div>"
      ],
      "text/plain": [
       "     Начальная температура  Конечная температура\n",
       "key                                             \n",
       "1                   1571.0                1613.0\n",
       "2                   1581.0                1602.0\n",
       "3                   1596.0                1599.0\n",
       "4                   1601.0                1625.0\n",
       "5                   1576.0                1602.0"
      ]
     },
     "execution_count": 39,
     "metadata": {},
     "output_type": "execute_result"
    }
   ],
   "source": [
    "temp = pd.pivot_table(data_temp, index='key', values='Температура', aggfunc=['first', 'last'])\n",
    "temp.columns = ['Начальная температура', 'Конечная температура']\n",
    "temp.head()"
   ]
  },
  {
   "cell_type": "code",
   "execution_count": 40,
   "id": "hundred-focus",
   "metadata": {},
   "outputs": [
    {
     "data": {
      "text/plain": [
       "key\n",
       "1     861\n",
       "2    1305\n",
       "3    1300\n",
       "4     388\n",
       "5     762\n",
       "Name: Время замеров, dtype: int64"
      ]
     },
     "execution_count": 40,
     "metadata": {},
     "output_type": "execute_result"
    }
   ],
   "source": [
    "dur = pd.pivot_table(data_temp, index='key', values='Время замера', aggfunc=['first', 'last'])\n",
    "dur.columns = ['time first', 'time last']\n",
    "dur['Время замеров'] = (dur['time last'] - dur['time first']).dt.seconds\n",
    "dur = dur['Время замеров']\n",
    "dur.head()"
   ]
  },
  {
   "cell_type": "markdown",
   "id": "infectious-climate",
   "metadata": {},
   "source": [
    "Объединим все предыдущие таблицы из этого раздела, а также `data_bulk` и `data_wire` в одну, установив за индекс столбец с номером партии `key`."
   ]
  },
  {
   "cell_type": "code",
   "execution_count": 41,
   "id": "minimal-luther",
   "metadata": {
    "scrolled": true
   },
   "outputs": [
    {
     "data": {
      "text/html": [
       "<div>\n",
       "<style scoped>\n",
       "    .dataframe tbody tr th:only-of-type {\n",
       "        vertical-align: middle;\n",
       "    }\n",
       "\n",
       "    .dataframe tbody tr th {\n",
       "        vertical-align: top;\n",
       "    }\n",
       "\n",
       "    .dataframe thead th {\n",
       "        text-align: right;\n",
       "    }\n",
       "</style>\n",
       "<table border=\"1\" class=\"dataframe\">\n",
       "  <thead>\n",
       "    <tr style=\"text-align: right;\">\n",
       "      <th></th>\n",
       "      <th>Начальная температура</th>\n",
       "      <th>Конечная температура</th>\n",
       "      <th>Время нагрева дуг</th>\n",
       "      <th>Время замеров</th>\n",
       "      <th>Активная мощность</th>\n",
       "      <th>Реактивная мощность</th>\n",
       "      <th>Газ 1</th>\n",
       "      <th>Bulk 1</th>\n",
       "      <th>Bulk 2</th>\n",
       "      <th>Bulk 3</th>\n",
       "      <th>...</th>\n",
       "      <th>Bulk 15</th>\n",
       "      <th>Wire 1</th>\n",
       "      <th>Wire 2</th>\n",
       "      <th>Wire 3</th>\n",
       "      <th>Wire 4</th>\n",
       "      <th>Wire 5</th>\n",
       "      <th>Wire 6</th>\n",
       "      <th>Wire 7</th>\n",
       "      <th>Wire 8</th>\n",
       "      <th>Wire 9</th>\n",
       "    </tr>\n",
       "    <tr>\n",
       "      <th>key</th>\n",
       "      <th></th>\n",
       "      <th></th>\n",
       "      <th></th>\n",
       "      <th></th>\n",
       "      <th></th>\n",
       "      <th></th>\n",
       "      <th></th>\n",
       "      <th></th>\n",
       "      <th></th>\n",
       "      <th></th>\n",
       "      <th></th>\n",
       "      <th></th>\n",
       "      <th></th>\n",
       "      <th></th>\n",
       "      <th></th>\n",
       "      <th></th>\n",
       "      <th></th>\n",
       "      <th></th>\n",
       "      <th></th>\n",
       "      <th></th>\n",
       "      <th></th>\n",
       "    </tr>\n",
       "  </thead>\n",
       "  <tbody>\n",
       "    <tr>\n",
       "      <td>2</td>\n",
       "      <td>1581.0</td>\n",
       "      <td>1602.0</td>\n",
       "      <td>811</td>\n",
       "      <td>1305</td>\n",
       "      <td>0.763150</td>\n",
       "      <td>0.499528</td>\n",
       "      <td>12.555561</td>\n",
       "      <td>0.0</td>\n",
       "      <td>0.0</td>\n",
       "      <td>0.0</td>\n",
       "      <td>...</td>\n",
       "      <td>154.0</td>\n",
       "      <td>96.052315</td>\n",
       "      <td>0.00000</td>\n",
       "      <td>0.0</td>\n",
       "      <td>0.0</td>\n",
       "      <td>0.0</td>\n",
       "      <td>0.0</td>\n",
       "      <td>0.0</td>\n",
       "      <td>0.0</td>\n",
       "      <td>0.0</td>\n",
       "    </tr>\n",
       "    <tr>\n",
       "      <td>4</td>\n",
       "      <td>1601.0</td>\n",
       "      <td>1625.0</td>\n",
       "      <td>741</td>\n",
       "      <td>388</td>\n",
       "      <td>0.802313</td>\n",
       "      <td>0.515074</td>\n",
       "      <td>18.841219</td>\n",
       "      <td>0.0</td>\n",
       "      <td>0.0</td>\n",
       "      <td>0.0</td>\n",
       "      <td>...</td>\n",
       "      <td>154.0</td>\n",
       "      <td>89.063515</td>\n",
       "      <td>0.00000</td>\n",
       "      <td>0.0</td>\n",
       "      <td>0.0</td>\n",
       "      <td>0.0</td>\n",
       "      <td>0.0</td>\n",
       "      <td>0.0</td>\n",
       "      <td>0.0</td>\n",
       "      <td>0.0</td>\n",
       "    </tr>\n",
       "    <tr>\n",
       "      <td>5</td>\n",
       "      <td>1576.0</td>\n",
       "      <td>1602.0</td>\n",
       "      <td>454</td>\n",
       "      <td>762</td>\n",
       "      <td>0.575169</td>\n",
       "      <td>0.401622</td>\n",
       "      <td>5.413692</td>\n",
       "      <td>0.0</td>\n",
       "      <td>0.0</td>\n",
       "      <td>0.0</td>\n",
       "      <td>...</td>\n",
       "      <td>152.0</td>\n",
       "      <td>89.238236</td>\n",
       "      <td>9.11456</td>\n",
       "      <td>0.0</td>\n",
       "      <td>0.0</td>\n",
       "      <td>0.0</td>\n",
       "      <td>0.0</td>\n",
       "      <td>0.0</td>\n",
       "      <td>0.0</td>\n",
       "      <td>0.0</td>\n",
       "    </tr>\n",
       "    <tr>\n",
       "      <td>6</td>\n",
       "      <td>1543.0</td>\n",
       "      <td>1596.0</td>\n",
       "      <td>554</td>\n",
       "      <td>1385</td>\n",
       "      <td>0.767345</td>\n",
       "      <td>0.484151</td>\n",
       "      <td>11.273392</td>\n",
       "      <td>0.0</td>\n",
       "      <td>0.0</td>\n",
       "      <td>0.0</td>\n",
       "      <td>...</td>\n",
       "      <td>154.0</td>\n",
       "      <td>99.109917</td>\n",
       "      <td>9.11456</td>\n",
       "      <td>0.0</td>\n",
       "      <td>0.0</td>\n",
       "      <td>0.0</td>\n",
       "      <td>0.0</td>\n",
       "      <td>0.0</td>\n",
       "      <td>0.0</td>\n",
       "      <td>0.0</td>\n",
       "    </tr>\n",
       "    <tr>\n",
       "      <td>7</td>\n",
       "      <td>1586.0</td>\n",
       "      <td>1599.0</td>\n",
       "      <td>673</td>\n",
       "      <td>1374</td>\n",
       "      <td>0.636844</td>\n",
       "      <td>0.390324</td>\n",
       "      <td>9.836267</td>\n",
       "      <td>0.0</td>\n",
       "      <td>0.0</td>\n",
       "      <td>0.0</td>\n",
       "      <td>...</td>\n",
       "      <td>154.0</td>\n",
       "      <td>98.061600</td>\n",
       "      <td>0.00000</td>\n",
       "      <td>0.0</td>\n",
       "      <td>0.0</td>\n",
       "      <td>0.0</td>\n",
       "      <td>0.0</td>\n",
       "      <td>0.0</td>\n",
       "      <td>0.0</td>\n",
       "      <td>0.0</td>\n",
       "    </tr>\n",
       "  </tbody>\n",
       "</table>\n",
       "<p>5 rows × 31 columns</p>\n",
       "</div>"
      ],
      "text/plain": [
       "     Начальная температура  Конечная температура  Время нагрева дуг  \\\n",
       "key                                                                   \n",
       "2                   1581.0                1602.0                811   \n",
       "4                   1601.0                1625.0                741   \n",
       "5                   1576.0                1602.0                454   \n",
       "6                   1543.0                1596.0                554   \n",
       "7                   1586.0                1599.0                673   \n",
       "\n",
       "     Время замеров  Активная мощность  Реактивная мощность      Газ 1  Bulk 1  \\\n",
       "key                                                                             \n",
       "2             1305           0.763150             0.499528  12.555561     0.0   \n",
       "4              388           0.802313             0.515074  18.841219     0.0   \n",
       "5              762           0.575169             0.401622   5.413692     0.0   \n",
       "6             1385           0.767345             0.484151  11.273392     0.0   \n",
       "7             1374           0.636844             0.390324   9.836267     0.0   \n",
       "\n",
       "     Bulk 2  Bulk 3  ...  Bulk 15     Wire 1   Wire 2  Wire 3  Wire 4  Wire 5  \\\n",
       "key                  ...                                                        \n",
       "2       0.0     0.0  ...    154.0  96.052315  0.00000     0.0     0.0     0.0   \n",
       "4       0.0     0.0  ...    154.0  89.063515  0.00000     0.0     0.0     0.0   \n",
       "5       0.0     0.0  ...    152.0  89.238236  9.11456     0.0     0.0     0.0   \n",
       "6       0.0     0.0  ...    154.0  99.109917  9.11456     0.0     0.0     0.0   \n",
       "7       0.0     0.0  ...    154.0  98.061600  0.00000     0.0     0.0     0.0   \n",
       "\n",
       "     Wire 6  Wire 7  Wire 8  Wire 9  \n",
       "key                                  \n",
       "2       0.0     0.0     0.0     0.0  \n",
       "4       0.0     0.0     0.0     0.0  \n",
       "5       0.0     0.0     0.0     0.0  \n",
       "6       0.0     0.0     0.0     0.0  \n",
       "7       0.0     0.0     0.0     0.0  \n",
       "\n",
       "[5 rows x 31 columns]"
      ]
     },
     "execution_count": 41,
     "metadata": {},
     "output_type": "execute_result"
    }
   ],
   "source": [
    "data = pd.DataFrame()\n",
    "data = temp.merge(time_heat, on='key')\n",
    "data = data.merge(dur, on='key')\n",
    "data = data.merge(power_mean, on='key')\n",
    "data = data.merge(data_gas, on='key')\n",
    "data = data.merge(data_bulk, on='key')\n",
    "data = data.merge(data_wire, on='key')\n",
    "data = data.set_index('key')\n",
    "data.head()"
   ]
  },
  {
   "cell_type": "markdown",
   "id": "liberal-driving",
   "metadata": {},
   "source": [
    "Добавим к новой объединенной таблице новые признаки, такие как отношение активной и реактивной мощностей и их векторную сумму."
   ]
  },
  {
   "cell_type": "code",
   "execution_count": 42,
   "id": "alternative-malaysia",
   "metadata": {},
   "outputs": [],
   "source": [
    "data['Отношение мощностей'] = round(data['Активная мощность'] / data['Реактивная мощность'], 5)"
   ]
  },
  {
   "cell_type": "markdown",
   "id": "blocked-judge",
   "metadata": {},
   "source": [
    "Также добавим такие признаки как энергии, расходующиеся на активную и реактивную мощности, сумму всех сыпучих и сумму всех проволочных добавок."
   ]
  },
  {
   "cell_type": "code",
   "execution_count": 43,
   "id": "global-correspondence",
   "metadata": {},
   "outputs": [],
   "source": [
    "data['Энергия активная'] = data['Активная мощность'] * data['Время нагрева дуг']"
   ]
  },
  {
   "cell_type": "code",
   "execution_count": 44,
   "id": "clinical-artist",
   "metadata": {},
   "outputs": [
    {
     "data": {
      "text/plain": [
       "\"\\ndef sum_bulk_cols(row):\\n    s = 0\\n    for i in row.index:\\n        if 'Bulk' in i:\\n            s += row[i]\\n    return s\\n\\ndata['Bulk_sum'] = data.apply(sum_bulk_cols, axis=1)\\ndata['Bulk_sum'].head()\\n\""
      ]
     },
     "execution_count": 44,
     "metadata": {},
     "output_type": "execute_result"
    }
   ],
   "source": [
    "\"\"\"\n",
    "def sum_bulk_cols(row):\n",
    "    s = 0\n",
    "    for i in row.index:\n",
    "        if 'Bulk' in i:\n",
    "            s += row[i]\n",
    "    return s\n",
    "\n",
    "data['Bulk_sum'] = data.apply(sum_bulk_cols, axis=1)\n",
    "data['Bulk_sum'].head()\n",
    "\"\"\""
   ]
  },
  {
   "cell_type": "code",
   "execution_count": 45,
   "id": "involved-domain",
   "metadata": {},
   "outputs": [
    {
     "data": {
      "text/plain": [
       "key\n",
       "2     96.052315\n",
       "4     89.063515\n",
       "5     98.352796\n",
       "6    108.224477\n",
       "7     98.061600\n",
       "Name: Wire_sum, dtype: float64"
      ]
     },
     "execution_count": 45,
     "metadata": {},
     "output_type": "execute_result"
    }
   ],
   "source": [
    "def sum_wire_cols(row):\n",
    "    s = 0\n",
    "    for i in row.index:\n",
    "        if 'Wire' in i:\n",
    "            s += row[i]\n",
    "    return s\n",
    "\n",
    "data['Wire_sum'] = data.apply(sum_wire_cols, axis=1)\n",
    "data['Wire_sum'].head()"
   ]
  },
  {
   "cell_type": "markdown",
   "id": "reliable-webcam",
   "metadata": {},
   "source": [
    "Избавимся от лишних признаков коррелирующих с друг другом больше чем на 95%."
   ]
  },
  {
   "cell_type": "code",
   "execution_count": 46,
   "id": "tight-verification",
   "metadata": {},
   "outputs": [],
   "source": [
    "\n",
    "def features_choice(df, name_cols, col):\n",
    "    k = 0\n",
    "    new = name_cols\n",
    "    for i in list(name_cols):\n",
    "        if (abs(df[col].corr(df[i])) > 0.7) and (col != i):\n",
    "            k += 1\n",
    "            print('Корреляция', col, '______', i, '=', df[col].corr(df[i]))\n",
    "            cols_drop.append(col)\n",
    "            new = name_cols.drop(col)\n",
    "            return new\n",
    "    return new\n"
   ]
  },
  {
   "cell_type": "code",
   "execution_count": 47,
   "id": "static-desert",
   "metadata": {},
   "outputs": [
    {
     "name": "stdout",
     "output_type": "stream",
     "text": [
      "Количество признаков до: 34\n",
      "Корреляция Время нагрева дуг ______ Энергия активная = 0.8990973200843184\n",
      "Корреляция Активная мощность ______ Реактивная мощность = 0.907675189975841\n",
      "Корреляция Реактивная мощность ______ Энергия активная = 0.7086508877046843\n",
      "Корреляция Bulk 2 ______ Bulk 7 = 0.7224976788743025\n",
      "Корреляция Bulk 7 ______ Wire 4 = 0.7321505683896102\n",
      "Корреляция Bulk 9 ______ Wire 8 = 0.9694522590633243\n"
     ]
    },
    {
     "data": {
      "text/plain": [
       "Index(['Начальная температура', 'Конечная температура', 'Время замеров',\n",
       "       'Газ 1', 'Bulk 1', 'Bulk 3', 'Bulk 4', 'Bulk 5', 'Bulk 6', 'Bulk 8',\n",
       "       'Bulk 10', 'Bulk 11', 'Bulk 12', 'Bulk 13', 'Bulk 14', 'Bulk 15',\n",
       "       'Wire 1', 'Wire 2', 'Wire 3', 'Wire 4', 'Wire 5', 'Wire 6', 'Wire 7',\n",
       "       'Wire 8', 'Wire 9', 'Отношение мощностей', 'Энергия активная',\n",
       "       'Wire_sum'],\n",
       "      dtype='object')"
      ]
     },
     "execution_count": 47,
     "metadata": {},
     "output_type": "execute_result"
    }
   ],
   "source": [
    "print('Количество признаков до:', len(data.columns))\n",
    "k = 0\n",
    "cols_drop = []\n",
    "name_cols = data.columns\n",
    "for col in list(data.columns):\n",
    "    if (col != 'Конечная температура'):\n",
    "        name_cols = features_choice(data, name_cols, col)\n",
    "\n",
    "name_cols"
   ]
  },
  {
   "cell_type": "code",
   "execution_count": 48,
   "id": "square-plenty",
   "metadata": {},
   "outputs": [
    {
     "data": {
      "text/plain": [
       "(2225, 28)"
      ]
     },
     "execution_count": 48,
     "metadata": {},
     "output_type": "execute_result"
    }
   ],
   "source": [
    "data = data[name_cols]\n",
    "data.shape"
   ]
  },
  {
   "cell_type": "markdown",
   "id": "absent-trail",
   "metadata": {},
   "source": [
    "## Обучение моделей"
   ]
  },
  {
   "cell_type": "markdown",
   "id": "continental-exhibition",
   "metadata": {},
   "source": [
    "Выделим целевой и остальные признаки в разные переменные, а также разделим данные на тренировочную и тестовую выборки."
   ]
  },
  {
   "cell_type": "code",
   "execution_count": 49,
   "id": "improved-strand",
   "metadata": {},
   "outputs": [],
   "source": [
    "rnd = 123"
   ]
  },
  {
   "cell_type": "code",
   "execution_count": 50,
   "id": "scenic-permit",
   "metadata": {},
   "outputs": [],
   "source": [
    "t = data['Конечная температура']\n",
    "f = data.drop('Конечная температура', axis=1)\n",
    "f_train, f_test, t_train, t_test = train_test_split(f, t, test_size=0.25, random_state=123)"
   ]
  },
  {
   "cell_type": "markdown",
   "id": "universal-renaissance",
   "metadata": {},
   "source": [
    "### DecisionTree"
   ]
  },
  {
   "cell_type": "markdown",
   "id": "major-olive",
   "metadata": {},
   "source": [
    "Обучим DecisionTree и получим таблицу важности признаков. Оставим только те, которые влияют на результат."
   ]
  },
  {
   "cell_type": "code",
   "execution_count": 51,
   "id": "successful-stress",
   "metadata": {},
   "outputs": [
    {
     "name": "stdout",
     "output_type": "stream",
     "text": [
      "Глубина: 7\n",
      "MAE: 7.624828393536251\n"
     ]
    },
    {
     "data": {
      "text/html": [
       "<div>\n",
       "<style scoped>\n",
       "    .dataframe tbody tr th:only-of-type {\n",
       "        vertical-align: middle;\n",
       "    }\n",
       "\n",
       "    .dataframe tbody tr th {\n",
       "        vertical-align: top;\n",
       "    }\n",
       "\n",
       "    .dataframe thead th {\n",
       "        text-align: right;\n",
       "    }\n",
       "</style>\n",
       "<table border=\"1\" class=\"dataframe\">\n",
       "  <thead>\n",
       "    <tr style=\"text-align: right;\">\n",
       "      <th></th>\n",
       "      <th>Важность</th>\n",
       "    </tr>\n",
       "  </thead>\n",
       "  <tbody>\n",
       "    <tr>\n",
       "      <td>Wire 1</td>\n",
       "      <td>0.277580</td>\n",
       "    </tr>\n",
       "    <tr>\n",
       "      <td>Начальная температура</td>\n",
       "      <td>0.197439</td>\n",
       "    </tr>\n",
       "    <tr>\n",
       "      <td>Bulk 15</td>\n",
       "      <td>0.157371</td>\n",
       "    </tr>\n",
       "    <tr>\n",
       "      <td>Время замеров</td>\n",
       "      <td>0.091019</td>\n",
       "    </tr>\n",
       "    <tr>\n",
       "      <td>Bulk 14</td>\n",
       "      <td>0.070929</td>\n",
       "    </tr>\n",
       "    <tr>\n",
       "      <td>Энергия активная</td>\n",
       "      <td>0.049763</td>\n",
       "    </tr>\n",
       "    <tr>\n",
       "      <td>Bulk 6</td>\n",
       "      <td>0.046446</td>\n",
       "    </tr>\n",
       "    <tr>\n",
       "      <td>Wire 2</td>\n",
       "      <td>0.043323</td>\n",
       "    </tr>\n",
       "    <tr>\n",
       "      <td>Газ 1</td>\n",
       "      <td>0.024527</td>\n",
       "    </tr>\n",
       "    <tr>\n",
       "      <td>Wire 4</td>\n",
       "      <td>0.023445</td>\n",
       "    </tr>\n",
       "    <tr>\n",
       "      <td>Bulk 12</td>\n",
       "      <td>0.011100</td>\n",
       "    </tr>\n",
       "    <tr>\n",
       "      <td>Wire_sum</td>\n",
       "      <td>0.006244</td>\n",
       "    </tr>\n",
       "    <tr>\n",
       "      <td>Wire 6</td>\n",
       "      <td>0.000813</td>\n",
       "    </tr>\n",
       "    <tr>\n",
       "      <td>Bulk 13</td>\n",
       "      <td>0.000000</td>\n",
       "    </tr>\n",
       "    <tr>\n",
       "      <td>Bulk 3</td>\n",
       "      <td>0.000000</td>\n",
       "    </tr>\n",
       "    <tr>\n",
       "      <td>Bulk 1</td>\n",
       "      <td>0.000000</td>\n",
       "    </tr>\n",
       "    <tr>\n",
       "      <td>Bulk 11</td>\n",
       "      <td>0.000000</td>\n",
       "    </tr>\n",
       "    <tr>\n",
       "      <td>Bulk 5</td>\n",
       "      <td>0.000000</td>\n",
       "    </tr>\n",
       "    <tr>\n",
       "      <td>Wire 3</td>\n",
       "      <td>0.000000</td>\n",
       "    </tr>\n",
       "    <tr>\n",
       "      <td>Bulk 10</td>\n",
       "      <td>0.000000</td>\n",
       "    </tr>\n",
       "    <tr>\n",
       "      <td>Wire 5</td>\n",
       "      <td>0.000000</td>\n",
       "    </tr>\n",
       "    <tr>\n",
       "      <td>Wire 7</td>\n",
       "      <td>0.000000</td>\n",
       "    </tr>\n",
       "    <tr>\n",
       "      <td>Wire 8</td>\n",
       "      <td>0.000000</td>\n",
       "    </tr>\n",
       "    <tr>\n",
       "      <td>Wire 9</td>\n",
       "      <td>0.000000</td>\n",
       "    </tr>\n",
       "    <tr>\n",
       "      <td>Отношение мощностей</td>\n",
       "      <td>0.000000</td>\n",
       "    </tr>\n",
       "    <tr>\n",
       "      <td>Bulk 8</td>\n",
       "      <td>0.000000</td>\n",
       "    </tr>\n",
       "    <tr>\n",
       "      <td>Bulk 4</td>\n",
       "      <td>0.000000</td>\n",
       "    </tr>\n",
       "  </tbody>\n",
       "</table>\n",
       "</div>"
      ],
      "text/plain": [
       "                       Важность\n",
       "Wire 1                 0.277580\n",
       "Начальная температура  0.197439\n",
       "Bulk 15                0.157371\n",
       "Время замеров          0.091019\n",
       "Bulk 14                0.070929\n",
       "Энергия активная       0.049763\n",
       "Bulk 6                 0.046446\n",
       "Wire 2                 0.043323\n",
       "Газ 1                  0.024527\n",
       "Wire 4                 0.023445\n",
       "Bulk 12                0.011100\n",
       "Wire_sum               0.006244\n",
       "Wire 6                 0.000813\n",
       "Bulk 13                0.000000\n",
       "Bulk 3                 0.000000\n",
       "Bulk 1                 0.000000\n",
       "Bulk 11                0.000000\n",
       "Bulk 5                 0.000000\n",
       "Wire 3                 0.000000\n",
       "Bulk 10                0.000000\n",
       "Wire 5                 0.000000\n",
       "Wire 7                 0.000000\n",
       "Wire 8                 0.000000\n",
       "Wire 9                 0.000000\n",
       "Отношение мощностей    0.000000\n",
       "Bulk 8                 0.000000\n",
       "Bulk 4                 0.000000"
      ]
     },
     "execution_count": 51,
     "metadata": {},
     "output_type": "execute_result"
    }
   ],
   "source": [
    "score_best = 100\n",
    "for depth in range(3, 8):\n",
    "    model = DecisionTreeRegressor(max_depth=depth, random_state=rnd)\n",
    "    score = abs(cross_val_score(model, f_train, t_train, cv=5, scoring='neg_mean_absolute_error').mean())\n",
    "    if score < score_best:\n",
    "        score_best = score\n",
    "        depth_best = depth\n",
    "\n",
    "print('Глубина:', depth)\n",
    "print('MAE:', score_best)\n",
    "\n",
    "model = DecisionTreeRegressor(max_depth=depth_best, random_state=rnd)\n",
    "model.fit(f_train, t_train)\n",
    "imp = pd.DataFrame(model.feature_importances_, index=f.columns, columns=['Важность']).sort_values('Важность', ascending=False)\n",
    "imp"
   ]
  },
  {
   "cell_type": "code",
   "execution_count": 52,
   "id": "continental-conclusion",
   "metadata": {},
   "outputs": [
    {
     "data": {
      "text/html": [
       "<div>\n",
       "<style scoped>\n",
       "    .dataframe tbody tr th:only-of-type {\n",
       "        vertical-align: middle;\n",
       "    }\n",
       "\n",
       "    .dataframe tbody tr th {\n",
       "        vertical-align: top;\n",
       "    }\n",
       "\n",
       "    .dataframe thead th {\n",
       "        text-align: right;\n",
       "    }\n",
       "</style>\n",
       "<table border=\"1\" class=\"dataframe\">\n",
       "  <thead>\n",
       "    <tr style=\"text-align: right;\">\n",
       "      <th></th>\n",
       "      <th>Важность</th>\n",
       "    </tr>\n",
       "  </thead>\n",
       "  <tbody>\n",
       "    <tr>\n",
       "      <td>Wire 1</td>\n",
       "      <td>0.277580</td>\n",
       "    </tr>\n",
       "    <tr>\n",
       "      <td>Начальная температура</td>\n",
       "      <td>0.197439</td>\n",
       "    </tr>\n",
       "    <tr>\n",
       "      <td>Bulk 15</td>\n",
       "      <td>0.157371</td>\n",
       "    </tr>\n",
       "    <tr>\n",
       "      <td>Время замеров</td>\n",
       "      <td>0.091019</td>\n",
       "    </tr>\n",
       "    <tr>\n",
       "      <td>Bulk 14</td>\n",
       "      <td>0.070929</td>\n",
       "    </tr>\n",
       "    <tr>\n",
       "      <td>Энергия активная</td>\n",
       "      <td>0.049763</td>\n",
       "    </tr>\n",
       "    <tr>\n",
       "      <td>Bulk 6</td>\n",
       "      <td>0.046446</td>\n",
       "    </tr>\n",
       "    <tr>\n",
       "      <td>Wire 2</td>\n",
       "      <td>0.043323</td>\n",
       "    </tr>\n",
       "    <tr>\n",
       "      <td>Газ 1</td>\n",
       "      <td>0.024527</td>\n",
       "    </tr>\n",
       "    <tr>\n",
       "      <td>Wire 4</td>\n",
       "      <td>0.023445</td>\n",
       "    </tr>\n",
       "    <tr>\n",
       "      <td>Bulk 12</td>\n",
       "      <td>0.011100</td>\n",
       "    </tr>\n",
       "    <tr>\n",
       "      <td>Wire_sum</td>\n",
       "      <td>0.006244</td>\n",
       "    </tr>\n",
       "    <tr>\n",
       "      <td>Wire 6</td>\n",
       "      <td>0.000813</td>\n",
       "    </tr>\n",
       "    <tr>\n",
       "      <td>Bulk 13</td>\n",
       "      <td>0.000000</td>\n",
       "    </tr>\n",
       "    <tr>\n",
       "      <td>Bulk 3</td>\n",
       "      <td>0.000000</td>\n",
       "    </tr>\n",
       "    <tr>\n",
       "      <td>Bulk 1</td>\n",
       "      <td>0.000000</td>\n",
       "    </tr>\n",
       "    <tr>\n",
       "      <td>Bulk 11</td>\n",
       "      <td>0.000000</td>\n",
       "    </tr>\n",
       "    <tr>\n",
       "      <td>Bulk 5</td>\n",
       "      <td>0.000000</td>\n",
       "    </tr>\n",
       "    <tr>\n",
       "      <td>Wire 3</td>\n",
       "      <td>0.000000</td>\n",
       "    </tr>\n",
       "    <tr>\n",
       "      <td>Bulk 10</td>\n",
       "      <td>0.000000</td>\n",
       "    </tr>\n",
       "  </tbody>\n",
       "</table>\n",
       "</div>"
      ],
      "text/plain": [
       "                       Важность\n",
       "Wire 1                 0.277580\n",
       "Начальная температура  0.197439\n",
       "Bulk 15                0.157371\n",
       "Время замеров          0.091019\n",
       "Bulk 14                0.070929\n",
       "Энергия активная       0.049763\n",
       "Bulk 6                 0.046446\n",
       "Wire 2                 0.043323\n",
       "Газ 1                  0.024527\n",
       "Wire 4                 0.023445\n",
       "Bulk 12                0.011100\n",
       "Wire_sum               0.006244\n",
       "Wire 6                 0.000813\n",
       "Bulk 13                0.000000\n",
       "Bulk 3                 0.000000\n",
       "Bulk 1                 0.000000\n",
       "Bulk 11                0.000000\n",
       "Bulk 5                 0.000000\n",
       "Wire 3                 0.000000\n",
       "Bulk 10                0.000000"
      ]
     },
     "execution_count": 52,
     "metadata": {},
     "output_type": "execute_result"
    }
   ],
   "source": [
    "imp.nlargest(20, 'Важность')"
   ]
  },
  {
   "cell_type": "code",
   "execution_count": 53,
   "id": "prostate-clause",
   "metadata": {},
   "outputs": [
    {
     "data": {
      "text/plain": [
       "Index(['Wire 1', 'Начальная температура', 'Bulk 15', 'Время замеров',\n",
       "       'Bulk 14', 'Энергия активная', 'Bulk 6', 'Wire 2', 'Газ 1', 'Wire 4',\n",
       "       'Bulk 12'],\n",
       "      dtype='object')"
      ]
     },
     "execution_count": 53,
     "metadata": {},
     "output_type": "execute_result"
    }
   ],
   "source": [
    "f_train = f_train[imp.nlargest(11, 'Важность').index]\n",
    "f_test = f_test[imp.nlargest(11, 'Важность').index]\n",
    "f_test.columns"
   ]
  },
  {
   "cell_type": "markdown",
   "id": "apparent-adrian",
   "metadata": {},
   "source": [
    "### LinearRegression"
   ]
  },
  {
   "cell_type": "code",
   "execution_count": 54,
   "id": "precise-service",
   "metadata": {},
   "outputs": [
    {
     "name": "stdout",
     "output_type": "stream",
     "text": [
      "MAE: 6.807503014309212\n"
     ]
    }
   ],
   "source": [
    "model = LinearRegression()\n",
    "score = abs(cross_val_score(model, f_train, t_train, cv=3, scoring='neg_mean_absolute_error').mean())\n",
    "\n",
    "print('MAE:', score)"
   ]
  },
  {
   "cell_type": "code",
   "execution_count": 55,
   "id": "moderate-admission",
   "metadata": {},
   "outputs": [],
   "source": [
    "lin = {'MAE': score}"
   ]
  },
  {
   "cell_type": "markdown",
   "id": "french-appliance",
   "metadata": {},
   "source": [
    "### RandomForest"
   ]
  },
  {
   "cell_type": "markdown",
   "id": "municipal-religious",
   "metadata": {},
   "source": [
    "Подберем параметры и обучим случайный лес."
   ]
  },
  {
   "cell_type": "code",
   "execution_count": 56,
   "id": "handled-plant",
   "metadata": {},
   "outputs": [],
   "source": [
    "model = RandomForestRegressor(random_state=rnd)\n",
    "parametrs = { 'n_estimators': range (10, 51, 10),\n",
    "              'max_depth': range (1, 11, 1),\n",
    "              'min_samples_leaf': range (1,8),\n",
    "              'min_samples_split': range (2,10,2) }\n",
    "grid = RandomizedSearchCV(model, parametrs, cv=2, n_iter=100)\n",
    "grid.fit(f_train, t_train)\n",
    "param = grid.best_params_"
   ]
  },
  {
   "cell_type": "code",
   "execution_count": 57,
   "id": "functional-vancouver",
   "metadata": {},
   "outputs": [
    {
     "name": "stdout",
     "output_type": "stream",
     "text": [
      "MAE: 6.382443344864907\n"
     ]
    }
   ],
   "source": [
    "model = RandomForestRegressor(max_depth=param['max_depth'], random_state=rnd,\n",
    "                              n_estimators=param['n_estimators'],\n",
    "                              min_samples_leaf=param['min_samples_leaf'], min_samples_split=param['min_samples_split'])\n",
    "model.fit(f_train, t_train)\n",
    "pred = model.predict(f_test)\n",
    "score = mean_absolute_error(t_test, pred)\n",
    "print('MAE:', score)"
   ]
  },
  {
   "cell_type": "code",
   "execution_count": 58,
   "id": "filled-henry",
   "metadata": {},
   "outputs": [],
   "source": [
    "forest = {'MAE': score}"
   ]
  },
  {
   "cell_type": "markdown",
   "id": "figured-rover",
   "metadata": {},
   "source": [
    "### LightGBM"
   ]
  },
  {
   "cell_type": "markdown",
   "id": "exterior-playback",
   "metadata": {},
   "source": [
    "Подберем параметры и обучим модель."
   ]
  },
  {
   "cell_type": "code",
   "execution_count": 59,
   "id": "ordinary-officer",
   "metadata": {},
   "outputs": [],
   "source": [
    "model = LGBMRegressor(random_state=rnd)\n",
    "parametrs = { 'num_iterations': range (10, 201, 10),\n",
    "              'max_depth': range (1, 11, 1),\n",
    "              'learning_rate': np.arange(0.01, 0.5, 0.005)}\n",
    "grid = RandomizedSearchCV(model, parametrs, cv=3, n_iter=100)\n",
    "grid.fit(f_train, t_train)\n",
    "param = grid.best_params_"
   ]
  },
  {
   "cell_type": "code",
   "execution_count": 60,
   "id": "acting-nevada",
   "metadata": {},
   "outputs": [
    {
     "name": "stdout",
     "output_type": "stream",
     "text": [
      "MAE: 6.3702028055669135\n"
     ]
    }
   ],
   "source": [
    "model = LGBMRegressor(max_depth=param['max_depth'], random_state=rnd,\n",
    "                      n_estimators=param['num_iterations'], learning_rate=param['learning_rate'])\n",
    "model.fit(f_train, t_train)\n",
    "pred = model.predict(f_test)\n",
    "score = mean_absolute_error(t_test, pred)\n",
    "print('MAE:', score)"
   ]
  },
  {
   "cell_type": "code",
   "execution_count": 61,
   "id": "agricultural-burning",
   "metadata": {},
   "outputs": [],
   "source": [
    "light = {'MAE': score}"
   ]
  },
  {
   "cell_type": "markdown",
   "id": "focal-service",
   "metadata": {},
   "source": [
    "### CatBoost"
   ]
  },
  {
   "cell_type": "markdown",
   "id": "spanish-pantyhose",
   "metadata": {},
   "source": [
    "Подберем параметры и обучим модель."
   ]
  },
  {
   "cell_type": "code",
   "execution_count": 62,
   "id": "religious-valley",
   "metadata": {},
   "outputs": [],
   "source": [
    "model = CatBoostRegressor(random_state=rnd, verbose=False)\n",
    "parametrs = { 'iterations': range (100, 1001, 100),\n",
    "              'max_depth': range (1, 11, 1),\n",
    "              'learning_rate': np.arange(0.01, 0.1, 0.005)}\n",
    "grid = RandomizedSearchCV(model, parametrs, cv=3, n_iter=100)\n",
    "grid.fit(f_train, t_train)\n",
    "param = grid.best_params_"
   ]
  },
  {
   "cell_type": "code",
   "execution_count": 63,
   "id": "finished-current",
   "metadata": {},
   "outputs": [
    {
     "name": "stdout",
     "output_type": "stream",
     "text": [
      "MAE: 6.181596471369799\n"
     ]
    }
   ],
   "source": [
    "model = CatBoostRegressor(max_depth=param['max_depth'], random_state=rnd,\n",
    "                          n_estimators=param['iterations'], learning_rate=param['learning_rate'], verbose=False)\n",
    "model.fit(f_train, t_train)\n",
    "pred = model.predict(f_test)\n",
    "score = mean_absolute_error(t_test, pred)\n",
    "print('MAE:', score)"
   ]
  },
  {
   "cell_type": "code",
   "execution_count": 64,
   "id": "congressional-distance",
   "metadata": {},
   "outputs": [],
   "source": [
    "cat = {'MAE': score}"
   ]
  },
  {
   "cell_type": "markdown",
   "id": "immediate-literacy",
   "metadata": {},
   "source": [
    "### TabNet"
   ]
  },
  {
   "cell_type": "markdown",
   "id": "electric-terror",
   "metadata": {},
   "source": [
    "В качестве эксперимента обучим модель TabNetRegressor."
   ]
  },
  {
   "cell_type": "code",
   "execution_count": 65,
   "id": "fixed-market",
   "metadata": {
    "scrolled": true
   },
   "outputs": [
    {
     "name": "stdout",
     "output_type": "stream",
     "text": [
      "No early stopping will be performed, last training weights will be used.\n",
      "MAE: 7.617788427822037\n"
     ]
    }
   ],
   "source": [
    "model = TabNetRegressor(verbose=0, seed=rnd, n_d=32, n_a=32)\n",
    "model.fit(f_train.values, t_train.values.reshape(-1, 1), eval_metric=['mae'], max_epochs=400, patience=50, batch_size=256)\n",
    "pred = model.predict(f_test.values)\n",
    "score = mean_absolute_error(t_test.values.reshape(-1, 1), pred)\n",
    "print('MAE:', score)"
   ]
  },
  {
   "cell_type": "code",
   "execution_count": 66,
   "id": "established-employer",
   "metadata": {},
   "outputs": [],
   "source": [
    "tab = {'MAE': score}"
   ]
  },
  {
   "cell_type": "markdown",
   "id": "smoking-thursday",
   "metadata": {},
   "source": [
    "### Сравнение результатов"
   ]
  },
  {
   "cell_type": "code",
   "execution_count": 69,
   "id": "accredited-album",
   "metadata": {},
   "outputs": [
    {
     "data": {
      "text/html": [
       "<div>\n",
       "<style scoped>\n",
       "    .dataframe tbody tr th:only-of-type {\n",
       "        vertical-align: middle;\n",
       "    }\n",
       "\n",
       "    .dataframe tbody tr th {\n",
       "        vertical-align: top;\n",
       "    }\n",
       "\n",
       "    .dataframe thead th {\n",
       "        text-align: right;\n",
       "    }\n",
       "</style>\n",
       "<table border=\"1\" class=\"dataframe\">\n",
       "  <thead>\n",
       "    <tr style=\"text-align: right;\">\n",
       "      <th></th>\n",
       "      <th>MAE</th>\n",
       "    </tr>\n",
       "  </thead>\n",
       "  <tbody>\n",
       "    <tr>\n",
       "      <td>CatBoost</td>\n",
       "      <td>6.181596</td>\n",
       "    </tr>\n",
       "    <tr>\n",
       "      <td>LightGBM</td>\n",
       "      <td>6.370203</td>\n",
       "    </tr>\n",
       "    <tr>\n",
       "      <td>RandomForest</td>\n",
       "      <td>6.382443</td>\n",
       "    </tr>\n",
       "    <tr>\n",
       "      <td>LinearRegression</td>\n",
       "      <td>6.807503</td>\n",
       "    </tr>\n",
       "    <tr>\n",
       "      <td>TabNet</td>\n",
       "      <td>7.617788</td>\n",
       "    </tr>\n",
       "  </tbody>\n",
       "</table>\n",
       "</div>"
      ],
      "text/plain": [
       "                       MAE\n",
       "CatBoost          6.181596\n",
       "LightGBM          6.370203\n",
       "RandomForest      6.382443\n",
       "LinearRegression  6.807503\n",
       "TabNet            7.617788"
      ]
     },
     "execution_count": 69,
     "metadata": {},
     "output_type": "execute_result"
    }
   ],
   "source": [
    "(pd\n",
    " .DataFrame([lin, forest, light, cat, tab], index=['LinearRegression', 'RandomForest', 'LightGBM', 'CatBoost', 'TabNet'])\n",
    " .sort_values('MAE'))"
   ]
  },
  {
   "cell_type": "markdown",
   "id": "experimental-istanbul",
   "metadata": {},
   "source": [
    "### Вывод\n",
    "\n"
   ]
  },
  {
   "cell_type": "markdown",
   "id": "entire-mounting",
   "metadata": {},
   "source": [
    "В этом разделе было обучено 6 моделей. Для этого были выделены самые значимые признаки на основе DecisionTree. Лучше всех себя показала модель CatBoost, но скорость подбора параметров у нее самая медленная. За ней идет LightGBM с МАЕ хуже на 0.15, но скорость обучения у нее выше в разы. Остальные модели сильно не выделились."
   ]
  },
  {
   "cell_type": "markdown",
   "id": "miniature-assault",
   "metadata": {},
   "source": [
    "## Вывод"
   ]
  },
  {
   "cell_type": "markdown",
   "id": "instant-serve",
   "metadata": {},
   "source": [
    "В проекте были выполнены следующие действия:\n",
    "    \n",
    "- Дынные были загружены и обработаны;\n",
    "- Был проведен исследовательский анализ данных. Выяснилось, что распределение большинства непрерывных признаков нормальное со скосом вправо или Пуассоновское;\n",
    "- Была обнаружена сильная линейная связь активной и реактивной мощностей. Было принято решение уменьшить количество признаков, чтобы среди них не было сильно коррелирующих между собой;\n",
    "- Выбросы и аномалии были удалены;\n",
    "- Из разных таблиц были выделены признаки, которые могут улучшить качество моделей;\n",
    "- Данные были объединены в единую таблицу;\n",
    "- На основе DecisionTree были выделены самые важные признаки для обучения модели;\n",
    "- Были обучены модели;\n",
    "- Самый лучшее качество показала модель CatBoost (МАЕ=6.18)\n",
    "\n",
    "В результате задача научиться предсказывать значение конечной температуры расплава было выполнено с высокой точностью."
   ]
  }
 ],
 "metadata": {
  "ExecuteTimeLog": [
   {
    "duration": 2072,
    "start_time": "2021-07-04T20:20:32.948Z"
   },
   {
    "duration": 1463,
    "start_time": "2021-07-04T20:20:33.559Z"
   },
   {
    "duration": 1422,
    "start_time": "2021-07-04T20:20:33.602Z"
   },
   {
    "duration": 4767,
    "start_time": "2021-07-04T20:20:52.863Z"
   },
   {
    "duration": 5,
    "start_time": "2021-07-04T20:21:00.882Z"
   },
   {
    "duration": 191,
    "start_time": "2021-07-04T20:21:02.294Z"
   },
   {
    "duration": 26,
    "start_time": "2021-07-04T20:21:44.988Z"
   },
   {
    "duration": 30,
    "start_time": "2021-07-04T20:21:47.766Z"
   },
   {
    "duration": 31,
    "start_time": "2021-07-04T20:21:51.980Z"
   },
   {
    "duration": 23,
    "start_time": "2021-07-04T20:21:54.549Z"
   },
   {
    "duration": 24,
    "start_time": "2021-07-04T20:21:55.916Z"
   },
   {
    "duration": 18,
    "start_time": "2021-07-04T20:21:57.336Z"
   },
   {
    "duration": 15,
    "start_time": "2021-07-04T20:21:59.145Z"
   },
   {
    "duration": 23,
    "start_time": "2021-07-04T20:25:02.768Z"
   },
   {
    "duration": 9,
    "start_time": "2021-07-04T20:25:03.581Z"
   },
   {
    "duration": 10,
    "start_time": "2021-07-04T20:25:04.453Z"
   },
   {
    "duration": 14,
    "start_time": "2021-07-04T20:25:08.214Z"
   },
   {
    "duration": 16,
    "start_time": "2021-07-04T20:25:08.826Z"
   },
   {
    "duration": 6189,
    "start_time": "2021-07-04T20:25:43.565Z"
   },
   {
    "duration": 3299,
    "start_time": "2021-07-04T20:25:49.757Z"
   },
   {
    "duration": 817,
    "start_time": "2021-07-04T20:25:53.059Z"
   }
  ],
  "kernelspec": {
   "display_name": "Python 3",
   "language": "python",
   "name": "python3"
  },
  "language_info": {
   "codemirror_mode": {
    "name": "ipython",
    "version": 3
   },
   "file_extension": ".py",
   "mimetype": "text/x-python",
   "name": "python",
   "nbconvert_exporter": "python",
   "pygments_lexer": "ipython3",
   "version": "3.7.10"
  },
  "toc": {
   "base_numbering": 1,
   "nav_menu": {},
   "number_sections": true,
   "sideBar": true,
   "skip_h1_title": true,
   "title_cell": "Table of Contents",
   "title_sidebar": "Contents",
   "toc_cell": true,
   "toc_position": {
    "height": "calc(100% - 180px)",
    "left": "10px",
    "top": "150px",
    "width": "294.225px"
   },
   "toc_section_display": true,
   "toc_window_display": true
  }
 },
 "nbformat": 4,
 "nbformat_minor": 5
}
