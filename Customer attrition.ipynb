{
 "cells": [
  {
   "cell_type": "markdown",
   "metadata": {
    "toc": true
   },
   "source": [
    "<h1>Table of Contents<span class=\"tocSkip\"></span></h1>\n",
    "<div class=\"toc\"><ul class=\"toc-item\"><li><span><a href=\"#Отток-клиентов\" data-toc-modified-id=\"Отток-клиентов-1\"><span class=\"toc-item-num\">1&nbsp;&nbsp;</span>Отток клиентов</a></span></li><li><span><a href=\"#1.-Подготовка-данных\" data-toc-modified-id=\"1.-Подготовка-данных-2\"><span class=\"toc-item-num\">2&nbsp;&nbsp;</span>1. Подготовка данных</a></span><ul class=\"toc-item\"><li><ul class=\"toc-item\"><li><span><a href=\"#Вывод\" data-toc-modified-id=\"Вывод-2.0.1\"><span class=\"toc-item-num\">2.0.1&nbsp;&nbsp;</span>Вывод</a></span></li></ul></li></ul></li><li><span><a href=\"#2.-Исследование-задачи\" data-toc-modified-id=\"2.-Исследование-задачи-3\"><span class=\"toc-item-num\">3&nbsp;&nbsp;</span>2. Исследование задачи</a></span><ul class=\"toc-item\"><li><ul class=\"toc-item\"><li><span><a href=\"#Вывод\" data-toc-modified-id=\"Вывод-3.0.1\"><span class=\"toc-item-num\">3.0.1&nbsp;&nbsp;</span>Вывод</a></span></li></ul></li></ul></li><li><span><a href=\"#3.-Борьба-с-дисбалансом\" data-toc-modified-id=\"3.-Борьба-с-дисбалансом-4\"><span class=\"toc-item-num\">4&nbsp;&nbsp;</span>3. Борьба с дисбалансом</a></span><ul class=\"toc-item\"><li><ul class=\"toc-item\"><li><span><a href=\"#Upsampling\" data-toc-modified-id=\"Upsampling-4.0.1\"><span class=\"toc-item-num\">4.0.1&nbsp;&nbsp;</span>Upsampling</a></span></li><li><span><a href=\"#Balanced-classes\" data-toc-modified-id=\"Balanced-classes-4.0.2\"><span class=\"toc-item-num\">4.0.2&nbsp;&nbsp;</span>Balanced classes</a></span></li><li><span><a href=\"#Вывод\" data-toc-modified-id=\"Вывод-4.0.3\"><span class=\"toc-item-num\">4.0.3&nbsp;&nbsp;</span>Вывод</a></span></li></ul></li></ul></li><li><span><a href=\"#4.-Тестирование-модели\" data-toc-modified-id=\"4.-Тестирование-модели-5\"><span class=\"toc-item-num\">5&nbsp;&nbsp;</span>4. Тестирование модели</a></span><ul class=\"toc-item\"><li><ul class=\"toc-item\"><li><span><a href=\"#Вывод\" data-toc-modified-id=\"Вывод-5.0.1\"><span class=\"toc-item-num\">5.0.1&nbsp;&nbsp;</span>Вывод</a></span></li></ul></li></ul></li><li><span><a href=\"#Чек-лист-готовности-проекта\" data-toc-modified-id=\"Чек-лист-готовности-проекта-6\"><span class=\"toc-item-num\">6&nbsp;&nbsp;</span>Чек-лист готовности проекта</a></span></li></ul></div>"
   ]
  },
  {
   "cell_type": "markdown",
   "metadata": {},
   "source": [
    "# Отток клиентов"
   ]
  },
  {
   "cell_type": "markdown",
   "metadata": {},
   "source": [
    "Из «Бета-Банка» стали уходить клиенты. Каждый месяц. Немного, но заметно. Банковские маркетологи посчитали: сохранять текущих клиентов дешевле, чем привлекать новых.\n",
    "\n",
    "Нужно спрогнозировать, уйдёт клиент из банка в ближайшее время или нет. Нам предоставлены исторические данные о поведении клиентов и расторжении договоров с банком. \n",
    "\n",
    "Построим модель с предельно большим значением *F1*-меры. Нужно довести метрику до 0.59.\n",
    "\n",
    "Источник данных: [https://www.kaggle.com/barelydedicated/bank-customer-churn-modeling](https://www.kaggle.com/barelydedicated/bank-customer-churn-modeling)"
   ]
  },
  {
   "cell_type": "markdown",
   "metadata": {},
   "source": [
    "# 1. Подготовка данных"
   ]
  },
  {
   "cell_type": "code",
   "execution_count": 220,
   "metadata": {},
   "outputs": [],
   "source": [
    "import pandas as pd\n",
    "import numpy as np\n",
    "import matplotlib.pyplot as plt\n",
    "from sklearn.model_selection import train_test_split\n",
    "from sklearn.tree import DecisionTreeClassifier\n",
    "from sklearn.ensemble import RandomForestClassifier\n",
    "from sklearn.linear_model import LogisticRegression\n",
    "from sklearn.metrics import f1_score, confusion_matrix, precision_score, recall_score, roc_curve, roc_auc_score\n",
    "from sklearn.utils import shuffle\n",
    "from sklearn.preprocessing import StandardScaler"
   ]
  },
  {
   "cell_type": "code",
   "execution_count": 221,
   "metadata": {},
   "outputs": [],
   "source": [
    "data = pd.read_csv('/datasets/Churn.csv')"
   ]
  },
  {
   "cell_type": "code",
   "execution_count": 222,
   "metadata": {},
   "outputs": [
    {
     "name": "stdout",
     "output_type": "stream",
     "text": [
      "<class 'pandas.core.frame.DataFrame'>\n",
      "RangeIndex: 10000 entries, 0 to 9999\n",
      "Data columns (total 14 columns):\n",
      "RowNumber          10000 non-null int64\n",
      "CustomerId         10000 non-null int64\n",
      "Surname            10000 non-null object\n",
      "CreditScore        10000 non-null int64\n",
      "Geography          10000 non-null object\n",
      "Gender             10000 non-null object\n",
      "Age                10000 non-null int64\n",
      "Tenure             9091 non-null float64\n",
      "Balance            10000 non-null float64\n",
      "NumOfProducts      10000 non-null int64\n",
      "HasCrCard          10000 non-null int64\n",
      "IsActiveMember     10000 non-null int64\n",
      "EstimatedSalary    10000 non-null float64\n",
      "Exited             10000 non-null int64\n",
      "dtypes: float64(3), int64(8), object(3)\n",
      "memory usage: 1.1+ MB\n"
     ]
    }
   ],
   "source": [
    "data.info()"
   ]
  },
  {
   "cell_type": "code",
   "execution_count": 223,
   "metadata": {},
   "outputs": [
    {
     "data": {
      "text/html": [
       "<div>\n",
       "<style scoped>\n",
       "    .dataframe tbody tr th:only-of-type {\n",
       "        vertical-align: middle;\n",
       "    }\n",
       "\n",
       "    .dataframe tbody tr th {\n",
       "        vertical-align: top;\n",
       "    }\n",
       "\n",
       "    .dataframe thead th {\n",
       "        text-align: right;\n",
       "    }\n",
       "</style>\n",
       "<table border=\"1\" class=\"dataframe\">\n",
       "  <thead>\n",
       "    <tr style=\"text-align: right;\">\n",
       "      <th></th>\n",
       "      <th>RowNumber</th>\n",
       "      <th>CustomerId</th>\n",
       "      <th>Surname</th>\n",
       "      <th>CreditScore</th>\n",
       "      <th>Geography</th>\n",
       "      <th>Gender</th>\n",
       "      <th>Age</th>\n",
       "      <th>Tenure</th>\n",
       "      <th>Balance</th>\n",
       "      <th>NumOfProducts</th>\n",
       "      <th>HasCrCard</th>\n",
       "      <th>IsActiveMember</th>\n",
       "      <th>EstimatedSalary</th>\n",
       "      <th>Exited</th>\n",
       "    </tr>\n",
       "  </thead>\n",
       "  <tbody>\n",
       "    <tr>\n",
       "      <td>0</td>\n",
       "      <td>1</td>\n",
       "      <td>15634602</td>\n",
       "      <td>Hargrave</td>\n",
       "      <td>619</td>\n",
       "      <td>France</td>\n",
       "      <td>Female</td>\n",
       "      <td>42</td>\n",
       "      <td>2.0</td>\n",
       "      <td>0.00</td>\n",
       "      <td>1</td>\n",
       "      <td>1</td>\n",
       "      <td>1</td>\n",
       "      <td>101348.88</td>\n",
       "      <td>1</td>\n",
       "    </tr>\n",
       "    <tr>\n",
       "      <td>1</td>\n",
       "      <td>2</td>\n",
       "      <td>15647311</td>\n",
       "      <td>Hill</td>\n",
       "      <td>608</td>\n",
       "      <td>Spain</td>\n",
       "      <td>Female</td>\n",
       "      <td>41</td>\n",
       "      <td>1.0</td>\n",
       "      <td>83807.86</td>\n",
       "      <td>1</td>\n",
       "      <td>0</td>\n",
       "      <td>1</td>\n",
       "      <td>112542.58</td>\n",
       "      <td>0</td>\n",
       "    </tr>\n",
       "    <tr>\n",
       "      <td>2</td>\n",
       "      <td>3</td>\n",
       "      <td>15619304</td>\n",
       "      <td>Onio</td>\n",
       "      <td>502</td>\n",
       "      <td>France</td>\n",
       "      <td>Female</td>\n",
       "      <td>42</td>\n",
       "      <td>8.0</td>\n",
       "      <td>159660.80</td>\n",
       "      <td>3</td>\n",
       "      <td>1</td>\n",
       "      <td>0</td>\n",
       "      <td>113931.57</td>\n",
       "      <td>1</td>\n",
       "    </tr>\n",
       "    <tr>\n",
       "      <td>3</td>\n",
       "      <td>4</td>\n",
       "      <td>15701354</td>\n",
       "      <td>Boni</td>\n",
       "      <td>699</td>\n",
       "      <td>France</td>\n",
       "      <td>Female</td>\n",
       "      <td>39</td>\n",
       "      <td>1.0</td>\n",
       "      <td>0.00</td>\n",
       "      <td>2</td>\n",
       "      <td>0</td>\n",
       "      <td>0</td>\n",
       "      <td>93826.63</td>\n",
       "      <td>0</td>\n",
       "    </tr>\n",
       "    <tr>\n",
       "      <td>4</td>\n",
       "      <td>5</td>\n",
       "      <td>15737888</td>\n",
       "      <td>Mitchell</td>\n",
       "      <td>850</td>\n",
       "      <td>Spain</td>\n",
       "      <td>Female</td>\n",
       "      <td>43</td>\n",
       "      <td>2.0</td>\n",
       "      <td>125510.82</td>\n",
       "      <td>1</td>\n",
       "      <td>1</td>\n",
       "      <td>1</td>\n",
       "      <td>79084.10</td>\n",
       "      <td>0</td>\n",
       "    </tr>\n",
       "    <tr>\n",
       "      <td>...</td>\n",
       "      <td>...</td>\n",
       "      <td>...</td>\n",
       "      <td>...</td>\n",
       "      <td>...</td>\n",
       "      <td>...</td>\n",
       "      <td>...</td>\n",
       "      <td>...</td>\n",
       "      <td>...</td>\n",
       "      <td>...</td>\n",
       "      <td>...</td>\n",
       "      <td>...</td>\n",
       "      <td>...</td>\n",
       "      <td>...</td>\n",
       "      <td>...</td>\n",
       "    </tr>\n",
       "    <tr>\n",
       "      <td>9995</td>\n",
       "      <td>9996</td>\n",
       "      <td>15606229</td>\n",
       "      <td>Obijiaku</td>\n",
       "      <td>771</td>\n",
       "      <td>France</td>\n",
       "      <td>Male</td>\n",
       "      <td>39</td>\n",
       "      <td>5.0</td>\n",
       "      <td>0.00</td>\n",
       "      <td>2</td>\n",
       "      <td>1</td>\n",
       "      <td>0</td>\n",
       "      <td>96270.64</td>\n",
       "      <td>0</td>\n",
       "    </tr>\n",
       "    <tr>\n",
       "      <td>9996</td>\n",
       "      <td>9997</td>\n",
       "      <td>15569892</td>\n",
       "      <td>Johnstone</td>\n",
       "      <td>516</td>\n",
       "      <td>France</td>\n",
       "      <td>Male</td>\n",
       "      <td>35</td>\n",
       "      <td>10.0</td>\n",
       "      <td>57369.61</td>\n",
       "      <td>1</td>\n",
       "      <td>1</td>\n",
       "      <td>1</td>\n",
       "      <td>101699.77</td>\n",
       "      <td>0</td>\n",
       "    </tr>\n",
       "    <tr>\n",
       "      <td>9997</td>\n",
       "      <td>9998</td>\n",
       "      <td>15584532</td>\n",
       "      <td>Liu</td>\n",
       "      <td>709</td>\n",
       "      <td>France</td>\n",
       "      <td>Female</td>\n",
       "      <td>36</td>\n",
       "      <td>7.0</td>\n",
       "      <td>0.00</td>\n",
       "      <td>1</td>\n",
       "      <td>0</td>\n",
       "      <td>1</td>\n",
       "      <td>42085.58</td>\n",
       "      <td>1</td>\n",
       "    </tr>\n",
       "    <tr>\n",
       "      <td>9998</td>\n",
       "      <td>9999</td>\n",
       "      <td>15682355</td>\n",
       "      <td>Sabbatini</td>\n",
       "      <td>772</td>\n",
       "      <td>Germany</td>\n",
       "      <td>Male</td>\n",
       "      <td>42</td>\n",
       "      <td>3.0</td>\n",
       "      <td>75075.31</td>\n",
       "      <td>2</td>\n",
       "      <td>1</td>\n",
       "      <td>0</td>\n",
       "      <td>92888.52</td>\n",
       "      <td>1</td>\n",
       "    </tr>\n",
       "    <tr>\n",
       "      <td>9999</td>\n",
       "      <td>10000</td>\n",
       "      <td>15628319</td>\n",
       "      <td>Walker</td>\n",
       "      <td>792</td>\n",
       "      <td>France</td>\n",
       "      <td>Female</td>\n",
       "      <td>28</td>\n",
       "      <td>NaN</td>\n",
       "      <td>130142.79</td>\n",
       "      <td>1</td>\n",
       "      <td>1</td>\n",
       "      <td>0</td>\n",
       "      <td>38190.78</td>\n",
       "      <td>0</td>\n",
       "    </tr>\n",
       "  </tbody>\n",
       "</table>\n",
       "<p>10000 rows × 14 columns</p>\n",
       "</div>"
      ],
      "text/plain": [
       "      RowNumber  CustomerId    Surname  CreditScore Geography  Gender  Age  \\\n",
       "0             1    15634602   Hargrave          619    France  Female   42   \n",
       "1             2    15647311       Hill          608     Spain  Female   41   \n",
       "2             3    15619304       Onio          502    France  Female   42   \n",
       "3             4    15701354       Boni          699    France  Female   39   \n",
       "4             5    15737888   Mitchell          850     Spain  Female   43   \n",
       "...         ...         ...        ...          ...       ...     ...  ...   \n",
       "9995       9996    15606229   Obijiaku          771    France    Male   39   \n",
       "9996       9997    15569892  Johnstone          516    France    Male   35   \n",
       "9997       9998    15584532        Liu          709    France  Female   36   \n",
       "9998       9999    15682355  Sabbatini          772   Germany    Male   42   \n",
       "9999      10000    15628319     Walker          792    France  Female   28   \n",
       "\n",
       "      Tenure    Balance  NumOfProducts  HasCrCard  IsActiveMember  \\\n",
       "0        2.0       0.00              1          1               1   \n",
       "1        1.0   83807.86              1          0               1   \n",
       "2        8.0  159660.80              3          1               0   \n",
       "3        1.0       0.00              2          0               0   \n",
       "4        2.0  125510.82              1          1               1   \n",
       "...      ...        ...            ...        ...             ...   \n",
       "9995     5.0       0.00              2          1               0   \n",
       "9996    10.0   57369.61              1          1               1   \n",
       "9997     7.0       0.00              1          0               1   \n",
       "9998     3.0   75075.31              2          1               0   \n",
       "9999     NaN  130142.79              1          1               0   \n",
       "\n",
       "      EstimatedSalary  Exited  \n",
       "0           101348.88       1  \n",
       "1           112542.58       0  \n",
       "2           113931.57       1  \n",
       "3            93826.63       0  \n",
       "4            79084.10       0  \n",
       "...               ...     ...  \n",
       "9995         96270.64       0  \n",
       "9996        101699.77       0  \n",
       "9997         42085.58       1  \n",
       "9998         92888.52       1  \n",
       "9999         38190.78       0  \n",
       "\n",
       "[10000 rows x 14 columns]"
      ]
     },
     "execution_count": 223,
     "metadata": {},
     "output_type": "execute_result"
    }
   ],
   "source": [
    "data"
   ]
  },
  {
   "cell_type": "markdown",
   "metadata": {},
   "source": [
    "Столбец `RowNumber` является лишним, так как обозначает номер строки, как и индексы, поэтому его можно удалить. Так же столбцы `CustomerId` и `Surname` тоже следует удалить, так как они могут оказать влияние на обучение моделей, хотя по идее вляения оказывать не должны."
   ]
  },
  {
   "cell_type": "code",
   "execution_count": 224,
   "metadata": {},
   "outputs": [
    {
     "data": {
      "text/html": [
       "<div>\n",
       "<style scoped>\n",
       "    .dataframe tbody tr th:only-of-type {\n",
       "        vertical-align: middle;\n",
       "    }\n",
       "\n",
       "    .dataframe tbody tr th {\n",
       "        vertical-align: top;\n",
       "    }\n",
       "\n",
       "    .dataframe thead th {\n",
       "        text-align: right;\n",
       "    }\n",
       "</style>\n",
       "<table border=\"1\" class=\"dataframe\">\n",
       "  <thead>\n",
       "    <tr style=\"text-align: right;\">\n",
       "      <th></th>\n",
       "      <th>CreditScore</th>\n",
       "      <th>Geography</th>\n",
       "      <th>Gender</th>\n",
       "      <th>Age</th>\n",
       "      <th>Tenure</th>\n",
       "      <th>Balance</th>\n",
       "      <th>NumOfProducts</th>\n",
       "      <th>HasCrCard</th>\n",
       "      <th>IsActiveMember</th>\n",
       "      <th>EstimatedSalary</th>\n",
       "      <th>Exited</th>\n",
       "    </tr>\n",
       "  </thead>\n",
       "  <tbody>\n",
       "    <tr>\n",
       "      <td>0</td>\n",
       "      <td>619</td>\n",
       "      <td>France</td>\n",
       "      <td>Female</td>\n",
       "      <td>42</td>\n",
       "      <td>2.0</td>\n",
       "      <td>0.00</td>\n",
       "      <td>1</td>\n",
       "      <td>1</td>\n",
       "      <td>1</td>\n",
       "      <td>101348.88</td>\n",
       "      <td>1</td>\n",
       "    </tr>\n",
       "    <tr>\n",
       "      <td>1</td>\n",
       "      <td>608</td>\n",
       "      <td>Spain</td>\n",
       "      <td>Female</td>\n",
       "      <td>41</td>\n",
       "      <td>1.0</td>\n",
       "      <td>83807.86</td>\n",
       "      <td>1</td>\n",
       "      <td>0</td>\n",
       "      <td>1</td>\n",
       "      <td>112542.58</td>\n",
       "      <td>0</td>\n",
       "    </tr>\n",
       "    <tr>\n",
       "      <td>2</td>\n",
       "      <td>502</td>\n",
       "      <td>France</td>\n",
       "      <td>Female</td>\n",
       "      <td>42</td>\n",
       "      <td>8.0</td>\n",
       "      <td>159660.80</td>\n",
       "      <td>3</td>\n",
       "      <td>1</td>\n",
       "      <td>0</td>\n",
       "      <td>113931.57</td>\n",
       "      <td>1</td>\n",
       "    </tr>\n",
       "    <tr>\n",
       "      <td>3</td>\n",
       "      <td>699</td>\n",
       "      <td>France</td>\n",
       "      <td>Female</td>\n",
       "      <td>39</td>\n",
       "      <td>1.0</td>\n",
       "      <td>0.00</td>\n",
       "      <td>2</td>\n",
       "      <td>0</td>\n",
       "      <td>0</td>\n",
       "      <td>93826.63</td>\n",
       "      <td>0</td>\n",
       "    </tr>\n",
       "    <tr>\n",
       "      <td>4</td>\n",
       "      <td>850</td>\n",
       "      <td>Spain</td>\n",
       "      <td>Female</td>\n",
       "      <td>43</td>\n",
       "      <td>2.0</td>\n",
       "      <td>125510.82</td>\n",
       "      <td>1</td>\n",
       "      <td>1</td>\n",
       "      <td>1</td>\n",
       "      <td>79084.10</td>\n",
       "      <td>0</td>\n",
       "    </tr>\n",
       "  </tbody>\n",
       "</table>\n",
       "</div>"
      ],
      "text/plain": [
       "   CreditScore Geography  Gender  Age  Tenure    Balance  NumOfProducts  \\\n",
       "0          619    France  Female   42     2.0       0.00              1   \n",
       "1          608     Spain  Female   41     1.0   83807.86              1   \n",
       "2          502    France  Female   42     8.0  159660.80              3   \n",
       "3          699    France  Female   39     1.0       0.00              2   \n",
       "4          850     Spain  Female   43     2.0  125510.82              1   \n",
       "\n",
       "   HasCrCard  IsActiveMember  EstimatedSalary  Exited  \n",
       "0          1               1        101348.88       1  \n",
       "1          0               1        112542.58       0  \n",
       "2          1               0        113931.57       1  \n",
       "3          0               0         93826.63       0  \n",
       "4          1               1         79084.10       0  "
      ]
     },
     "execution_count": 224,
     "metadata": {},
     "output_type": "execute_result"
    }
   ],
   "source": [
    "df = data.drop(['RowNumber', 'CustomerId', 'Surname'], axis=1)\n",
    "df.head()"
   ]
  },
  {
   "cell_type": "markdown",
   "metadata": {},
   "source": [
    "Так как столбцы `Geography` и `Gender` категориальные и не порядковые, то необходимо преобразовать их в численные техникой прямого кодирования."
   ]
  },
  {
   "cell_type": "code",
   "execution_count": 225,
   "metadata": {},
   "outputs": [
    {
     "data": {
      "text/html": [
       "<div>\n",
       "<style scoped>\n",
       "    .dataframe tbody tr th:only-of-type {\n",
       "        vertical-align: middle;\n",
       "    }\n",
       "\n",
       "    .dataframe tbody tr th {\n",
       "        vertical-align: top;\n",
       "    }\n",
       "\n",
       "    .dataframe thead th {\n",
       "        text-align: right;\n",
       "    }\n",
       "</style>\n",
       "<table border=\"1\" class=\"dataframe\">\n",
       "  <thead>\n",
       "    <tr style=\"text-align: right;\">\n",
       "      <th></th>\n",
       "      <th>CreditScore</th>\n",
       "      <th>Age</th>\n",
       "      <th>Tenure</th>\n",
       "      <th>Balance</th>\n",
       "      <th>NumOfProducts</th>\n",
       "      <th>HasCrCard</th>\n",
       "      <th>IsActiveMember</th>\n",
       "      <th>EstimatedSalary</th>\n",
       "      <th>Exited</th>\n",
       "      <th>Geography_Germany</th>\n",
       "      <th>Geography_Spain</th>\n",
       "      <th>Gender_Male</th>\n",
       "    </tr>\n",
       "  </thead>\n",
       "  <tbody>\n",
       "    <tr>\n",
       "      <td>0</td>\n",
       "      <td>619</td>\n",
       "      <td>42</td>\n",
       "      <td>2.0</td>\n",
       "      <td>0.00</td>\n",
       "      <td>1</td>\n",
       "      <td>1</td>\n",
       "      <td>1</td>\n",
       "      <td>101348.88</td>\n",
       "      <td>1</td>\n",
       "      <td>0</td>\n",
       "      <td>0</td>\n",
       "      <td>0</td>\n",
       "    </tr>\n",
       "    <tr>\n",
       "      <td>1</td>\n",
       "      <td>608</td>\n",
       "      <td>41</td>\n",
       "      <td>1.0</td>\n",
       "      <td>83807.86</td>\n",
       "      <td>1</td>\n",
       "      <td>0</td>\n",
       "      <td>1</td>\n",
       "      <td>112542.58</td>\n",
       "      <td>0</td>\n",
       "      <td>0</td>\n",
       "      <td>1</td>\n",
       "      <td>0</td>\n",
       "    </tr>\n",
       "    <tr>\n",
       "      <td>2</td>\n",
       "      <td>502</td>\n",
       "      <td>42</td>\n",
       "      <td>8.0</td>\n",
       "      <td>159660.80</td>\n",
       "      <td>3</td>\n",
       "      <td>1</td>\n",
       "      <td>0</td>\n",
       "      <td>113931.57</td>\n",
       "      <td>1</td>\n",
       "      <td>0</td>\n",
       "      <td>0</td>\n",
       "      <td>0</td>\n",
       "    </tr>\n",
       "    <tr>\n",
       "      <td>3</td>\n",
       "      <td>699</td>\n",
       "      <td>39</td>\n",
       "      <td>1.0</td>\n",
       "      <td>0.00</td>\n",
       "      <td>2</td>\n",
       "      <td>0</td>\n",
       "      <td>0</td>\n",
       "      <td>93826.63</td>\n",
       "      <td>0</td>\n",
       "      <td>0</td>\n",
       "      <td>0</td>\n",
       "      <td>0</td>\n",
       "    </tr>\n",
       "    <tr>\n",
       "      <td>4</td>\n",
       "      <td>850</td>\n",
       "      <td>43</td>\n",
       "      <td>2.0</td>\n",
       "      <td>125510.82</td>\n",
       "      <td>1</td>\n",
       "      <td>1</td>\n",
       "      <td>1</td>\n",
       "      <td>79084.10</td>\n",
       "      <td>0</td>\n",
       "      <td>0</td>\n",
       "      <td>1</td>\n",
       "      <td>0</td>\n",
       "    </tr>\n",
       "  </tbody>\n",
       "</table>\n",
       "</div>"
      ],
      "text/plain": [
       "   CreditScore  Age  Tenure    Balance  NumOfProducts  HasCrCard  \\\n",
       "0          619   42     2.0       0.00              1          1   \n",
       "1          608   41     1.0   83807.86              1          0   \n",
       "2          502   42     8.0  159660.80              3          1   \n",
       "3          699   39     1.0       0.00              2          0   \n",
       "4          850   43     2.0  125510.82              1          1   \n",
       "\n",
       "   IsActiveMember  EstimatedSalary  Exited  Geography_Germany  \\\n",
       "0               1        101348.88       1                  0   \n",
       "1               1        112542.58       0                  0   \n",
       "2               0        113931.57       1                  0   \n",
       "3               0         93826.63       0                  0   \n",
       "4               1         79084.10       0                  0   \n",
       "\n",
       "   Geography_Spain  Gender_Male  \n",
       "0                0            0  \n",
       "1                1            0  \n",
       "2                0            0  \n",
       "3                0            0  \n",
       "4                1            0  "
      ]
     },
     "execution_count": 225,
     "metadata": {},
     "output_type": "execute_result"
    }
   ],
   "source": [
    "df = pd.get_dummies(df, drop_first=True)\n",
    "df.head()"
   ]
  },
  {
   "cell_type": "markdown",
   "metadata": {},
   "source": [
    "Были созданы фиктивные признаки `Geography_Germany, Geography_Spain и Gender_Male`, таким образом нулевые значения в первых двух означают, что клиент из Франции, а в последнем, что клиент является женщиной."
   ]
  },
  {
   "cell_type": "markdown",
   "metadata": {},
   "source": [
    "В столбце `Tenure` присутствуют пропуски, поэтому их необходимо заполнить. Заполнять будем, исходя из соображения, что отсутствующие значения не должны повлиять на распределение. Поэтому построим столбчантые диаграммы, заполним пустые ячейки случайными числами и сравним распределения."
   ]
  },
  {
   "cell_type": "code",
   "execution_count": 226,
   "metadata": {},
   "outputs": [
    {
     "data": {
      "text/plain": [
       "Text(0, 0.5, 'Количество клиентов, шт.')"
      ]
     },
     "execution_count": 226,
     "metadata": {},
     "output_type": "execute_result"
    },
    {
     "data": {
      "image/png": "[encoded data removed]",
      "text/plain": [
       "<Figure size 432x288 with 1 Axes>"
      ]
     },
     "metadata": {
      "needs_background": "light"
     },
     "output_type": "display_data"
    }
   ],
   "source": [
    "ten_prev = (df['Tenure']\n",
    "            .value_counts()\n",
    "            .sort_index()\n",
    "            )\n",
    "ten_prev.plot(kind='bar')\n",
    "plt.title('Диаграмма до заполнения')\n",
    "plt.xlabel('Количество недвижимости, шт.')\n",
    "plt.ylabel('Количество клиентов, шт.')"
   ]
  },
  {
   "cell_type": "code",
   "execution_count": 227,
   "metadata": {
    "scrolled": false
   },
   "outputs": [
    {
     "data": {
      "text/plain": [
       "Text(0, 0.5, 'Количество клиентов, шт.')"
      ]
     },
     "execution_count": 227,
     "metadata": {},
     "output_type": "execute_result"
    },
    {
     "data": {
      "image/png": "[encoded data removed]",
      "text/plain": [
       "<Figure size 432x288 with 1 Axes>"
      ]
     },
     "metadata": {
      "needs_background": "light"
     },
     "output_type": "display_data"
    }
   ],
   "source": [
    "def random_tenure(value):\n",
    "    if value != value:\n",
    "        return np.random.randint(0, 11)\n",
    "    return value\n",
    "\n",
    "df['Tenure'] = df['Tenure'].apply(random_tenure)\n",
    "\n",
    "ten_aft = (df['Tenure']\n",
    "           .value_counts()\n",
    "           .sort_index()\n",
    "           )\n",
    "ten_aft.plot(kind='bar', color='green', alpha=0.4)\n",
    "plt.title('Диаграмма после заполнения')\n",
    "plt.xlabel('Количество недвижимости, шт.')\n",
    "plt.ylabel('Количество клиентов, шт.')"
   ]
  },
  {
   "cell_type": "code",
   "execution_count": 228,
   "metadata": {},
   "outputs": [
    {
     "data": {
      "text/plain": [
       "Text(0, 0.5, 'Количество клиентов, шт.')"
      ]
     },
     "execution_count": 228,
     "metadata": {},
     "output_type": "execute_result"
    },
    {
     "data": {
      "image/png": "[encoded data removed]",
      "text/plain": [
       "<Figure size 648x432 with 1 Axes>"
      ]
     },
     "metadata": {
      "needs_background": "light"
     },
     "output_type": "display_data"
    }
   ],
   "source": [
    "ax = ten_aft.plot(kind='bar', label='After', legend=True)\n",
    "ten_prev.plot(kind='bar', label='Before', figsize=(9,6), legend=True, ax=ax, color='green', alpha=0.3)\n",
    "plt.title('Сравнение диаграмм')\n",
    "plt.xlabel('Количество недвижимости, шт.')\n",
    "plt.ylabel('Количество клиентов, шт.')"
   ]
  },
  {
   "cell_type": "markdown",
   "metadata": {},
   "source": [
    "Распределение не изменилось, а значит пропуски заполнены корректно."
   ]
  },
  {
   "cell_type": "code",
   "execution_count": 229,
   "metadata": {},
   "outputs": [
    {
     "name": "stdout",
     "output_type": "stream",
     "text": [
      "<class 'pandas.core.frame.DataFrame'>\n",
      "RangeIndex: 10000 entries, 0 to 9999\n",
      "Data columns (total 12 columns):\n",
      "CreditScore          10000 non-null int64\n",
      "Age                  10000 non-null int64\n",
      "Tenure               10000 non-null float64\n",
      "Balance              10000 non-null float64\n",
      "NumOfProducts        10000 non-null int64\n",
      "HasCrCard            10000 non-null int64\n",
      "IsActiveMember       10000 non-null int64\n",
      "EstimatedSalary      10000 non-null float64\n",
      "Exited               10000 non-null int64\n",
      "Geography_Germany    10000 non-null uint8\n",
      "Geography_Spain      10000 non-null uint8\n",
      "Gender_Male          10000 non-null uint8\n",
      "dtypes: float64(3), int64(6), uint8(3)\n",
      "memory usage: 732.5 KB\n"
     ]
    }
   ],
   "source": [
    "df.info()"
   ]
  },
  {
   "cell_type": "markdown",
   "metadata": {},
   "source": [
    "### Вывод\n",
    "\n",
    "Данные обработаны, перейдем к исследованию задачи."
   ]
  },
  {
   "cell_type": "markdown",
   "metadata": {},
   "source": [
    "# 2. Исследование задачи"
   ]
  },
  {
   "cell_type": "markdown",
   "metadata": {},
   "source": [
    "Выделим признаки и целевой признак в отдельные переменные."
   ]
  },
  {
   "cell_type": "code",
   "execution_count": 230,
   "metadata": {},
   "outputs": [
    {
     "data": {
      "text/plain": [
       "0    0.7963\n",
       "1    0.2037\n",
       "Name: Exited, dtype: float64"
      ]
     },
     "execution_count": 230,
     "metadata": {},
     "output_type": "execute_result"
    }
   ],
   "source": [
    "target = df['Exited']\n",
    "features = df.drop(['Exited'], axis=1)\n",
    "target.value_counts()/len(target)"
   ]
  },
  {
   "cell_type": "markdown",
   "metadata": {},
   "source": [
    "Классы не сбалансированы и представлены в соотношении 80 к 20, где 20% - это ушедшие клиены, а 80 - оставшиеся.\n",
    "\n",
    "Выделим тренировочную выборку, содержащую 60% всех данных."
   ]
  },
  {
   "cell_type": "code",
   "execution_count": 231,
   "metadata": {},
   "outputs": [
    {
     "name": "stdout",
     "output_type": "stream",
     "text": [
      "(6000, 11)\n",
      "(6000,)\n",
      "(4000, 11)\n",
      "(4000,)\n"
     ]
    }
   ],
   "source": [
    "features_train, features_tv, target_train, target_tv = train_test_split(\n",
    "    features, target, test_size=0.4, random_state=123, stratify=target)\n",
    "print(features_train.shape)\n",
    "print(target_train.shape)\n",
    "print(features_tv.shape)\n",
    "print(target_tv.shape)"
   ]
  },
  {
   "cell_type": "markdown",
   "metadata": {},
   "source": [
    "Разделим оставшиеся данные пополам, так на валидационную и тестовую выборки будет выделено по 20% от всех данных."
   ]
  },
  {
   "cell_type": "code",
   "execution_count": 232,
   "metadata": {},
   "outputs": [
    {
     "name": "stdout",
     "output_type": "stream",
     "text": [
      "(2000,)\n",
      "(2000,)\n"
     ]
    }
   ],
   "source": [
    "features_valid, features_test, target_valid, target_test = train_test_split(\n",
    "    features_tv, target_tv, test_size=0.5, random_state=123, stratify=target_tv)\n",
    "print(target_valid.shape)\n",
    "print(target_test.shape)"
   ]
  },
  {
   "cell_type": "markdown",
   "metadata": {},
   "source": [
    "Выполним масштабирование данных тренировочной и валидационной выборок, предварительно обучив StandardScaler на тренировочных данных."
   ]
  },
  {
   "cell_type": "code",
   "execution_count": 233,
   "metadata": {},
   "outputs": [
    {
     "name": "stderr",
     "output_type": "stream",
     "text": [
      "/opt/conda/lib/python3.7/site-packages/pandas/core/frame.py:3494: SettingWithCopyWarning: \n",
      "A value is trying to be set on a copy of a slice from a DataFrame.\n",
      "Try using .loc[row_indexer,col_indexer] = value instead\n",
      "\n",
      "See the caveats in the documentation: http://pandas.pydata.org/pandas-docs/stable/user_guide/indexing.html#returning-a-view-versus-a-copy\n",
      "  self[k1] = value[k2]\n",
      "/opt/conda/lib/python3.7/site-packages/pandas/core/frame.py:3494: SettingWithCopyWarning: \n",
      "A value is trying to be set on a copy of a slice from a DataFrame.\n",
      "Try using .loc[row_indexer,col_indexer] = value instead\n",
      "\n",
      "See the caveats in the documentation: http://pandas.pydata.org/pandas-docs/stable/user_guide/indexing.html#returning-a-view-versus-a-copy\n",
      "  self[k1] = value[k2]\n",
      "/opt/conda/lib/python3.7/site-packages/pandas/core/frame.py:3494: SettingWithCopyWarning: \n",
      "A value is trying to be set on a copy of a slice from a DataFrame.\n",
      "Try using .loc[row_indexer,col_indexer] = value instead\n",
      "\n",
      "See the caveats in the documentation: http://pandas.pydata.org/pandas-docs/stable/user_guide/indexing.html#returning-a-view-versus-a-copy\n",
      "  self[k1] = value[k2]\n"
     ]
    }
   ],
   "source": [
    "numeric = ['CreditScore', 'Age', 'Tenure', 'Balance', 'NumOfProducts', 'EstimatedSalary']\n",
    "scaler = StandardScaler()\n",
    "scaler.fit(features_train[numeric])\n",
    "features_train[numeric] = pd.DataFrame(scaler.transform(features_train[numeric]), index=target_train.index)\n",
    "features_valid[numeric] = pd.DataFrame(scaler.transform(features_valid[numeric]), index=target_valid.index)\n",
    "features_test[numeric] = pd.DataFrame(scaler.transform(features_test[numeric]), index=target_test.index)"
   ]
  },
  {
   "cell_type": "code",
   "execution_count": 234,
   "metadata": {},
   "outputs": [
    {
     "data": {
      "text/html": [
       "<div>\n",
       "<style scoped>\n",
       "    .dataframe tbody tr th:only-of-type {\n",
       "        vertical-align: middle;\n",
       "    }\n",
       "\n",
       "    .dataframe tbody tr th {\n",
       "        vertical-align: top;\n",
       "    }\n",
       "\n",
       "    .dataframe thead th {\n",
       "        text-align: right;\n",
       "    }\n",
       "</style>\n",
       "<table border=\"1\" class=\"dataframe\">\n",
       "  <thead>\n",
       "    <tr style=\"text-align: right;\">\n",
       "      <th></th>\n",
       "      <th>CreditScore</th>\n",
       "      <th>Age</th>\n",
       "      <th>Tenure</th>\n",
       "      <th>Balance</th>\n",
       "      <th>NumOfProducts</th>\n",
       "      <th>HasCrCard</th>\n",
       "      <th>IsActiveMember</th>\n",
       "      <th>EstimatedSalary</th>\n",
       "      <th>Geography_Germany</th>\n",
       "      <th>Geography_Spain</th>\n",
       "      <th>Gender_Male</th>\n",
       "    </tr>\n",
       "  </thead>\n",
       "  <tbody>\n",
       "    <tr>\n",
       "      <td>0</td>\n",
       "      <td>619</td>\n",
       "      <td>42</td>\n",
       "      <td>2.0</td>\n",
       "      <td>0.00</td>\n",
       "      <td>1</td>\n",
       "      <td>1</td>\n",
       "      <td>1</td>\n",
       "      <td>101348.88</td>\n",
       "      <td>0</td>\n",
       "      <td>0</td>\n",
       "      <td>0</td>\n",
       "    </tr>\n",
       "    <tr>\n",
       "      <td>1</td>\n",
       "      <td>608</td>\n",
       "      <td>41</td>\n",
       "      <td>1.0</td>\n",
       "      <td>83807.86</td>\n",
       "      <td>1</td>\n",
       "      <td>0</td>\n",
       "      <td>1</td>\n",
       "      <td>112542.58</td>\n",
       "      <td>0</td>\n",
       "      <td>1</td>\n",
       "      <td>0</td>\n",
       "    </tr>\n",
       "    <tr>\n",
       "      <td>2</td>\n",
       "      <td>502</td>\n",
       "      <td>42</td>\n",
       "      <td>8.0</td>\n",
       "      <td>159660.80</td>\n",
       "      <td>3</td>\n",
       "      <td>1</td>\n",
       "      <td>0</td>\n",
       "      <td>113931.57</td>\n",
       "      <td>0</td>\n",
       "      <td>0</td>\n",
       "      <td>0</td>\n",
       "    </tr>\n",
       "  </tbody>\n",
       "</table>\n",
       "</div>"
      ],
      "text/plain": [
       "   CreditScore  Age  Tenure    Balance  NumOfProducts  HasCrCard  \\\n",
       "0          619   42     2.0       0.00              1          1   \n",
       "1          608   41     1.0   83807.86              1          0   \n",
       "2          502   42     8.0  159660.80              3          1   \n",
       "\n",
       "   IsActiveMember  EstimatedSalary  Geography_Germany  Geography_Spain  \\\n",
       "0               1        101348.88                  0                0   \n",
       "1               1        112542.58                  0                1   \n",
       "2               0        113931.57                  0                0   \n",
       "\n",
       "   Gender_Male  \n",
       "0            0  \n",
       "1            0  \n",
       "2            0  "
      ]
     },
     "execution_count": 234,
     "metadata": {},
     "output_type": "execute_result"
    }
   ],
   "source": [
    "features.head(3)"
   ]
  },
  {
   "cell_type": "code",
   "execution_count": 235,
   "metadata": {},
   "outputs": [
    {
     "data": {
      "text/html": [
       "<div>\n",
       "<style scoped>\n",
       "    .dataframe tbody tr th:only-of-type {\n",
       "        vertical-align: middle;\n",
       "    }\n",
       "\n",
       "    .dataframe tbody tr th {\n",
       "        vertical-align: top;\n",
       "    }\n",
       "\n",
       "    .dataframe thead th {\n",
       "        text-align: right;\n",
       "    }\n",
       "</style>\n",
       "<table border=\"1\" class=\"dataframe\">\n",
       "  <thead>\n",
       "    <tr style=\"text-align: right;\">\n",
       "      <th></th>\n",
       "      <th>CreditScore</th>\n",
       "      <th>Age</th>\n",
       "      <th>Tenure</th>\n",
       "      <th>Balance</th>\n",
       "      <th>NumOfProducts</th>\n",
       "      <th>HasCrCard</th>\n",
       "      <th>IsActiveMember</th>\n",
       "      <th>EstimatedSalary</th>\n",
       "      <th>Geography_Germany</th>\n",
       "      <th>Geography_Spain</th>\n",
       "      <th>Gender_Male</th>\n",
       "    </tr>\n",
       "  </thead>\n",
       "  <tbody>\n",
       "    <tr>\n",
       "      <td>6255</td>\n",
       "      <td>-1.081763</td>\n",
       "      <td>1.561078</td>\n",
       "      <td>1.384936</td>\n",
       "      <td>0.567612</td>\n",
       "      <td>2.552230</td>\n",
       "      <td>1</td>\n",
       "      <td>0</td>\n",
       "      <td>-1.444757</td>\n",
       "      <td>1</td>\n",
       "      <td>0</td>\n",
       "      <td>1</td>\n",
       "    </tr>\n",
       "    <tr>\n",
       "      <td>7141</td>\n",
       "      <td>1.083241</td>\n",
       "      <td>-0.091611</td>\n",
       "      <td>-1.366478</td>\n",
       "      <td>0.097622</td>\n",
       "      <td>-0.926107</td>\n",
       "      <td>0</td>\n",
       "      <td>1</td>\n",
       "      <td>-1.559126</td>\n",
       "      <td>1</td>\n",
       "      <td>0</td>\n",
       "      <td>0</td>\n",
       "    </tr>\n",
       "    <tr>\n",
       "      <td>3824</td>\n",
       "      <td>0.167278</td>\n",
       "      <td>0.491691</td>\n",
       "      <td>0.009229</td>\n",
       "      <td>0.751314</td>\n",
       "      <td>-0.926107</td>\n",
       "      <td>0</td>\n",
       "      <td>0</td>\n",
       "      <td>-1.476028</td>\n",
       "      <td>0</td>\n",
       "      <td>0</td>\n",
       "      <td>1</td>\n",
       "    </tr>\n",
       "  </tbody>\n",
       "</table>\n",
       "</div>"
      ],
      "text/plain": [
       "      CreditScore       Age    Tenure   Balance  NumOfProducts  HasCrCard  \\\n",
       "6255    -1.081763  1.561078  1.384936  0.567612       2.552230          1   \n",
       "7141     1.083241 -0.091611 -1.366478  0.097622      -0.926107          0   \n",
       "3824     0.167278  0.491691  0.009229  0.751314      -0.926107          0   \n",
       "\n",
       "      IsActiveMember  EstimatedSalary  Geography_Germany  Geography_Spain  \\\n",
       "6255               0        -1.444757                  1                0   \n",
       "7141               1        -1.559126                  1                0   \n",
       "3824               0        -1.476028                  0                0   \n",
       "\n",
       "      Gender_Male  \n",
       "6255            1  \n",
       "7141            0  \n",
       "3824            1  "
      ]
     },
     "execution_count": 235,
     "metadata": {},
     "output_type": "execute_result"
    }
   ],
   "source": [
    "features_train.head(3)"
   ]
  },
  {
   "cell_type": "markdown",
   "metadata": {},
   "source": [
    "Обучим модель логистической регрессии и получим значение метрики F1."
   ]
  },
  {
   "cell_type": "code",
   "execution_count": 236,
   "metadata": {},
   "outputs": [
    {
     "data": {
      "text/plain": [
       "0.29893238434163705"
      ]
     },
     "execution_count": 236,
     "metadata": {},
     "output_type": "execute_result"
    }
   ],
   "source": [
    "model = LogisticRegression(random_state=123, solver='liblinear')\n",
    "model.fit(features_train, target_train)\n",
    "predictions = model.predict(features_valid)\n",
    "f1_score(target_valid, predictions)"
   ]
  },
  {
   "cell_type": "markdown",
   "metadata": {},
   "source": [
    "Значение F1-меры мало, это означает, что модель плохо выявляет нужный класс. Необходимо разобраться с чем конкретно проблема у данной модели. Подсчитаем ***точность***"
   ]
  },
  {
   "cell_type": "code",
   "execution_count": 237,
   "metadata": {
    "scrolled": true
   },
   "outputs": [
    {
     "data": {
      "text/plain": [
       "0.5454545454545454"
      ]
     },
     "execution_count": 237,
     "metadata": {},
     "output_type": "execute_result"
    }
   ],
   "source": [
    "precision_score(target_valid, predictions)"
   ]
  },
  {
   "cell_type": "markdown",
   "metadata": {},
   "source": [
    "Такое значение точности говорит о том, что модель выявила примерно столько же ложноположительных ответов **FP** как и истиноположительных **TP**.\n",
    "\n",
    "Найдем значение ***полноты***"
   ]
  },
  {
   "cell_type": "code",
   "execution_count": 238,
   "metadata": {},
   "outputs": [
    {
     "data": {
      "text/plain": [
       "0.20588235294117646"
      ]
     },
     "execution_count": 238,
     "metadata": {},
     "output_type": "execute_result"
    }
   ],
   "source": [
    "recall_score(target_valid, predictions)"
   ]
  },
  {
   "cell_type": "markdown",
   "metadata": {},
   "source": [
    "Токое значение полноты говорит о том, что количество ложноотрицательных ответов **FN** значительно выше количества истиноположительных **TP**."
   ]
  },
  {
   "cell_type": "markdown",
   "metadata": {},
   "source": [
    "Получим матрицу соответствия, чтобы подтвердить свои выводы. Вертикальная ось -  это правильные ответы, а горизонтальная - предсказания."
   ]
  },
  {
   "cell_type": "code",
   "execution_count": 239,
   "metadata": {},
   "outputs": [
    {
     "data": {
      "text/plain": [
       "array([[1522,   70],\n",
       "       [ 324,   84]])"
      ]
     },
     "execution_count": 239,
     "metadata": {},
     "output_type": "execute_result"
    }
   ],
   "source": [
    "confusion_matrix(target_valid, predictions)"
   ]
  },
  {
   "cell_type": "markdown",
   "metadata": {},
   "source": [
    "Матрица подтверждает выводы сделаные выше, что количество FN ответов существенно превышает TP ответы.\n",
    "\n",
    "Подсчитаем значение ROC_AUC и построим кривую в сравнении со случайной моделью."
   ]
  },
  {
   "cell_type": "code",
   "execution_count": 240,
   "metadata": {},
   "outputs": [
    {
     "data": {
      "text/plain": [
       "0.7321857449009755"
      ]
     },
     "execution_count": 240,
     "metadata": {},
     "output_type": "execute_result"
    }
   ],
   "source": [
    "probabilites_valid = model.predict_proba(features_valid)\n",
    "probabilites_one_valid = probabilites_valid[:, 1]\n",
    "roc_auc_score(target_valid, probabilites_one_valid)"
   ]
  },
  {
   "cell_type": "code",
   "execution_count": 241,
   "metadata": {},
   "outputs": [
    {
     "data": {
      "text/plain": [
       "Text(0.5, 1.0, 'ROC-кривая')"
      ]
     },
     "execution_count": 241,
     "metadata": {},
     "output_type": "execute_result"
    },
    {
     "data": {
      "image/png": "[encoded data removed]",
      "text/plain": [
       "<Figure size 648x432 with 1 Axes>"
      ]
     },
     "metadata": {
      "needs_background": "light"
     },
     "output_type": "display_data"
    }
   ],
   "source": [
    "fpr, tpr, threshholds = roc_curve(target_valid, probabilites_one_valid)\n",
    "plt.figure(figsize=(9, 6))\n",
    "plt.plot(fpr, tpr)\n",
    "plt.plot([0, 1], [0, 1], linestyle='--')\n",
    "plt.xlim([0, 1])\n",
    "plt.ylim([0, 1])\n",
    "plt.xlabel('False Positive Rate')\n",
    "plt.ylabel('True Positive Rate')\n",
    "plt.title('ROC-кривая')"
   ]
  },
  {
   "cell_type": "markdown",
   "metadata": {},
   "source": [
    "Модель логистической регрессии работает лучше случайной модели. В следующем разделе необходимо поднять метрику ROC-AUC выше 0.74."
   ]
  },
  {
   "cell_type": "markdown",
   "metadata": {},
   "source": [
    "### Вывод\n",
    "\n",
    "Несмотря на то, что по метрике ROC-AUC модель показывает неплохие на первый взгляд результаты, но F1-мера мала и ее требуется повысить. Воспользуемся методами увеличения и понижения количества объектов преобладающего класса для больры с дисбалансом при обучении модели. Это должно помочь повысить F1."
   ]
  },
  {
   "cell_type": "markdown",
   "metadata": {},
   "source": [
    "# 3. Борьба с дисбалансом"
   ]
  },
  {
   "cell_type": "markdown",
   "metadata": {},
   "source": [
    "### Upsampling"
   ]
  },
  {
   "cell_type": "markdown",
   "metadata": {},
   "source": [
    "Для сбалансирования классов воспользуемся методом **upsampling** и для начала подсчитаем во сколько раз нужно увеличить количество объектов в классе \"1\"."
   ]
  },
  {
   "cell_type": "code",
   "execution_count": 242,
   "metadata": {},
   "outputs": [
    {
     "name": "stdout",
     "output_type": "stream",
     "text": [
      "Во сколько раз увеличить класс \"1\": 4\n"
     ]
    }
   ],
   "source": [
    "repeat = round(target[target == 0].count() / target[target == 1].count())\n",
    "print('Во сколько раз увеличить класс \"1\":', repeat)"
   ]
  },
  {
   "cell_type": "markdown",
   "metadata": {},
   "source": [
    "Необходимо написать функцию, которая увеличит класс \"1\"."
   ]
  },
  {
   "cell_type": "code",
   "execution_count": 243,
   "metadata": {},
   "outputs": [],
   "source": [
    "def upsampling(features, target, repeat):\n",
    "    features_zero = features[target == 0]\n",
    "    features_one = features[target == 1]\n",
    "    target_zero = target[target == 0]\n",
    "    target_one = target[target == 1]\n",
    "    \n",
    "    features_up = pd.concat([features_zero] + [features_one] * repeat)\n",
    "    target_up = pd.concat([target_zero] + [target_one] * repeat)\n",
    "    features_up, target_up = shuffle(features_up, target_up, random_state=123)\n",
    "    return features_up, target_up"
   ]
  },
  {
   "cell_type": "code",
   "execution_count": 244,
   "metadata": {},
   "outputs": [
    {
     "name": "stdout",
     "output_type": "stream",
     "text": [
      "(6000, 11)\n",
      "(9666, 11)\n"
     ]
    }
   ],
   "source": [
    "features_train_up, target_up = upsampling(features_train, target_train, repeat)\n",
    "print(features_train.shape)\n",
    "print(features_train_up.shape)"
   ]
  },
  {
   "cell_type": "markdown",
   "metadata": {},
   "source": [
    "Класс был успешно увеличен.\n",
    "\n",
    "Далее обучим **DecisionTree**."
   ]
  },
  {
   "cell_type": "code",
   "execution_count": 245,
   "metadata": {},
   "outputs": [
    {
     "name": "stdout",
     "output_type": "stream",
     "text": [
      "Лучшее дерево имеет глубину 5 и метрика ROC-AUC равна 0.834\n",
      "F1-мера: 0.551\n",
      "Точность: 0.422\n",
      "Полнота: 0.792\n"
     ]
    }
   ],
   "source": [
    "roc_best = 0\n",
    "for depth in range(1, 11):\n",
    "    tree = DecisionTreeClassifier(max_depth=depth, random_state=123)\n",
    "    tree.fit(features_train_up, target_up)\n",
    "    predictions = tree.predict(features_valid)\n",
    "    f1 = f1_score(target_valid, predictions)\n",
    "    \n",
    "    probabilites_valid = tree.predict_proba(features_valid)\n",
    "    probabilites_one_valid = probabilites_valid[:, 1]\n",
    "    roc = roc_auc_score(target_valid, probabilites_one_valid)\n",
    "    if roc > roc_best:\n",
    "        tree_best = tree\n",
    "        f1_best = f1\n",
    "        depth_best = depth\n",
    "        roc_best = roc\n",
    "        predictions_best = predictions\n",
    "print('Лучшее дерево имеет глубину {} и метрика ROC-AUC равна {:.3f}'.format(depth_best, roc_best))\n",
    "print('F1-мера: {:.3f}'.format(f1_best))\n",
    "precision = precision_score(target_valid, predictions_best)\n",
    "print('Точность: {:.3f}'.format(precision))\n",
    "recall = recall_score(target_valid, predictions_best)\n",
    "print('Полнота: {:.3f}'.format(recall))"
   ]
  },
  {
   "cell_type": "code",
   "execution_count": 246,
   "metadata": {},
   "outputs": [
    {
     "data": {
      "text/plain": [
       "{'name': 'DecisionTree',\n",
       " 'recall': 0.7916666666666666,\n",
       " 'precision': 0.4222222222222222,\n",
       " 'f1': 0.5507246376811594,\n",
       " 'roc-auc': 0.8337759569908365}"
      ]
     },
     "execution_count": 246,
     "metadata": {},
     "output_type": "execute_result"
    }
   ],
   "source": [
    "t = pd.Series(data=['DecisionTree', recall, precision, f1_best, roc_best])\n",
    "t = {'name': 'DecisionTree',\n",
    "     'recall': recall,\n",
    "     'precision': precision,\n",
    "     'f1': f1_best,\n",
    "     'roc-auc': roc_best}\n",
    "t"
   ]
  },
  {
   "cell_type": "markdown",
   "metadata": {},
   "source": [
    "**RandomForest**"
   ]
  },
  {
   "cell_type": "code",
   "execution_count": 247,
   "metadata": {
    "scrolled": true
   },
   "outputs": [
    {
     "name": "stdout",
     "output_type": "stream",
     "text": [
      "Лучший лес имеет число деревьев равное 90 глубиной 10 и метрика ROC-AUC равна 0.850\n",
      "F1-мера: 0.602\n",
      "Точность: 0.548\n",
      "Полнота: 0.667\n"
     ]
    }
   ],
   "source": [
    "roc_best = 0\n",
    "for depth in range(1, 11):\n",
    "    for est in range(10, 100, 10):\n",
    "        rf_model = RandomForestClassifier(n_estimators=est, max_depth=depth, random_state=123)\n",
    "        rf_model.fit(features_train_up, target_up)\n",
    "        predictions = rf_model.predict(features_valid)\n",
    "        f1 = f1_score(target_valid, predictions)\n",
    "\n",
    "        probabilites_valid = rf_model.predict_proba(features_valid)\n",
    "        probabilites_one_valid = probabilites_valid[:, 1]\n",
    "        roc = roc_auc_score(target_valid, probabilites_one_valid)\n",
    "        if roc > roc_best:\n",
    "            rf_model_best = rf_model\n",
    "            f1_best = f1\n",
    "            depth_best = depth\n",
    "            roc_best = roc\n",
    "            est_best = est\n",
    "            predictions_best = predictions\n",
    "print('Лучший лес имеет число деревьев равное {} глубиной {} и метрика ROC-AUC равна {:.3f}'.format(est, depth_best, roc_best))\n",
    "print('F1-мера: {:.3f}'.format(f1_best))\n",
    "precision = precision_score(target_valid, predictions_best)\n",
    "print('Точность: {:.3f}'.format(precision))\n",
    "recall = recall_score(target_valid, predictions_best)\n",
    "print('Полнота: {:.3f}'.format(recall))"
   ]
  },
  {
   "cell_type": "code",
   "execution_count": 248,
   "metadata": {},
   "outputs": [
    {
     "data": {
      "text/plain": [
       "{'name': 'RandomForest',\n",
       " 'recall': 0.6666666666666666,\n",
       " 'precision': 0.5483870967741935,\n",
       " 'f1': 0.6017699115044248,\n",
       " 'roc-auc': 0.8499575081288797}"
      ]
     },
     "execution_count": 248,
     "metadata": {},
     "output_type": "execute_result"
    }
   ],
   "source": [
    "f = pd.Series(data=['RandomForest', recall, precision, f1_best, roc_best])\n",
    "f = {'name': 'RandomForest',\n",
    "     'recall': recall,\n",
    "     'precision': precision,\n",
    "     'f1': f1_best,\n",
    "     'roc-auc': roc_best}\n",
    "f"
   ]
  },
  {
   "cell_type": "markdown",
   "metadata": {},
   "source": [
    "**LogisticRegression**"
   ]
  },
  {
   "cell_type": "code",
   "execution_count": 249,
   "metadata": {
    "scrolled": false
   },
   "outputs": [
    {
     "name": "stdout",
     "output_type": "stream",
     "text": [
      "Лучшая логистическая регрессия имеет метрику ROC-AUC равную 0.735\n",
      "F1-мера: 0.461\n",
      "Точность: 0.357\n",
      "Полнота: 0.652\n"
     ]
    }
   ],
   "source": [
    "lr_model = LogisticRegression(random_state=123, solver='liblinear')\n",
    "lr_model.fit(features_train_up, target_up)\n",
    "predictions = lr_model.predict(features_valid)\n",
    "f1 = f1_score(target_valid, predictions)\n",
    "probabilites_valid = lr_model.predict_proba(features_valid)\n",
    "probabilites_one_valid = probabilites_valid[:, 1]\n",
    "roc = roc_auc_score(target_valid, probabilites_one_valid)\n",
    "print('Лучшая логистическая регрессия имеет метрику ROC-AUC равную {:.3f}'.format(roc))\n",
    "print('F1-мера: {:.3f}'.format(f1))\n",
    "precision = precision_score(target_valid, predictions)\n",
    "print('Точность: {:.3f}'.format(precision))\n",
    "recall = recall_score(target_valid, predictions)\n",
    "print('Полнота: {:.3f}'.format(recall))"
   ]
  },
  {
   "cell_type": "code",
   "execution_count": 250,
   "metadata": {},
   "outputs": [
    {
     "data": {
      "text/plain": [
       "{'name': 'LogisticRegression',\n",
       " 'recall': 0.6519607843137255,\n",
       " 'precision': 0.35704697986577183,\n",
       " 'f1': 0.46140503035559405,\n",
       " 'roc-auc': 0.7347983791506552}"
      ]
     },
     "execution_count": 250,
     "metadata": {},
     "output_type": "execute_result"
    }
   ],
   "source": [
    "l = {'name': 'LogisticRegression',\n",
    "     'recall': recall,\n",
    "     'precision': precision,\n",
    "     'f1': f1,\n",
    "     'roc-auc': roc}\n",
    "l"
   ]
  },
  {
   "cell_type": "markdown",
   "metadata": {},
   "source": [
    "Определим порог для максимизации F1."
   ]
  },
  {
   "cell_type": "code",
   "execution_count": 251,
   "metadata": {
    "scrolled": false
   },
   "outputs": [
    {
     "name": "stdout",
     "output_type": "stream",
     "text": [
      "Порог = 0.00 | F1 = 0.339 | Точность = 0.204 | Полнота = 1.000\n",
      "Порог = 0.05 | F1 = 0.345 | Точность = 0.209 | Полнота = 1.000\n",
      "Порог = 0.10 | F1 = 0.384 | Точность = 0.238 | Полнота = 0.995\n",
      "Порог = 0.15 | F1 = 0.416 | Точность = 0.264 | Полнота = 0.973\n",
      "Порог = 0.20 | F1 = 0.451 | Точность = 0.295 | Полнота = 0.956\n",
      "Порог = 0.25 | F1 = 0.485 | Точность = 0.331 | Полнота = 0.909\n",
      "Порог = 0.30 | F1 = 0.505 | Точность = 0.361 | Полнота = 0.838\n",
      "Порог = 0.35 | F1 = 0.536 | Точность = 0.403 | Полнота = 0.799\n",
      "Порог = 0.40 | F1 = 0.564 | Точность = 0.449 | Полнота = 0.757\n",
      "Порог = 0.45 | F1 = 0.589 | Точность = 0.501 | Полнота = 0.716\n",
      "Порог = 0.50 | F1 = 0.602 | Точность = 0.548 | Полнота = 0.667\n",
      "Порог = 0.55 | F1 = 0.601 | Точность = 0.590 | Полнота = 0.613\n",
      "Порог = 0.60 | F1 = 0.599 | Точность = 0.646 | Полнота = 0.559\n",
      "Порог = 0.65 | F1 = 0.589 | Точность = 0.708 | Полнота = 0.505\n",
      "Порог = 0.70 | F1 = 0.551 | Точность = 0.735 | Полнота = 0.441\n",
      "Порог = 0.75 | F1 = 0.499 | Точность = 0.777 | Полнота = 0.368\n",
      "Порог = 0.80 | F1 = 0.450 | Точность = 0.814 | Полнота = 0.311\n",
      "Порог = 0.85 | F1 = 0.355 | Точность = 0.867 | Полнота = 0.223\n",
      "Порог = 0.90 | F1 = 0.247 | Точность = 0.951 | Полнота = 0.142\n",
      "Порог = 0.95 | F1 = 0.019 | Точность = 0.800 | Полнота = 0.010\n",
      "\n",
      "Лучший порог: 0.50\n",
      "Лучшая F1-мера: 0.602\n"
     ]
    }
   ],
   "source": [
    "forest = RandomForestClassifier(n_estimators=90, max_depth=10, random_state=123)\n",
    "forest.fit(features_train_up, target_up)\n",
    "f1_best = 0\n",
    "\n",
    "probabilites_valid = forest.predict_proba(features_valid)\n",
    "probabilites_one_valid = probabilites_valid[:, 1]\n",
    "roc = roc_auc_score(target_valid, probabilites_one_valid)\n",
    "for threshold in np.arange(0, 1, 0.05):\n",
    "    predicted_valid = probabilites_one_valid > threshold\n",
    "    precision = precision_score(target_valid, predicted_valid)\n",
    "    recall = recall_score(target_valid, predicted_valid)\n",
    "    f1 = f1_score(target_valid, predicted_valid)\n",
    "    if f1 > f1_best:\n",
    "        threshold_best_up = threshold\n",
    "        f1_best = f1\n",
    "    print(\"Порог = {:.2f} | F1 = {:.3f} | Точность = {:.3f} | Полнота = {:.3f}\".format(threshold, f1, precision, recall))\n",
    "print()\n",
    "print('Лучший порог: {:.2f}'.format(threshold_best_up))\n",
    "print('Лучшая F1-мера: {:.3f}'.format(f1_best))"
   ]
  },
  {
   "cell_type": "markdown",
   "metadata": {},
   "source": [
    "Лучшей моделью оказался случайный лес с параметрами `n_estimators=90, max_depth=10` и порогом `0.6`. При таких параметрах `ROC = 0.851`, а `F1 = 0.606` "
   ]
  },
  {
   "cell_type": "code",
   "execution_count": 252,
   "metadata": {},
   "outputs": [
    {
     "data": {
      "text/html": [
       "<div>\n",
       "<style scoped>\n",
       "    .dataframe tbody tr th:only-of-type {\n",
       "        vertical-align: middle;\n",
       "    }\n",
       "\n",
       "    .dataframe tbody tr th {\n",
       "        vertical-align: top;\n",
       "    }\n",
       "\n",
       "    .dataframe thead th {\n",
       "        text-align: right;\n",
       "    }\n",
       "</style>\n",
       "<table border=\"1\" class=\"dataframe\">\n",
       "  <thead>\n",
       "    <tr style=\"text-align: right;\">\n",
       "      <th></th>\n",
       "      <th>name</th>\n",
       "      <th>recall</th>\n",
       "      <th>precision</th>\n",
       "      <th>f1</th>\n",
       "      <th>roc-auc</th>\n",
       "    </tr>\n",
       "  </thead>\n",
       "  <tbody>\n",
       "    <tr>\n",
       "      <td>0</td>\n",
       "      <td>DecisionTree</td>\n",
       "      <td>0.791667</td>\n",
       "      <td>0.422222</td>\n",
       "      <td>0.550725</td>\n",
       "      <td>0.833776</td>\n",
       "    </tr>\n",
       "    <tr>\n",
       "      <td>1</td>\n",
       "      <td>RandomForest</td>\n",
       "      <td>0.666667</td>\n",
       "      <td>0.548387</td>\n",
       "      <td>0.601770</td>\n",
       "      <td>0.849958</td>\n",
       "    </tr>\n",
       "    <tr>\n",
       "      <td>2</td>\n",
       "      <td>LogisticRegression</td>\n",
       "      <td>0.651961</td>\n",
       "      <td>0.357047</td>\n",
       "      <td>0.461405</td>\n",
       "      <td>0.734798</td>\n",
       "    </tr>\n",
       "  </tbody>\n",
       "</table>\n",
       "</div>"
      ],
      "text/plain": [
       "                 name    recall  precision        f1   roc-auc\n",
       "0        DecisionTree  0.791667   0.422222  0.550725  0.833776\n",
       "1        RandomForest  0.666667   0.548387  0.601770  0.849958\n",
       "2  LogisticRegression  0.651961   0.357047  0.461405  0.734798"
      ]
     },
     "execution_count": 252,
     "metadata": {},
     "output_type": "execute_result"
    }
   ],
   "source": [
    "columns = ['name', 'recall', 'precision', 'f1', 'roc-auc']\n",
    "upsampled_models = pd.DataFrame(columns=columns, data=[t, f, l])\n",
    "upsampled_models"
   ]
  },
  {
   "cell_type": "code",
   "execution_count": 253,
   "metadata": {},
   "outputs": [
    {
     "data": {
      "text/html": [
       "<div>\n",
       "<style scoped>\n",
       "    .dataframe tbody tr th:only-of-type {\n",
       "        vertical-align: middle;\n",
       "    }\n",
       "\n",
       "    .dataframe tbody tr th {\n",
       "        vertical-align: top;\n",
       "    }\n",
       "\n",
       "    .dataframe thead th {\n",
       "        text-align: right;\n",
       "    }\n",
       "</style>\n",
       "<table border=\"1\" class=\"dataframe\">\n",
       "  <thead>\n",
       "    <tr style=\"text-align: right;\">\n",
       "      <th></th>\n",
       "      <th>name</th>\n",
       "      <th>recall</th>\n",
       "      <th>precision</th>\n",
       "      <th>f1</th>\n",
       "      <th>roc-auc</th>\n",
       "      <th>balance_method</th>\n",
       "    </tr>\n",
       "  </thead>\n",
       "  <tbody>\n",
       "    <tr>\n",
       "      <td>0</td>\n",
       "      <td>DecisionTree</td>\n",
       "      <td>0.791667</td>\n",
       "      <td>0.422222</td>\n",
       "      <td>0.550725</td>\n",
       "      <td>0.833776</td>\n",
       "      <td>Upsampling</td>\n",
       "    </tr>\n",
       "    <tr>\n",
       "      <td>1</td>\n",
       "      <td>RandomForest</td>\n",
       "      <td>0.666667</td>\n",
       "      <td>0.548387</td>\n",
       "      <td>0.601770</td>\n",
       "      <td>0.849958</td>\n",
       "      <td>Upsampling</td>\n",
       "    </tr>\n",
       "    <tr>\n",
       "      <td>2</td>\n",
       "      <td>LogisticRegression</td>\n",
       "      <td>0.651961</td>\n",
       "      <td>0.357047</td>\n",
       "      <td>0.461405</td>\n",
       "      <td>0.734798</td>\n",
       "      <td>Upsampling</td>\n",
       "    </tr>\n",
       "  </tbody>\n",
       "</table>\n",
       "</div>"
      ],
      "text/plain": [
       "                 name    recall  precision        f1   roc-auc balance_method\n",
       "0        DecisionTree  0.791667   0.422222  0.550725  0.833776     Upsampling\n",
       "1        RandomForest  0.666667   0.548387  0.601770  0.849958     Upsampling\n",
       "2  LogisticRegression  0.651961   0.357047  0.461405  0.734798     Upsampling"
      ]
     },
     "execution_count": 253,
     "metadata": {},
     "output_type": "execute_result"
    }
   ],
   "source": [
    "upsampled_models['balance_method'] = 'Upsampling'\n",
    "upsampled_models"
   ]
  },
  {
   "cell_type": "markdown",
   "metadata": {},
   "source": [
    "Теперь воспользуемся **downsampling**."
   ]
  },
  {
   "cell_type": "markdown",
   "metadata": {},
   "source": [
    "Сбалансируем классы, отбросив часть данных из преобладающего класса (\"0\"). Для начала выясним какая объектов должна сохраниться от изначального количества данных в данном классе."
   ]
  },
  {
   "cell_type": "code",
   "execution_count": 254,
   "metadata": {},
   "outputs": [
    {
     "name": "stdout",
     "output_type": "stream",
     "text": [
      "Доля оставшихся объектов класс \"0\": 0.3\n"
     ]
    }
   ],
   "source": [
    "ratio = target.value_counts()/len(target)\n",
    "fraction = round(ratio[1] / ratio[0], 1)\n",
    "print('Доля оставшихся объектов класс \"0\":', fraction)"
   ]
  },
  {
   "cell_type": "markdown",
   "metadata": {},
   "source": [
    "Разделим обучающую выборку по классам, поотом случайным образом отбросим часть объектов из класса \"0\", объединим классы в одну таблицу и перемешаем. Все это запишем внутри функции."
   ]
  },
  {
   "cell_type": "code",
   "execution_count": 255,
   "metadata": {},
   "outputs": [],
   "source": [
    "def downsamle(features, target, fraction):\n",
    "    features_zero = features[target_train == 0]\n",
    "    features_one = features[target_train == 1]\n",
    "    target_zero = target[target_train == 0]\n",
    "    target_one = target[target_train == 1]\n",
    "    \n",
    "    features_downsamled = pd.concat(\n",
    "        [features_zero.sample(frac=fraction, random_state=123)] + [features_one])\n",
    "    target_downsampled = pd.concat(\n",
    "        [target_zero.sample(frac=fraction, random_state=123)] + [target_one])\n",
    "    \n",
    "    features_downsamled, target_downsampled = shuffle(\n",
    "        features_downsamled, target_downsampled, random_state=123)\n",
    "    return features_downsamled, target_downsampled"
   ]
  },
  {
   "cell_type": "code",
   "execution_count": 256,
   "metadata": {},
   "outputs": [
    {
     "name": "stdout",
     "output_type": "stream",
     "text": [
      "(2655, 11) (2655,)\n"
     ]
    }
   ],
   "source": [
    "features_down, target_down = downsamle(features_train, target_train, fraction)\n",
    "print(features_down.shape, target_down.shape)"
   ]
  },
  {
   "cell_type": "markdown",
   "metadata": {},
   "source": [
    "Далее исследуем модели DecisionTree, RandomForest, LogisticRegression."
   ]
  },
  {
   "cell_type": "markdown",
   "metadata": {},
   "source": [
    "**DecisionTree**"
   ]
  },
  {
   "cell_type": "code",
   "execution_count": 257,
   "metadata": {
    "scrolled": true
   },
   "outputs": [
    {
     "name": "stdout",
     "output_type": "stream",
     "text": [
      "Лучшее дерево имеет глубину 5 и метрика ROC-AUC равна 0.838\n",
      "F1-мера: 0.565\n",
      "Точность: 0.465\n",
      "Полнота: 0.718\n"
     ]
    }
   ],
   "source": [
    "roc_best = 0\n",
    "for depth in range(1, 11):\n",
    "    tree = DecisionTreeClassifier(max_depth=depth, random_state=123)\n",
    "    tree.fit(features_down, target_down)\n",
    "    predictions = tree.predict(features_valid)\n",
    "    f1 = f1_score(target_valid, predictions)\n",
    "    \n",
    "    probabilites_valid = tree.predict_proba(features_valid)\n",
    "    probabilites_one_valid = probabilites_valid[:, 1]\n",
    "    roc = roc_auc_score(target_valid, probabilites_one_valid)\n",
    "    if roc > roc_best:\n",
    "        tree_best = tree\n",
    "        f1_best = f1\n",
    "        depth_best = depth\n",
    "        roc_best = roc\n",
    "        predictions_best = predictions\n",
    "print('Лучшее дерево имеет глубину {} и метрика ROC-AUC равна {:.3f}'.format(depth_best, roc_best))\n",
    "print('F1-мера: {:.3f}'.format(f1_best))\n",
    "precision = precision_score(target_valid, predictions_best)\n",
    "print('Точность: {:.3f}'.format(precision))\n",
    "recall = recall_score(target_valid, predictions_best)\n",
    "print('Полнота: {:.3f}'.format(recall))"
   ]
  },
  {
   "cell_type": "code",
   "execution_count": 258,
   "metadata": {},
   "outputs": [
    {
     "data": {
      "text/plain": [
       "{'name': 'DecisionTree',\n",
       " 'recall': 0.7181372549019608,\n",
       " 'precision': 0.4650793650793651,\n",
       " 'f1': 0.5645472061657033,\n",
       " 'roc-auc': 0.8380228347620455}"
      ]
     },
     "execution_count": 258,
     "metadata": {},
     "output_type": "execute_result"
    }
   ],
   "source": [
    "t = pd.Series(data=['DecisionTree', recall, precision, f1_best, roc_best])\n",
    "t = {'name': 'DecisionTree',\n",
    "     'recall': recall,\n",
    "     'precision': precision,\n",
    "     'f1': f1_best,\n",
    "     'roc-auc': roc_best}\n",
    "t"
   ]
  },
  {
   "cell_type": "markdown",
   "metadata": {},
   "source": [
    "**RandomForest**"
   ]
  },
  {
   "cell_type": "code",
   "execution_count": 259,
   "metadata": {
    "scrolled": true
   },
   "outputs": [
    {
     "name": "stdout",
     "output_type": "stream",
     "text": [
      "Лучший лес имеет число деревьев равное 90 глубиной 7 и метрика ROC-AUC равна 0.845\n",
      "F1-мера: 0.587\n",
      "Точность: 0.512\n",
      "Полнота: 0.689\n"
     ]
    }
   ],
   "source": [
    "roc_best = 0\n",
    "for depth in range(1, 11):\n",
    "    for est in range(10, 100, 10):\n",
    "        rf_model = RandomForestClassifier(n_estimators=est, max_depth=depth, random_state=123)\n",
    "        rf_model.fit(features_down, target_down)\n",
    "        predictions = rf_model.predict(features_valid)\n",
    "        f1 = f1_score(target_valid, predictions)\n",
    "\n",
    "        probabilites_valid = rf_model.predict_proba(features_valid)\n",
    "        probabilites_one_valid = probabilites_valid[:, 1]\n",
    "        roc = roc_auc_score(target_valid, probabilites_one_valid)\n",
    "        if roc > roc_best:\n",
    "            rf_model_best = rf_model\n",
    "            f1_best = f1\n",
    "            depth_best = depth\n",
    "            roc_best = roc\n",
    "            est_best = est\n",
    "            predictions_best = predictions\n",
    "print('Лучший лес имеет число деревьев равное {} глубиной {} и метрика ROC-AUC равна {:.3f}'.format(est, depth_best, roc_best))\n",
    "print('F1-мера: {:.3f}'.format(f1_best))\n",
    "precision = precision_score(target_valid, predictions_best)\n",
    "print('Точность: {:.3f}'.format(precision))\n",
    "recall = recall_score(target_valid, predictions_best)\n",
    "print('Полнота: {:.3f}'.format(recall))"
   ]
  },
  {
   "cell_type": "code",
   "execution_count": 260,
   "metadata": {},
   "outputs": [
    {
     "data": {
      "text/plain": [
       "{'name': 'RandomForest',\n",
       " 'recall': 0.6887254901960784,\n",
       " 'precision': 0.51183970856102,\n",
       " 'f1': 0.587251828631139,\n",
       " 'roc-auc': 0.8449277638190954}"
      ]
     },
     "execution_count": 260,
     "metadata": {},
     "output_type": "execute_result"
    }
   ],
   "source": [
    "f = pd.Series(data=['RandomForest', recall, precision, f1_best, roc_best])\n",
    "f = {'name': 'RandomForest',\n",
    "     'recall': recall,\n",
    "     'precision': precision,\n",
    "     'f1': f1_best,\n",
    "     'roc-auc': roc_best}\n",
    "f"
   ]
  },
  {
   "cell_type": "markdown",
   "metadata": {},
   "source": [
    "**LogisticRegression**"
   ]
  },
  {
   "cell_type": "code",
   "execution_count": 261,
   "metadata": {
    "scrolled": true
   },
   "outputs": [
    {
     "name": "stdout",
     "output_type": "stream",
     "text": [
      "Лучшая логистическая регрессия имеет метрику ROC-AUC равную 0.735\n",
      "F1-мера: 0.458\n",
      "Точность: 0.374\n",
      "Полнота: 0.588\n"
     ]
    }
   ],
   "source": [
    "lr_model = LogisticRegression(random_state=123, solver='liblinear')\n",
    "lr_model.fit(features_down, target_down)\n",
    "predictions = lr_model.predict(features_valid)\n",
    "f1 = f1_score(target_valid, predictions)\n",
    "probabilites_valid = lr_model.predict_proba(features_valid)\n",
    "probabilites_one_valid = probabilites_valid[:, 1]\n",
    "roc = roc_auc_score(target_valid, probabilites_one_valid)\n",
    "print('Лучшая логистическая регрессия имеет метрику ROC-AUC равную {:.3f}'.format(roc))\n",
    "print('F1-мера: {:.3f}'.format(f1))\n",
    "precision = precision_score(target_valid, predictions)\n",
    "print('Точность: {:.3f}'.format(precision))\n",
    "recall = recall_score(target_valid, predictions)\n",
    "print('Полнота: {:.3f}'.format(recall))"
   ]
  },
  {
   "cell_type": "code",
   "execution_count": 262,
   "metadata": {},
   "outputs": [
    {
     "data": {
      "text/plain": [
       "{'name': 'LogisticRegression',\n",
       " 'recall': 0.5882352941176471,\n",
       " 'precision': 0.374414976599064,\n",
       " 'f1': 0.45757864632983797,\n",
       " 'roc-auc': 0.7345027835254705}"
      ]
     },
     "execution_count": 262,
     "metadata": {},
     "output_type": "execute_result"
    }
   ],
   "source": [
    "l = {'name': 'LogisticRegression',\n",
    "     'recall': recall,\n",
    "     'precision': precision,\n",
    "     'f1': f1,\n",
    "     'roc-auc': roc}\n",
    "l"
   ]
  },
  {
   "cell_type": "markdown",
   "metadata": {},
   "source": [
    "Определим порог для максимизации F1."
   ]
  },
  {
   "cell_type": "code",
   "execution_count": 263,
   "metadata": {
    "scrolled": false
   },
   "outputs": [
    {
     "name": "stdout",
     "output_type": "stream",
     "text": [
      "Порог = 0.00 | F1 = 0.339 | Точность = 0.204 | Полнота = 1.000\n",
      "Порог = 0.05 | F1 = 0.341 | Точность = 0.206 | Полнота = 1.000\n",
      "Порог = 0.10 | F1 = 0.365 | Точность = 0.224 | Полнота = 0.998\n",
      "Порог = 0.15 | F1 = 0.398 | Точность = 0.250 | Полнота = 0.983\n",
      "Порог = 0.20 | F1 = 0.432 | Точность = 0.278 | Полнота = 0.971\n",
      "Порог = 0.25 | F1 = 0.459 | Точность = 0.304 | Полнота = 0.936\n",
      "Порог = 0.30 | F1 = 0.485 | Точность = 0.333 | Полнота = 0.892\n",
      "Порог = 0.35 | F1 = 0.502 | Точность = 0.358 | Полнота = 0.838\n",
      "Порог = 0.40 | F1 = 0.529 | Точность = 0.399 | Полнота = 0.782\n",
      "Порог = 0.45 | F1 = 0.551 | Точность = 0.441 | Полнота = 0.735\n",
      "Порог = 0.50 | F1 = 0.587 | Точность = 0.505 | Полнота = 0.701\n",
      "Порог = 0.55 | F1 = 0.605 | Точность = 0.580 | Полнота = 0.632\n",
      "Порог = 0.60 | F1 = 0.601 | Точность = 0.640 | Полнота = 0.566\n",
      "Порог = 0.65 | F1 = 0.584 | Точность = 0.691 | Полнота = 0.505\n",
      "Порог = 0.70 | F1 = 0.540 | Точность = 0.734 | Полнота = 0.426\n",
      "Порог = 0.75 | F1 = 0.511 | Точность = 0.790 | Полнота = 0.377\n",
      "Порог = 0.80 | F1 = 0.453 | Точность = 0.851 | Полнота = 0.309\n",
      "Порог = 0.85 | F1 = 0.349 | Точность = 0.907 | Полнота = 0.216\n",
      "Порог = 0.90 | F1 = 0.189 | Точность = 0.915 | Полнота = 0.105\n",
      "Порог = 0.95 | F1 = 0.029 | Точность = 0.857 | Полнота = 0.015\n",
      "\n",
      "Лучший порог: 0.55\n",
      "Лучшая F1-мера: 0.605\n"
     ]
    }
   ],
   "source": [
    "forest = RandomForestClassifier(n_estimators=90, max_depth=9, random_state=123)\n",
    "forest.fit(features_down, target_down)\n",
    "f1_best = 0\n",
    "\n",
    "probabilites_valid = forest.predict_proba(features_valid)\n",
    "probabilites_one_valid = probabilites_valid[:, 1]\n",
    "roc = roc_auc_score(target_valid, probabilites_one_valid)\n",
    "for threshold in np.arange(0, 1, 0.05):\n",
    "    predicted_valid = probabilites_one_valid > threshold\n",
    "    precision = precision_score(target_valid, predicted_valid)\n",
    "    recall = recall_score(target_valid, predicted_valid)\n",
    "    f1 = f1_score(target_valid, predicted_valid)\n",
    "    if f1 > f1_best:\n",
    "        threshold_best_down = threshold\n",
    "        f1_best = f1\n",
    "    print(\"Порог = {:.2f} | F1 = {:.3f} | Точность = {:.3f} | Полнота = {:.3f}\".format(threshold, f1, precision, recall))\n",
    "print()\n",
    "print('Лучший порог: {:.2f}'.format(threshold_best_down))\n",
    "print('Лучшая F1-мера: {:.3f}'.format(f1_best))"
   ]
  },
  {
   "cell_type": "markdown",
   "metadata": {},
   "source": [
    "Лучшей моделью оказался случайный лес с параметрами `n_estimators=90, max_depth=9` и порогом `0.55`. При таких параметрах `ROC = 0.844`, а `F1 = 0.598` "
   ]
  },
  {
   "cell_type": "code",
   "execution_count": 264,
   "metadata": {
    "scrolled": true
   },
   "outputs": [
    {
     "data": {
      "text/html": [
       "<div>\n",
       "<style scoped>\n",
       "    .dataframe tbody tr th:only-of-type {\n",
       "        vertical-align: middle;\n",
       "    }\n",
       "\n",
       "    .dataframe tbody tr th {\n",
       "        vertical-align: top;\n",
       "    }\n",
       "\n",
       "    .dataframe thead th {\n",
       "        text-align: right;\n",
       "    }\n",
       "</style>\n",
       "<table border=\"1\" class=\"dataframe\">\n",
       "  <thead>\n",
       "    <tr style=\"text-align: right;\">\n",
       "      <th></th>\n",
       "      <th>name</th>\n",
       "      <th>recall</th>\n",
       "      <th>precision</th>\n",
       "      <th>f1</th>\n",
       "      <th>roc-auc</th>\n",
       "    </tr>\n",
       "  </thead>\n",
       "  <tbody>\n",
       "    <tr>\n",
       "      <td>0</td>\n",
       "      <td>DecisionTree</td>\n",
       "      <td>0.718137</td>\n",
       "      <td>0.465079</td>\n",
       "      <td>0.564547</td>\n",
       "      <td>0.838023</td>\n",
       "    </tr>\n",
       "    <tr>\n",
       "      <td>1</td>\n",
       "      <td>RandomForest</td>\n",
       "      <td>0.688725</td>\n",
       "      <td>0.511840</td>\n",
       "      <td>0.587252</td>\n",
       "      <td>0.844928</td>\n",
       "    </tr>\n",
       "    <tr>\n",
       "      <td>2</td>\n",
       "      <td>LogisticRegression</td>\n",
       "      <td>0.588235</td>\n",
       "      <td>0.374415</td>\n",
       "      <td>0.457579</td>\n",
       "      <td>0.734503</td>\n",
       "    </tr>\n",
       "  </tbody>\n",
       "</table>\n",
       "</div>"
      ],
      "text/plain": [
       "                 name    recall  precision        f1   roc-auc\n",
       "0        DecisionTree  0.718137   0.465079  0.564547  0.838023\n",
       "1        RandomForest  0.688725   0.511840  0.587252  0.844928\n",
       "2  LogisticRegression  0.588235   0.374415  0.457579  0.734503"
      ]
     },
     "execution_count": 264,
     "metadata": {},
     "output_type": "execute_result"
    }
   ],
   "source": [
    "columns = ['name', 'recall', 'precision', 'f1', 'roc-auc']\n",
    "downsampled_models = pd.DataFrame(columns=columns, data=[t, f, l])\n",
    "downsampled_models"
   ]
  },
  {
   "cell_type": "code",
   "execution_count": 265,
   "metadata": {
    "scrolled": false
   },
   "outputs": [
    {
     "data": {
      "text/html": [
       "<div>\n",
       "<style scoped>\n",
       "    .dataframe tbody tr th:only-of-type {\n",
       "        vertical-align: middle;\n",
       "    }\n",
       "\n",
       "    .dataframe tbody tr th {\n",
       "        vertical-align: top;\n",
       "    }\n",
       "\n",
       "    .dataframe thead th {\n",
       "        text-align: right;\n",
       "    }\n",
       "</style>\n",
       "<table border=\"1\" class=\"dataframe\">\n",
       "  <thead>\n",
       "    <tr style=\"text-align: right;\">\n",
       "      <th></th>\n",
       "      <th>name</th>\n",
       "      <th>recall</th>\n",
       "      <th>precision</th>\n",
       "      <th>f1</th>\n",
       "      <th>roc-auc</th>\n",
       "      <th>balance_method</th>\n",
       "    </tr>\n",
       "  </thead>\n",
       "  <tbody>\n",
       "    <tr>\n",
       "      <td>0</td>\n",
       "      <td>DecisionTree</td>\n",
       "      <td>0.718137</td>\n",
       "      <td>0.465079</td>\n",
       "      <td>0.564547</td>\n",
       "      <td>0.838023</td>\n",
       "      <td>Downsampling</td>\n",
       "    </tr>\n",
       "    <tr>\n",
       "      <td>1</td>\n",
       "      <td>RandomForest</td>\n",
       "      <td>0.688725</td>\n",
       "      <td>0.511840</td>\n",
       "      <td>0.587252</td>\n",
       "      <td>0.844928</td>\n",
       "      <td>Downsampling</td>\n",
       "    </tr>\n",
       "    <tr>\n",
       "      <td>2</td>\n",
       "      <td>LogisticRegression</td>\n",
       "      <td>0.588235</td>\n",
       "      <td>0.374415</td>\n",
       "      <td>0.457579</td>\n",
       "      <td>0.734503</td>\n",
       "      <td>Downsampling</td>\n",
       "    </tr>\n",
       "  </tbody>\n",
       "</table>\n",
       "</div>"
      ],
      "text/plain": [
       "                 name    recall  precision        f1   roc-auc balance_method\n",
       "0        DecisionTree  0.718137   0.465079  0.564547  0.838023   Downsampling\n",
       "1        RandomForest  0.688725   0.511840  0.587252  0.844928   Downsampling\n",
       "2  LogisticRegression  0.588235   0.374415  0.457579  0.734503   Downsampling"
      ]
     },
     "execution_count": 265,
     "metadata": {},
     "output_type": "execute_result"
    }
   ],
   "source": [
    "downsampled_models['balance_method'] = 'Downsampling'\n",
    "downsampled_models"
   ]
  },
  {
   "cell_type": "markdown",
   "metadata": {},
   "source": [
    "### Balanced classes"
   ]
  },
  {
   "cell_type": "markdown",
   "metadata": {},
   "source": [
    "Теперь воспользуемся **балансировкой классов**."
   ]
  },
  {
   "cell_type": "markdown",
   "metadata": {},
   "source": [
    "**DecisionTree**"
   ]
  },
  {
   "cell_type": "code",
   "execution_count": 266,
   "metadata": {
    "scrolled": true
   },
   "outputs": [
    {
     "name": "stdout",
     "output_type": "stream",
     "text": [
      "Лучшее дерево имеет глубину 5 и метрика ROC-AUC равна 0.834\n",
      "F1-мера: 0.551\n",
      "Точность: 0.422\n",
      "Полнота: 0.792\n"
     ]
    }
   ],
   "source": [
    "roc_best = 0\n",
    "for depth in range(1, 11):\n",
    "    tree = DecisionTreeClassifier(max_depth=depth, random_state=123, class_weight='balanced')\n",
    "    tree.fit(features_train, target_train)\n",
    "    predictions = tree.predict(features_valid)\n",
    "    f1 = f1_score(target_valid, predictions)\n",
    "    \n",
    "    probabilites_valid = tree.predict_proba(features_valid)\n",
    "    probabilites_one_valid = probabilites_valid[:, 1]\n",
    "    roc = roc_auc_score(target_valid, probabilites_one_valid)\n",
    "    if roc > roc_best:\n",
    "        tree_best = tree\n",
    "        f1_best = f1\n",
    "        depth_best = depth\n",
    "        roc_best = roc\n",
    "        predictions_best = predictions\n",
    "print('Лучшее дерево имеет глубину {} и метрика ROC-AUC равна {:.3f}'.format(depth_best, roc_best))\n",
    "print('F1-мера: {:.3f}'.format(f1_best))\n",
    "precision = precision_score(target_valid, predictions_best)\n",
    "print('Точность: {:.3f}'.format(precision))\n",
    "recall = recall_score(target_valid, predictions_best)\n",
    "print('Полнота: {:.3f}'.format(recall))"
   ]
  },
  {
   "cell_type": "code",
   "execution_count": 267,
   "metadata": {},
   "outputs": [
    {
     "data": {
      "text/plain": [
       "{'name': 'DecisionTree',\n",
       " 'recall': 0.7916666666666666,\n",
       " 'precision': 0.4222222222222222,\n",
       " 'f1': 0.5507246376811594,\n",
       " 'roc-auc': 0.8337759569908365}"
      ]
     },
     "execution_count": 267,
     "metadata": {},
     "output_type": "execute_result"
    }
   ],
   "source": [
    "t = pd.Series(data=['DecisionTree', recall, precision, f1_best, roc_best])\n",
    "t = {'name': 'DecisionTree',\n",
    "     'recall': recall,\n",
    "     'precision': precision,\n",
    "     'f1': f1_best,\n",
    "     'roc-auc': roc_best}\n",
    "t"
   ]
  },
  {
   "cell_type": "markdown",
   "metadata": {},
   "source": [
    "**RandomForest**"
   ]
  },
  {
   "cell_type": "code",
   "execution_count": 268,
   "metadata": {
    "scrolled": true
   },
   "outputs": [
    {
     "name": "stdout",
     "output_type": "stream",
     "text": [
      "Лучший лес имеет число деревьев равное 90 глубиной 9 и метрика ROC-AUC равна 0.850\n",
      "F1-мера: 0.600\n",
      "Точность: 0.572\n",
      "Полнота: 0.630\n"
     ]
    }
   ],
   "source": [
    "roc_best = 0\n",
    "for depth in range(1, 11):\n",
    "    for est in range(10, 100, 10):\n",
    "        rf_model = RandomForestClassifier(n_estimators=est, max_depth=depth, random_state=123, class_weight='balanced')\n",
    "        rf_model.fit(features_train, target_train)\n",
    "        predictions = rf_model.predict(features_valid)\n",
    "        f1 = f1_score(target_valid, predictions)\n",
    "\n",
    "        probabilites_valid = rf_model.predict_proba(features_valid)\n",
    "        probabilites_one_valid = probabilites_valid[:, 1]\n",
    "        roc = roc_auc_score(target_valid, probabilites_one_valid)\n",
    "        if roc > roc_best:\n",
    "            rf_model_best = rf_model\n",
    "            f1_best = f1\n",
    "            depth_best = depth\n",
    "            roc_best = roc\n",
    "            est_best = est\n",
    "            predictions_best = predictions\n",
    "print('Лучший лес имеет число деревьев равное {} глубиной {} и метрика ROC-AUC равна {:.3f}'.format(est, depth_best, roc_best))\n",
    "print('F1-мера: {:.3f}'.format(f1_best))\n",
    "precision = precision_score(target_valid, predictions_best)\n",
    "print('Точность: {:.3f}'.format(precision))\n",
    "recall = recall_score(target_valid, predictions_best)\n",
    "print('Полнота: {:.3f}'.format(recall))"
   ]
  },
  {
   "cell_type": "code",
   "execution_count": 269,
   "metadata": {},
   "outputs": [
    {
     "data": {
      "text/plain": [
       "{'name': 'RandomForest',\n",
       " 'recall': 0.6299019607843137,\n",
       " 'precision': 0.5723830734966593,\n",
       " 'f1': 0.5997666277712952,\n",
       " 'roc-auc': 0.8499220982362795}"
      ]
     },
     "execution_count": 269,
     "metadata": {},
     "output_type": "execute_result"
    }
   ],
   "source": [
    "f = pd.Series(data=['RandomForest', recall, precision, f1_best, roc_best])\n",
    "f = {'name': 'RandomForest',\n",
    "     'recall': recall,\n",
    "     'precision': precision,\n",
    "     'f1': f1_best,\n",
    "     'roc-auc': roc_best}\n",
    "f"
   ]
  },
  {
   "cell_type": "markdown",
   "metadata": {},
   "source": [
    "**LogisticRegression**"
   ]
  },
  {
   "cell_type": "code",
   "execution_count": 270,
   "metadata": {
    "scrolled": true
   },
   "outputs": [
    {
     "name": "stdout",
     "output_type": "stream",
     "text": [
      "Лучшая логистическая регрессия имеет метрику ROC-AUC равную 0.735\n",
      "F1-мера: 0.459\n",
      "Точность: 0.357\n",
      "Полнота: 0.642\n"
     ]
    }
   ],
   "source": [
    "lr_model = LogisticRegression(random_state=123, solver='liblinear', class_weight='balanced')\n",
    "lr_model.fit(features_train, target_train)\n",
    "predictions = lr_model.predict(features_valid)\n",
    "f1 = f1_score(target_valid, predictions)\n",
    "probabilites_valid = lr_model.predict_proba(features_valid)\n",
    "probabilites_one_valid = probabilites_valid[:, 1]\n",
    "roc = roc_auc_score(target_valid, probabilites_one_valid)\n",
    "print('Лучшая логистическая регрессия имеет метрику ROC-AUC равную {:.3f}'.format(roc))\n",
    "print('F1-мера: {:.3f}'.format(f1))\n",
    "precision = precision_score(target_valid, predictions)\n",
    "print('Точность: {:.3f}'.format(precision))\n",
    "recall = recall_score(target_valid, predictions)\n",
    "print('Полнота: {:.3f}'.format(recall))"
   ]
  },
  {
   "cell_type": "code",
   "execution_count": 271,
   "metadata": {},
   "outputs": [
    {
     "data": {
      "text/plain": [
       "{'name': 'LogisticRegression',\n",
       " 'recall': 0.6421568627450981,\n",
       " 'precision': 0.35743519781718963,\n",
       " 'f1': 0.45924627519719546,\n",
       " 'roc-auc': 0.7347752857424376}"
      ]
     },
     "execution_count": 271,
     "metadata": {},
     "output_type": "execute_result"
    }
   ],
   "source": [
    "l = {'name': 'LogisticRegression',\n",
    "     'recall': recall,\n",
    "     'precision': precision,\n",
    "     'f1': f1,\n",
    "     'roc-auc': roc}\n",
    "l"
   ]
  },
  {
   "cell_type": "markdown",
   "metadata": {},
   "source": [
    "Определим порог для максимизации F1."
   ]
  },
  {
   "cell_type": "code",
   "execution_count": 272,
   "metadata": {
    "scrolled": false
   },
   "outputs": [
    {
     "name": "stdout",
     "output_type": "stream",
     "text": [
      "Порог = 0.00 | F1 = 0.339 | Точность = 0.204 | Полнота = 1.000\n",
      "Порог = 0.05 | F1 = 0.398 | Точность = 0.249 | Полнота = 0.988\n",
      "Порог = 0.10 | F1 = 0.477 | Точность = 0.321 | Полнота = 0.924\n",
      "Порог = 0.15 | F1 = 0.532 | Точность = 0.393 | Полнота = 0.821\n",
      "Порог = 0.20 | F1 = 0.571 | Точность = 0.463 | Полнота = 0.745\n",
      "Порог = 0.25 | F1 = 0.601 | Точность = 0.534 | Полнота = 0.686\n",
      "Порог = 0.30 | F1 = 0.620 | Точность = 0.617 | Полнота = 0.623\n",
      "Порог = 0.35 | F1 = 0.616 | Точность = 0.675 | Полнота = 0.566\n",
      "Порог = 0.40 | F1 = 0.592 | Точность = 0.719 | Полнота = 0.502\n",
      "Порог = 0.45 | F1 = 0.568 | Точность = 0.753 | Полнота = 0.456\n",
      "Порог = 0.50 | F1 = 0.555 | Точность = 0.805 | Полнота = 0.424\n",
      "Порог = 0.55 | F1 = 0.531 | Точность = 0.832 | Полнота = 0.390\n",
      "Порог = 0.60 | F1 = 0.489 | Точность = 0.863 | Полнота = 0.341\n",
      "Порог = 0.65 | F1 = 0.440 | Точность = 0.870 | Полнота = 0.294\n",
      "Порог = 0.70 | F1 = 0.378 | Точность = 0.883 | Полнота = 0.240\n",
      "Порог = 0.75 | F1 = 0.302 | Точность = 0.902 | Полнота = 0.181\n",
      "Порог = 0.80 | F1 = 0.208 | Точность = 0.906 | Полнота = 0.118\n",
      "Порог = 0.85 | F1 = 0.111 | Точность = 0.960 | Полнота = 0.059\n",
      "Порог = 0.90 | F1 = 0.029 | Точность = 1.000 | Полнота = 0.015\n",
      "Порог = 0.95 | F1 = 0.005 | Точность = 1.000 | Полнота = 0.002\n",
      "\n",
      "Лучший порог: 0.30\n",
      "Лучшая F1-мера: 0.620\n"
     ]
    }
   ],
   "source": [
    "forest = RandomForestClassifier(n_estimators=90, max_depth=9, random_state=123)\n",
    "forest.fit(features_train, target_train)\n",
    "f1_best = 0\n",
    "\n",
    "probabilites_valid = forest.predict_proba(features_valid)\n",
    "probabilites_one_valid = probabilites_valid[:, 1]\n",
    "roc = roc_auc_score(target_valid, probabilites_one_valid)\n",
    "for threshold in np.arange(0, 1, 0.05):\n",
    "    predicted_valid = probabilites_one_valid > threshold\n",
    "    precision = precision_score(target_valid, predicted_valid)\n",
    "    recall = recall_score(target_valid, predicted_valid)\n",
    "    f1 = f1_score(target_valid, predicted_valid)\n",
    "    if f1 > f1_best:\n",
    "        threshold_best_down = threshold\n",
    "        f1_best = f1\n",
    "    print(\"Порог = {:.2f} | F1 = {:.3f} | Точность = {:.3f} | Полнота = {:.3f}\".format(threshold, f1, precision, recall))\n",
    "print()\n",
    "print('Лучший порог: {:.2f}'.format(threshold_best_down))\n",
    "print('Лучшая F1-мера: {:.3f}'.format(f1_best))"
   ]
  },
  {
   "cell_type": "markdown",
   "metadata": {},
   "source": [
    "Лучшей моделью оказался случайный лес с параметрами `n_estimators=90, max_depth=9` и порогом `0.35`. При таких параметрах `ROC = 0.85`, а `F1 = 0.624` "
   ]
  },
  {
   "cell_type": "code",
   "execution_count": 273,
   "metadata": {
    "scrolled": true
   },
   "outputs": [
    {
     "data": {
      "text/html": [
       "<div>\n",
       "<style scoped>\n",
       "    .dataframe tbody tr th:only-of-type {\n",
       "        vertical-align: middle;\n",
       "    }\n",
       "\n",
       "    .dataframe tbody tr th {\n",
       "        vertical-align: top;\n",
       "    }\n",
       "\n",
       "    .dataframe thead th {\n",
       "        text-align: right;\n",
       "    }\n",
       "</style>\n",
       "<table border=\"1\" class=\"dataframe\">\n",
       "  <thead>\n",
       "    <tr style=\"text-align: right;\">\n",
       "      <th></th>\n",
       "      <th>name</th>\n",
       "      <th>recall</th>\n",
       "      <th>precision</th>\n",
       "      <th>f1</th>\n",
       "      <th>roc-auc</th>\n",
       "    </tr>\n",
       "  </thead>\n",
       "  <tbody>\n",
       "    <tr>\n",
       "      <td>0</td>\n",
       "      <td>DecisionTree</td>\n",
       "      <td>0.791667</td>\n",
       "      <td>0.422222</td>\n",
       "      <td>0.550725</td>\n",
       "      <td>0.833776</td>\n",
       "    </tr>\n",
       "    <tr>\n",
       "      <td>1</td>\n",
       "      <td>RandomForest</td>\n",
       "      <td>0.629902</td>\n",
       "      <td>0.572383</td>\n",
       "      <td>0.599767</td>\n",
       "      <td>0.849922</td>\n",
       "    </tr>\n",
       "    <tr>\n",
       "      <td>2</td>\n",
       "      <td>LogisticRegression</td>\n",
       "      <td>0.642157</td>\n",
       "      <td>0.357435</td>\n",
       "      <td>0.459246</td>\n",
       "      <td>0.734775</td>\n",
       "    </tr>\n",
       "  </tbody>\n",
       "</table>\n",
       "</div>"
      ],
      "text/plain": [
       "                 name    recall  precision        f1   roc-auc\n",
       "0        DecisionTree  0.791667   0.422222  0.550725  0.833776\n",
       "1        RandomForest  0.629902   0.572383  0.599767  0.849922\n",
       "2  LogisticRegression  0.642157   0.357435  0.459246  0.734775"
      ]
     },
     "execution_count": 273,
     "metadata": {},
     "output_type": "execute_result"
    }
   ],
   "source": [
    "columns = ['name', 'recall', 'precision', 'f1', 'roc-auc']\n",
    "balanced_models = pd.DataFrame(columns=columns, data=[t, f, l])\n",
    "balanced_models"
   ]
  },
  {
   "cell_type": "code",
   "execution_count": 274,
   "metadata": {
    "scrolled": true
   },
   "outputs": [
    {
     "data": {
      "text/html": [
       "<div>\n",
       "<style scoped>\n",
       "    .dataframe tbody tr th:only-of-type {\n",
       "        vertical-align: middle;\n",
       "    }\n",
       "\n",
       "    .dataframe tbody tr th {\n",
       "        vertical-align: top;\n",
       "    }\n",
       "\n",
       "    .dataframe thead th {\n",
       "        text-align: right;\n",
       "    }\n",
       "</style>\n",
       "<table border=\"1\" class=\"dataframe\">\n",
       "  <thead>\n",
       "    <tr style=\"text-align: right;\">\n",
       "      <th></th>\n",
       "      <th>name</th>\n",
       "      <th>recall</th>\n",
       "      <th>precision</th>\n",
       "      <th>f1</th>\n",
       "      <th>roc-auc</th>\n",
       "      <th>balance_method</th>\n",
       "    </tr>\n",
       "  </thead>\n",
       "  <tbody>\n",
       "    <tr>\n",
       "      <td>0</td>\n",
       "      <td>DecisionTree</td>\n",
       "      <td>0.791667</td>\n",
       "      <td>0.422222</td>\n",
       "      <td>0.550725</td>\n",
       "      <td>0.833776</td>\n",
       "      <td>Balanced classes</td>\n",
       "    </tr>\n",
       "    <tr>\n",
       "      <td>1</td>\n",
       "      <td>RandomForest</td>\n",
       "      <td>0.629902</td>\n",
       "      <td>0.572383</td>\n",
       "      <td>0.599767</td>\n",
       "      <td>0.849922</td>\n",
       "      <td>Balanced classes</td>\n",
       "    </tr>\n",
       "    <tr>\n",
       "      <td>2</td>\n",
       "      <td>LogisticRegression</td>\n",
       "      <td>0.642157</td>\n",
       "      <td>0.357435</td>\n",
       "      <td>0.459246</td>\n",
       "      <td>0.734775</td>\n",
       "      <td>Balanced classes</td>\n",
       "    </tr>\n",
       "  </tbody>\n",
       "</table>\n",
       "</div>"
      ],
      "text/plain": [
       "                 name    recall  precision        f1   roc-auc  \\\n",
       "0        DecisionTree  0.791667   0.422222  0.550725  0.833776   \n",
       "1        RandomForest  0.629902   0.572383  0.599767  0.849922   \n",
       "2  LogisticRegression  0.642157   0.357435  0.459246  0.734775   \n",
       "\n",
       "     balance_method  \n",
       "0  Balanced classes  \n",
       "1  Balanced classes  \n",
       "2  Balanced classes  "
      ]
     },
     "execution_count": 274,
     "metadata": {},
     "output_type": "execute_result"
    }
   ],
   "source": [
    "balanced_models['balance_method'] = 'Balanced classes'\n",
    "balanced_models"
   ]
  },
  {
   "cell_type": "code",
   "execution_count": 275,
   "metadata": {
    "scrolled": true
   },
   "outputs": [
    {
     "data": {
      "text/html": [
       "<div>\n",
       "<style scoped>\n",
       "    .dataframe tbody tr th:only-of-type {\n",
       "        vertical-align: middle;\n",
       "    }\n",
       "\n",
       "    .dataframe tbody tr th {\n",
       "        vertical-align: top;\n",
       "    }\n",
       "\n",
       "    .dataframe thead th {\n",
       "        text-align: right;\n",
       "    }\n",
       "</style>\n",
       "<table border=\"1\" class=\"dataframe\">\n",
       "  <thead>\n",
       "    <tr style=\"text-align: right;\">\n",
       "      <th></th>\n",
       "      <th>name</th>\n",
       "      <th>recall</th>\n",
       "      <th>precision</th>\n",
       "      <th>f1</th>\n",
       "      <th>roc-auc</th>\n",
       "      <th>balance_method</th>\n",
       "    </tr>\n",
       "  </thead>\n",
       "  <tbody>\n",
       "    <tr>\n",
       "      <td>0</td>\n",
       "      <td>RandomForest</td>\n",
       "      <td>0.666667</td>\n",
       "      <td>0.548387</td>\n",
       "      <td>0.601770</td>\n",
       "      <td>0.849958</td>\n",
       "      <td>Upsampling</td>\n",
       "    </tr>\n",
       "    <tr>\n",
       "      <td>1</td>\n",
       "      <td>RandomForest</td>\n",
       "      <td>0.629902</td>\n",
       "      <td>0.572383</td>\n",
       "      <td>0.599767</td>\n",
       "      <td>0.849922</td>\n",
       "      <td>Balanced classes</td>\n",
       "    </tr>\n",
       "    <tr>\n",
       "      <td>2</td>\n",
       "      <td>RandomForest</td>\n",
       "      <td>0.688725</td>\n",
       "      <td>0.511840</td>\n",
       "      <td>0.587252</td>\n",
       "      <td>0.844928</td>\n",
       "      <td>Downsampling</td>\n",
       "    </tr>\n",
       "    <tr>\n",
       "      <td>3</td>\n",
       "      <td>DecisionTree</td>\n",
       "      <td>0.718137</td>\n",
       "      <td>0.465079</td>\n",
       "      <td>0.564547</td>\n",
       "      <td>0.838023</td>\n",
       "      <td>Downsampling</td>\n",
       "    </tr>\n",
       "    <tr>\n",
       "      <td>4</td>\n",
       "      <td>DecisionTree</td>\n",
       "      <td>0.791667</td>\n",
       "      <td>0.422222</td>\n",
       "      <td>0.550725</td>\n",
       "      <td>0.833776</td>\n",
       "      <td>Upsampling</td>\n",
       "    </tr>\n",
       "    <tr>\n",
       "      <td>5</td>\n",
       "      <td>DecisionTree</td>\n",
       "      <td>0.791667</td>\n",
       "      <td>0.422222</td>\n",
       "      <td>0.550725</td>\n",
       "      <td>0.833776</td>\n",
       "      <td>Balanced classes</td>\n",
       "    </tr>\n",
       "    <tr>\n",
       "      <td>6</td>\n",
       "      <td>LogisticRegression</td>\n",
       "      <td>0.651961</td>\n",
       "      <td>0.357047</td>\n",
       "      <td>0.461405</td>\n",
       "      <td>0.734798</td>\n",
       "      <td>Upsampling</td>\n",
       "    </tr>\n",
       "    <tr>\n",
       "      <td>7</td>\n",
       "      <td>LogisticRegression</td>\n",
       "      <td>0.642157</td>\n",
       "      <td>0.357435</td>\n",
       "      <td>0.459246</td>\n",
       "      <td>0.734775</td>\n",
       "      <td>Balanced classes</td>\n",
       "    </tr>\n",
       "    <tr>\n",
       "      <td>8</td>\n",
       "      <td>LogisticRegression</td>\n",
       "      <td>0.588235</td>\n",
       "      <td>0.374415</td>\n",
       "      <td>0.457579</td>\n",
       "      <td>0.734503</td>\n",
       "      <td>Downsampling</td>\n",
       "    </tr>\n",
       "  </tbody>\n",
       "</table>\n",
       "</div>"
      ],
      "text/plain": [
       "                 name    recall  precision        f1   roc-auc  \\\n",
       "0        RandomForest  0.666667   0.548387  0.601770  0.849958   \n",
       "1        RandomForest  0.629902   0.572383  0.599767  0.849922   \n",
       "2        RandomForest  0.688725   0.511840  0.587252  0.844928   \n",
       "3        DecisionTree  0.718137   0.465079  0.564547  0.838023   \n",
       "4        DecisionTree  0.791667   0.422222  0.550725  0.833776   \n",
       "5        DecisionTree  0.791667   0.422222  0.550725  0.833776   \n",
       "6  LogisticRegression  0.651961   0.357047  0.461405  0.734798   \n",
       "7  LogisticRegression  0.642157   0.357435  0.459246  0.734775   \n",
       "8  LogisticRegression  0.588235   0.374415  0.457579  0.734503   \n",
       "\n",
       "     balance_method  \n",
       "0        Upsampling  \n",
       "1  Balanced classes  \n",
       "2      Downsampling  \n",
       "3      Downsampling  \n",
       "4        Upsampling  \n",
       "5  Balanced classes  \n",
       "6        Upsampling  \n",
       "7  Balanced classes  \n",
       "8      Downsampling  "
      ]
     },
     "execution_count": 275,
     "metadata": {},
     "output_type": "execute_result"
    }
   ],
   "source": [
    "final_df = pd.concat([upsampled_models, downsampled_models, balanced_models])\n",
    "(final_df\n",
    " .sort_values('roc-auc', ascending=False)\n",
    " .reset_index()\n",
    " .drop(['index'], axis=1))"
   ]
  },
  {
   "cell_type": "markdown",
   "metadata": {},
   "source": [
    "### Вывод\n",
    "\n",
    "Проведя борьбу с дисбалансом 2 способами и вычислив значения метрик ROC-AUC и F1, можно сделать вывод, что значения метрик повысились. Кроме того на наших данных метод **upsampling** показал себя лучше и именно по его модели случайного лесы мы будем проводить тестирование."
   ]
  },
  {
   "cell_type": "markdown",
   "metadata": {},
   "source": [
    "# 4. Тестирование модели"
   ]
  },
  {
   "cell_type": "markdown",
   "metadata": {},
   "source": [
    "Проведем тестирование случайного леса с такими параметрами: `n_estimators=90, max_depth=8`"
   ]
  },
  {
   "cell_type": "code",
   "execution_count": 276,
   "metadata": {},
   "outputs": [],
   "source": [
    "features_tv, target_tv = shuffle(\n",
    "    pd.concat([features_train_up, features_valid]),\n",
    "    pd.concat([target_up, target_valid]),\n",
    "    random_state=123)"
   ]
  },
  {
   "cell_type": "code",
   "execution_count": 277,
   "metadata": {},
   "outputs": [
    {
     "name": "stdout",
     "output_type": "stream",
     "text": [
      "ROC-AUC = 0.868\n",
      "F1 = 0.627 | Точность = 0.573 | Полнота = 0.690\n"
     ]
    }
   ],
   "source": [
    "forest = RandomForestClassifier(n_estimators=90, max_depth=8, random_state=123)\n",
    "forest.fit(features_tv, target_tv)\n",
    "\n",
    "probabilites_test = forest.predict_proba(features_test)\n",
    "probabilites_one_test = probabilites_test[:, 1]\n",
    "roc = roc_auc_score(target_test, probabilites_one_test)\n",
    "print('ROC-AUC = {:.3f}'.format(roc))\n",
    "predicted_test = forest.predict(features_test)\n",
    "precision = precision_score(target_test, predicted_test)\n",
    "recall = recall_score(target_test, predicted_test)\n",
    "f1 = f1_score(target_test, predicted_test)\n",
    "print(\"F1 = {:.3f} | Точность = {:.3f} | Полнота = {:.3f}\".format(f1, precision, recall))"
   ]
  },
  {
   "cell_type": "code",
   "execution_count": 278,
   "metadata": {
    "scrolled": false
   },
   "outputs": [
    {
     "data": {
      "text/plain": [
       "Text(0.5, 1.0, 'ROC-кривая')"
      ]
     },
     "execution_count": 278,
     "metadata": {},
     "output_type": "execute_result"
    },
    {
     "data": {
      "image/png": "[encoded data removed]",
      "text/plain": [
       "<Figure size 648x432 with 1 Axes>"
      ]
     },
     "metadata": {
      "needs_background": "light"
     },
     "output_type": "display_data"
    }
   ],
   "source": [
    "fpr, tpr, threshholds = roc_curve(target_test, probabilites_one_test)\n",
    "plt.figure(figsize=(9, 6))\n",
    "plt.plot(fpr, tpr)\n",
    "plt.plot([0, 1], [0, 1], linestyle='--')\n",
    "plt.xlim([0, 1])\n",
    "plt.ylim([0, 1])\n",
    "plt.xlabel('False Positive Rate')\n",
    "plt.ylabel('True Positive Rate')\n",
    "plt.title('ROC-кривая')"
   ]
  },
  {
   "cell_type": "markdown",
   "metadata": {},
   "source": [
    "Определим какие параметры сильнее влияют на то, уйдет ли клиент из банка или нет."
   ]
  },
  {
   "cell_type": "code",
   "execution_count": 279,
   "metadata": {},
   "outputs": [
    {
     "data": {
      "text/plain": [
       "Age                  0.400\n",
       "NumOfProducts        0.241\n",
       "Balance              0.088\n",
       "IsActiveMember       0.073\n",
       "Geography_Germany    0.055\n",
       "CreditScore          0.043\n",
       "EstimatedSalary      0.041\n",
       "Gender_Male          0.026\n",
       "Tenure               0.022\n",
       "Geography_Spain      0.006\n",
       "HasCrCard            0.005\n",
       "dtype: float64"
      ]
     },
     "execution_count": 279,
     "metadata": {},
     "output_type": "execute_result"
    }
   ],
   "source": [
    "feature_importances = pd.Series(np.round(forest.feature_importances_, 3), index=features.columns)\n",
    "feature_importances.sort_values(ascending=False)"
   ]
  },
  {
   "cell_type": "markdown",
   "metadata": {},
   "source": [
    "### Вывод\n",
    "\n",
    "Модель прошла тестирование на тестовых данных и показала себя даже немного лучше чем на валидационной выборке. Модель хорошо научилась предсказывать уйдет клиент или нет. Сильнее всего на вероятность ухода клиента из банка влияет возраст, количество продуктов банка и баланс, а слабее всего наличие кредитной карты."
   ]
  }
 ],
 "metadata": {
  "kernelspec": {
   "display_name": "Python 3",
   "language": "python",
   "name": "python3"
  },
  "language_info": {
   "codemirror_mode": {
    "name": "ipython",
    "version": 3
   },
   "file_extension": ".py",
   "mimetype": "text/x-python",
   "name": "python",
   "nbconvert_exporter": "python",
   "pygments_lexer": "ipython3",
   "version": "3.7.10"
  },
  "toc": {
   "base_numbering": "1",
   "nav_menu": {
    "height": "131px",
    "width": "231px"
   },
   "number_sections": true,
   "sideBar": true,
   "skip_h1_title": false,
   "title_cell": "Table of Contents",
   "title_sidebar": "Contents",
   "toc_cell": true,
   "toc_position": {},
   "toc_section_display": true,
   "toc_window_display": false
  }
 },
 "nbformat": 4,
 "nbformat_minor": 2
}
