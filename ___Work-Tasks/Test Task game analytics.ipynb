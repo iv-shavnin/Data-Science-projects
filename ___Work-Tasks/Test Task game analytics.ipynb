{
 "cells": [
  {
   "cell_type": "markdown",
   "id": "practical-public",
   "metadata": {
    "toc": true
   },
   "source": [
    "<h1>Table of Contents<span class=\"tocSkip\"></span></h1>\n",
    "<div class=\"toc\"><ul class=\"toc-item\"><li><span><a href=\"#Описание-задачи\" data-toc-modified-id=\"Описание-задачи-1\"><span class=\"toc-item-num\">1&nbsp;&nbsp;</span>Описание задачи</a></span></li><li><span><a href=\"#Загрузка-данных\" data-toc-modified-id=\"Загрузка-данных-2\"><span class=\"toc-item-num\">2&nbsp;&nbsp;</span>Загрузка данных</a></span><ul class=\"toc-item\"><li><span><a href=\"#Вывод\" data-toc-modified-id=\"Вывод-2.1\"><span class=\"toc-item-num\">2.1&nbsp;&nbsp;</span>Вывод</a></span></li></ul></li><li><span><a href=\"#Анализ-данных\" data-toc-modified-id=\"Анализ-данных-3\"><span class=\"toc-item-num\">3&nbsp;&nbsp;</span>Анализ данных</a></span><ul class=\"toc-item\"><li><span><a href=\"#Предварительный-анализ-и-обработка\" data-toc-modified-id=\"Предварительный-анализ-и-обработка-3.1\"><span class=\"toc-item-num\">3.1&nbsp;&nbsp;</span>Предварительный анализ и обработка</a></span><ul class=\"toc-item\"><li><span><a href=\"#Вывод\" data-toc-modified-id=\"Вывод-3.1.1\"><span class=\"toc-item-num\">3.1.1&nbsp;&nbsp;</span>Вывод</a></span></li></ul></li><li><span><a href=\"#Вопрос-1:-Топ-5-стран-по-количеству-игроков-для-каждой-платформы\" data-toc-modified-id=\"Вопрос-1:-Топ-5-стран-по-количеству-игроков-для-каждой-платформы-3.2\"><span class=\"toc-item-num\">3.2&nbsp;&nbsp;</span>Вопрос 1: Топ-5 стран по количеству игроков для каждой платформы</a></span><ul class=\"toc-item\"><li><span><a href=\"#Вывод\" data-toc-modified-id=\"Вывод-3.2.1\"><span class=\"toc-item-num\">3.2.1&nbsp;&nbsp;</span>Вывод</a></span></li></ul></li><li><span><a href=\"#Вопрос-2:-Максимальный-lifetime-игроков-в-игре\" data-toc-modified-id=\"Вопрос-2:-Максимальный-lifetime-игроков-в-игре-3.3\"><span class=\"toc-item-num\">3.3&nbsp;&nbsp;</span>Вопрос 2: Максимальный lifetime игроков в игре</a></span><ul class=\"toc-item\"><li><span><a href=\"#Вывод\" data-toc-modified-id=\"Вывод-3.3.1\"><span class=\"toc-item-num\">3.3.1&nbsp;&nbsp;</span>Вывод</a></span></li></ul></li><li><span><a href=\"#Вопрос-3:-Количество-игроков-выше-20-уровня\" data-toc-modified-id=\"Вопрос-3:-Количество-игроков-выше-20-уровня-3.4\"><span class=\"toc-item-num\">3.4&nbsp;&nbsp;</span>Вопрос 3: Количество игроков выше 20 уровня</a></span><ul class=\"toc-item\"><li><span><a href=\"#Вывод\" data-toc-modified-id=\"Вывод-3.4.1\"><span class=\"toc-item-num\">3.4.1&nbsp;&nbsp;</span>Вывод</a></span></li></ul></li><li><span><a href=\"#Вопрос-4:-Средний-уровень-игроков-для-каждой-страны\" data-toc-modified-id=\"Вопрос-4:-Средний-уровень-игроков-для-каждой-страны-3.5\"><span class=\"toc-item-num\">3.5&nbsp;&nbsp;</span>Вопрос 4: Средний уровень игроков для каждой страны</a></span><ul class=\"toc-item\"><li><span><a href=\"#Вывод\" data-toc-modified-id=\"Вывод-3.5.1\"><span class=\"toc-item-num\">3.5.1&nbsp;&nbsp;</span>Вывод</a></span></li></ul></li></ul></li><li><span><a href=\"#Вывод\" data-toc-modified-id=\"Вывод-4\"><span class=\"toc-item-num\">4&nbsp;&nbsp;</span>Вывод</a></span></li></ul></div>"
   ]
  },
  {
   "cell_type": "markdown",
   "id": "secondary-liability",
   "metadata": {},
   "source": [
    "# Тестовое задание на продуктового аналитика"
   ]
  },
  {
   "cell_type": "markdown",
   "id": "ready-status",
   "metadata": {},
   "source": [
    "## Описание задачи\n",
    "\n",
    "Необходимо проанализировать данные, содержащие информацию об игроке: его уровень, страна, платформа, дата регистрации и дата login’a. Эти данные помогут сформулировать представление об аудитории игры.\n",
    "\n",
    "Таблица содержит следующие столбцы:\n",
    "\n",
    "- сountry - страна,\n",
    "- pl - уровень игрока,\n",
    "- plf - платформа, \n",
    "- reg - дата регистрации игрока, \n",
    "- ts - время последнего захода игрока в игру, \n",
    "- user - id игрока.\n",
    "\n",
    "Необходимо ответить на следующие вопросы:\n",
    "\n",
    "- Для каждой платформы определите топ 5 стран по количеству игроков? \n",
    "- Какой максимальный lifetime у игроков в игре?\n",
    "- Какое количество игроков находится выше 20 уровня? \n",
    "- Посчитайте средний уровень игроков для каждой страны?"
   ]
  },
  {
   "cell_type": "markdown",
   "id": "contemporary-portsmouth",
   "metadata": {},
   "source": [
    "## Загрузка данных"
   ]
  },
  {
   "cell_type": "code",
   "execution_count": 1,
   "id": "common-chile",
   "metadata": {},
   "outputs": [],
   "source": [
    "import warnings\n",
    "warnings.filterwarnings(\"ignore\")\n",
    "import pandas as pd \n",
    "import matplotlib.pyplot as plt"
   ]
  },
  {
   "cell_type": "code",
   "execution_count": 2,
   "id": "olympic-implementation",
   "metadata": {},
   "outputs": [],
   "source": [
    "data = pd.read_csv('Analytics test.csv')"
   ]
  },
  {
   "cell_type": "code",
   "execution_count": 3,
   "id": "reserved-insertion",
   "metadata": {},
   "outputs": [
    {
     "data": {
      "text/html": [
       "<div>\n",
       "<style scoped>\n",
       "    .dataframe tbody tr th:only-of-type {\n",
       "        vertical-align: middle;\n",
       "    }\n",
       "\n",
       "    .dataframe tbody tr th {\n",
       "        vertical-align: top;\n",
       "    }\n",
       "\n",
       "    .dataframe thead th {\n",
       "        text-align: right;\n",
       "    }\n",
       "</style>\n",
       "<table border=\"1\" class=\"dataframe\">\n",
       "  <thead>\n",
       "    <tr style=\"text-align: right;\">\n",
       "      <th></th>\n",
       "      <th>country</th>\n",
       "      <th>pl</th>\n",
       "      <th>plf</th>\n",
       "      <th>reg</th>\n",
       "      <th>ts</th>\n",
       "      <th>user</th>\n",
       "    </tr>\n",
       "  </thead>\n",
       "  <tbody>\n",
       "    <tr>\n",
       "      <th>0</th>\n",
       "      <td>IT</td>\n",
       "      <td>33</td>\n",
       "      <td>Android</td>\n",
       "      <td>1511191920859</td>\n",
       "      <td>1586044805457</td>\n",
       "      <td>1122239prod-eu</td>\n",
       "    </tr>\n",
       "    <tr>\n",
       "      <th>1</th>\n",
       "      <td>IN</td>\n",
       "      <td>33</td>\n",
       "      <td>Android</td>\n",
       "      <td>1509074590554</td>\n",
       "      <td>1586045807421</td>\n",
       "      <td>147065prod-us</td>\n",
       "    </tr>\n",
       "    <tr>\n",
       "      <th>2</th>\n",
       "      <td>TR</td>\n",
       "      <td>33</td>\n",
       "      <td>iOS</td>\n",
       "      <td>1575420775882</td>\n",
       "      <td>1586047059117</td>\n",
       "      <td>25564086prod-eu</td>\n",
       "    </tr>\n",
       "    <tr>\n",
       "      <th>3</th>\n",
       "      <td>HK</td>\n",
       "      <td>12</td>\n",
       "      <td>Android</td>\n",
       "      <td>1584406076183</td>\n",
       "      <td>1586045087568</td>\n",
       "      <td>10123050prod-as</td>\n",
       "    </tr>\n",
       "    <tr>\n",
       "      <th>4</th>\n",
       "      <td>CN</td>\n",
       "      <td>21</td>\n",
       "      <td>Android</td>\n",
       "      <td>1581887511291</td>\n",
       "      <td>1586046421744</td>\n",
       "      <td>9893956prod-as</td>\n",
       "    </tr>\n",
       "  </tbody>\n",
       "</table>\n",
       "</div>"
      ],
      "text/plain": [
       "  country  pl      plf            reg             ts             user\n",
       "0      IT  33  Android  1511191920859  1586044805457   1122239prod-eu\n",
       "1      IN  33  Android  1509074590554  1586045807421    147065prod-us\n",
       "2      TR  33      iOS  1575420775882  1586047059117  25564086prod-eu\n",
       "3      HK  12  Android  1584406076183  1586045087568  10123050prod-as\n",
       "4      CN  21  Android  1581887511291  1586046421744   9893956prod-as"
      ]
     },
     "execution_count": 3,
     "metadata": {},
     "output_type": "execute_result"
    }
   ],
   "source": [
    "data.head()"
   ]
  },
  {
   "cell_type": "code",
   "execution_count": 4,
   "id": "powerful-olive",
   "metadata": {},
   "outputs": [
    {
     "name": "stdout",
     "output_type": "stream",
     "text": [
      "<class 'pandas.core.frame.DataFrame'>\n",
      "RangeIndex: 1000 entries, 0 to 999\n",
      "Data columns (total 6 columns):\n",
      " #   Column   Non-Null Count  Dtype \n",
      "---  ------   --------------  ----- \n",
      " 0   country  1000 non-null   object\n",
      " 1   pl       1000 non-null   int64 \n",
      " 2   plf      1000 non-null   object\n",
      " 3   reg      1000 non-null   int64 \n",
      " 4   ts       1000 non-null   int64 \n",
      " 5   user     1000 non-null   object\n",
      "dtypes: int64(3), object(3)\n",
      "memory usage: 47.0+ KB\n"
     ]
    }
   ],
   "source": [
    "data.info()"
   ]
  },
  {
   "cell_type": "markdown",
   "id": "massive-competition",
   "metadata": {},
   "source": [
    "Проверка на налицие дубликатов в данных."
   ]
  },
  {
   "cell_type": "code",
   "execution_count": 5,
   "id": "stuffed-suffering",
   "metadata": {},
   "outputs": [
    {
     "data": {
      "text/plain": [
       "0"
      ]
     },
     "execution_count": 5,
     "metadata": {},
     "output_type": "execute_result"
    }
   ],
   "source": [
    "data.duplicated().sum()"
   ]
  },
  {
   "cell_type": "markdown",
   "id": "animal-province",
   "metadata": {},
   "source": [
    "### Вывод\n",
    "\n",
    "Таблица содержит 6 столбцов и 1000 строк. Пропусков и дубликатов не обнаружено. Типы данных верные."
   ]
  },
  {
   "cell_type": "markdown",
   "id": "square-centre",
   "metadata": {},
   "source": [
    "## Анализ данных"
   ]
  },
  {
   "cell_type": "markdown",
   "id": "timely-introduction",
   "metadata": {},
   "source": [
    "### Предварительный анализ и обработка"
   ]
  },
  {
   "cell_type": "markdown",
   "id": "continent-minneapolis",
   "metadata": {},
   "source": [
    "Проверим все ли пользователи являются уникальными, чтобы получить корректные выводы в конце."
   ]
  },
  {
   "cell_type": "code",
   "execution_count": 6,
   "id": "dominant-converter",
   "metadata": {},
   "outputs": [
    {
     "data": {
      "text/plain": [
       "1000"
      ]
     },
     "execution_count": 6,
     "metadata": {},
     "output_type": "execute_result"
    }
   ],
   "source": [
    "len(data['user'].unique())"
   ]
  },
  {
   "cell_type": "markdown",
   "id": "backed-jerusalem",
   "metadata": {},
   "source": [
    "Количество уникальных пользователей совпадает с количеством строк в таблице. Значит все пользователи уникальны."
   ]
  },
  {
   "cell_type": "markdown",
   "id": "mature-relief",
   "metadata": {},
   "source": [
    "Построим график распределения количества игроков по странам стране."
   ]
  },
  {
   "cell_type": "code",
   "execution_count": 7,
   "id": "center-atlas",
   "metadata": {},
   "outputs": [
    {
     "data": {
      "image/png": "[encoded data removed]",
      "text/plain": [
       "<Figure size 648x432 with 1 Axes>"
      ]
     },
     "metadata": {
      "needs_background": "light"
     },
     "output_type": "display_data"
    }
   ],
   "source": [
    "data['country'].value_counts().nlargest(30).plot(kind='bar', figsize=(9, 6))\n",
    "plt.xlabel('Страны')\n",
    "plt.ylabel('Количество игроков, шт')\n",
    "plt.title('Распределение игроков по странам')\n",
    "plt.show()"
   ]
  },
  {
   "cell_type": "markdown",
   "id": "better-affiliate",
   "metadata": {},
   "source": [
    "Как видно из графика множество стран имеем малое количество игроков. Страны CN (Китай), IN (Индия), RU (Россия) являются лидерами по количеству игроков."
   ]
  },
  {
   "cell_type": "code",
   "execution_count": 8,
   "id": "committed-valve",
   "metadata": {},
   "outputs": [
    {
     "data": {
      "text/plain": [
       "count    102.000000\n",
       "mean       9.803922\n",
       "std       25.374049\n",
       "min        1.000000\n",
       "25%        1.000000\n",
       "50%        2.000000\n",
       "75%        6.000000\n",
       "max      180.000000\n",
       "Name: country, dtype: float64"
      ]
     },
     "execution_count": 8,
     "metadata": {},
     "output_type": "execute_result"
    }
   ],
   "source": [
    "data['country'].value_counts().describe()"
   ]
  },
  {
   "cell_type": "markdown",
   "id": "angry-ballet",
   "metadata": {},
   "source": [
    "Как видно из описания столбца `country` в среднем на страну приходится 10 игроков, тогда как медиана 2. Это объясняется большим количеством стран с малым числом игроков."
   ]
  },
  {
   "cell_type": "markdown",
   "id": "changing-judges",
   "metadata": {},
   "source": [
    "Построим распределения игроков по уровням."
   ]
  },
  {
   "cell_type": "code",
   "execution_count": 9,
   "id": "molecular-commission",
   "metadata": {},
   "outputs": [
    {
     "data": {
      "image/png": "[encoded data removed]",
      "text/plain": [
       "<Figure size 648x432 with 1 Axes>"
      ]
     },
     "metadata": {
      "needs_background": "light"
     },
     "output_type": "display_data"
    }
   ],
   "source": [
    "data['pl'].value_counts().sort_index().plot(kind='bar', figsize=(9, 6))\n",
    "plt.xlabel('Уровень')\n",
    "plt.ylabel('Количество игроков, шт')\n",
    "plt.title('Распределение игроков по уровням')\n",
    "plt.show()"
   ]
  },
  {
   "cell_type": "markdown",
   "id": "extensive-accident",
   "metadata": {},
   "source": [
    "Распределение игроков по уровням похоже на распределение Пуассона. Больше всего игроков с уровнем 3-4, так же наблюдается пик на 33 уровне. Это можно объяснить тем, что шкала уровней ограничена 33 уровнями. Игроки \"накапливаются\" на этом уровне."
   ]
  },
  {
   "cell_type": "code",
   "execution_count": 10,
   "id": "linear-organ",
   "metadata": {},
   "outputs": [
    {
     "data": {
      "text/plain": [
       "count    1000.000000\n",
       "mean       13.080000\n",
       "std        10.090859\n",
       "min         1.000000\n",
       "25%         4.000000\n",
       "50%        10.000000\n",
       "75%        20.250000\n",
       "max        33.000000\n",
       "Name: pl, dtype: float64"
      ]
     },
     "execution_count": 10,
     "metadata": {},
     "output_type": "execute_result"
    }
   ],
   "source": [
    "data['pl'].describe()"
   ]
  },
  {
   "cell_type": "markdown",
   "id": "amber-statement",
   "metadata": {},
   "source": [
    "У среднего угрока будет 13 уровень, при медиане 10. Это связано с большим количеством игроков на 3-4 уровнях."
   ]
  },
  {
   "cell_type": "markdown",
   "id": "small-shade",
   "metadata": {},
   "source": [
    "Взглянем на распределение игроков по платформам."
   ]
  },
  {
   "cell_type": "code",
   "execution_count": 11,
   "id": "collaborative-corporation",
   "metadata": {},
   "outputs": [
    {
     "data": {
      "image/png": "[encoded data removed]",
      "text/plain": [
       "<Figure size 648x432 with 1 Axes>"
      ]
     },
     "metadata": {
      "needs_background": "light"
     },
     "output_type": "display_data"
    }
   ],
   "source": [
    "data['plf'].value_counts().plot(kind='bar', figsize=(9, 6))\n",
    "plt.xlabel('Платформа')\n",
    "plt.ylabel('Количество игроков, шт')\n",
    "plt.title('Распределение игроков по платформам')\n",
    "plt.show()"
   ]
  },
  {
   "cell_type": "markdown",
   "id": "finnish-anthony",
   "metadata": {},
   "source": [
    "Можно заметить странные планформы, такие как Samsung и Amazon. Так как Samsung - это фирма, производящая телефоны на платформе Android, то исправим эту ошибку. Amazon так же производил телефоны на Android."
   ]
  },
  {
   "cell_type": "code",
   "execution_count": 12,
   "id": "boring-heritage",
   "metadata": {},
   "outputs": [],
   "source": [
    "data.loc[data['plf'] == 'Samsung', 'plf'] = 'Android'\n",
    "data.loc[data['plf'] == 'Amazon', 'plf'] = 'Android'"
   ]
  },
  {
   "cell_type": "code",
   "execution_count": 13,
   "id": "handed-measure",
   "metadata": {},
   "outputs": [
    {
     "data": {
      "text/plain": [
       "Android    745\n",
       "iOS        255\n",
       "Name: plf, dtype: int64"
      ]
     },
     "execution_count": 13,
     "metadata": {},
     "output_type": "execute_result"
    }
   ],
   "source": [
    "data['plf'].value_counts()"
   ]
  },
  {
   "cell_type": "code",
   "execution_count": 14,
   "id": "structural-blood",
   "metadata": {},
   "outputs": [
    {
     "data": {
      "image/png": "[encoded data removed]",
      "text/plain": [
       "<Figure size 648x432 with 1 Axes>"
      ]
     },
     "metadata": {
      "needs_background": "light"
     },
     "output_type": "display_data"
    }
   ],
   "source": [
    "data['plf'].value_counts().plot(kind='bar', figsize=(9, 6))\n",
    "plt.xlabel('Платформа')\n",
    "plt.ylabel('Количество игроков, шт')\n",
    "plt.title('Распределение игроков по платформам')\n",
    "plt.show()"
   ]
  },
  {
   "cell_type": "markdown",
   "id": "suspected-overhead",
   "metadata": {},
   "source": [
    "Процентное соотношение пользователей планформ."
   ]
  },
  {
   "cell_type": "code",
   "execution_count": 15,
   "id": "conditional-final",
   "metadata": {},
   "outputs": [
    {
     "data": {
      "text/plain": [
       "Android    74.5\n",
       "iOS        25.5\n",
       "Name: plf, dtype: float64"
      ]
     },
     "execution_count": 15,
     "metadata": {},
     "output_type": "execute_result"
    }
   ],
   "source": [
    "data['plf'].value_counts() / len(data) * 100"
   ]
  },
  {
   "cell_type": "markdown",
   "id": "caring-house",
   "metadata": {},
   "source": [
    "По диаграмме распределения игроков по платформам видно, что случайно выбранный игрок, скорее будет пользователем Android."
   ]
  },
  {
   "cell_type": "markdown",
   "id": "assisted-watershed",
   "metadata": {},
   "source": [
    "Построим boxplot для даты регистрации в игре и даты последнего захода, чтобы убедиться, что нет явных выбросов."
   ]
  },
  {
   "cell_type": "code",
   "execution_count": 16,
   "id": "lovely-bibliography",
   "metadata": {},
   "outputs": [
    {
     "data": {
      "image/png": "[encoded data removed]",
      "text/plain": [
       "<Figure size 1296x432 with 2 Axes>"
      ]
     },
     "metadata": {
      "needs_background": "light"
     },
     "output_type": "display_data"
    }
   ],
   "source": [
    "plt.figure(figsize=(18, 6))\n",
    "\n",
    "plt.subplot(121)\n",
    "data.boxplot(['reg', 'ts'])\n",
    "plt.xlabel(['Дата регистрации', 'Дата последнего захода в игру'])\n",
    "\n",
    "plt.subplot(122)\n",
    "data.boxplot('ts')\n",
    "plt.xlabel('Дата последнего захода в игру')\n",
    "\n",
    "plt.show()"
   ]
  },
  {
   "cell_type": "code",
   "execution_count": 17,
   "id": "indie-parliament",
   "metadata": {},
   "outputs": [
    {
     "data": {
      "text/html": [
       "<div>\n",
       "<style scoped>\n",
       "    .dataframe tbody tr th:only-of-type {\n",
       "        vertical-align: middle;\n",
       "    }\n",
       "\n",
       "    .dataframe tbody tr th {\n",
       "        vertical-align: top;\n",
       "    }\n",
       "\n",
       "    .dataframe thead th {\n",
       "        text-align: right;\n",
       "    }\n",
       "</style>\n",
       "<table border=\"1\" class=\"dataframe\">\n",
       "  <thead>\n",
       "    <tr style=\"text-align: right;\">\n",
       "      <th></th>\n",
       "      <th>reg</th>\n",
       "      <th>ts</th>\n",
       "    </tr>\n",
       "  </thead>\n",
       "  <tbody>\n",
       "    <tr>\n",
       "      <th>count</th>\n",
       "      <td>1.000000e+03</td>\n",
       "      <td>1.000000e+03</td>\n",
       "    </tr>\n",
       "    <tr>\n",
       "      <th>mean</th>\n",
       "      <td>1.572175e+12</td>\n",
       "      <td>1.586059e+12</td>\n",
       "    </tr>\n",
       "    <tr>\n",
       "      <th>std</th>\n",
       "      <td>2.170363e+10</td>\n",
       "      <td>1.457307e+07</td>\n",
       "    </tr>\n",
       "    <tr>\n",
       "      <th>min</th>\n",
       "      <td>1.509075e+12</td>\n",
       "      <td>1.586045e+12</td>\n",
       "    </tr>\n",
       "    <tr>\n",
       "      <th>25%</th>\n",
       "      <td>1.569913e+12</td>\n",
       "      <td>1.586047e+12</td>\n",
       "    </tr>\n",
       "    <tr>\n",
       "      <th>50%</th>\n",
       "      <td>1.583409e+12</td>\n",
       "      <td>1.586055e+12</td>\n",
       "    </tr>\n",
       "    <tr>\n",
       "      <th>75%</th>\n",
       "      <td>1.585772e+12</td>\n",
       "      <td>1.586068e+12</td>\n",
       "    </tr>\n",
       "    <tr>\n",
       "      <th>max</th>\n",
       "      <td>1.586120e+12</td>\n",
       "      <td>1.586120e+12</td>\n",
       "    </tr>\n",
       "  </tbody>\n",
       "</table>\n",
       "</div>"
      ],
      "text/plain": [
       "                reg            ts\n",
       "count  1.000000e+03  1.000000e+03\n",
       "mean   1.572175e+12  1.586059e+12\n",
       "std    2.170363e+10  1.457307e+07\n",
       "min    1.509075e+12  1.586045e+12\n",
       "25%    1.569913e+12  1.586047e+12\n",
       "50%    1.583409e+12  1.586055e+12\n",
       "75%    1.585772e+12  1.586068e+12\n",
       "max    1.586120e+12  1.586120e+12"
      ]
     },
     "execution_count": 17,
     "metadata": {},
     "output_type": "execute_result"
    }
   ],
   "source": [
    "data[['reg', 'ts']].describe()"
   ]
  },
  {
   "cell_type": "markdown",
   "id": "coupled-bridges",
   "metadata": {},
   "source": [
    "Как видно по диаграммам, значения столбца с датой регистрации распределены по куда более широкому диапазону, чем с датой последнего захода в игру. Данные представленные в датасете, представленны для игроков, которые решили перестать играть в эту игру в конкретный период времени."
   ]
  },
  {
   "cell_type": "markdown",
   "id": "inner-conviction",
   "metadata": {},
   "source": [
    "#### Вывод\n",
    "\n",
    "В данном подразделе было выснено, что:\n",
    "\n",
    "- Все строки таблицы соответствуют уникальным пользователям\n",
    "- Большое количество стран имеет малое число игроков (1-2 игрока)\n",
    "- Страны CN (Китай), IN (Индия), RU (Россия) являются лидерами по количеству игроков\n",
    "- Наибольшая концентрация игроков наблючается на уровнях 3, 4 и 33, тогда как средний игрок находится на 13 уровне, а медианный на 10. Всплеск на 33 уровне связан с ограничением на шкале уровней, поэтому пользователи накапливаются на финальном уровне\n",
    "- Большинство пользователей пользуются Android (74.5%)\n",
    "- Датасет составлен так, что дата последнего захода в игру колеблется в конкретном временном промежутке, далее выясним в каком"
   ]
  },
  {
   "cell_type": "markdown",
   "id": "renewable-standard",
   "metadata": {},
   "source": [
    "### Вопрос 1: Топ-5 стран по количеству игроков для каждой платформы"
   ]
  },
  {
   "cell_type": "markdown",
   "id": "treated-clause",
   "metadata": {},
   "source": [
    "Для начала построим сводную таблицу по количеству игроков для каждой страны."
   ]
  },
  {
   "cell_type": "code",
   "execution_count": 18,
   "id": "located-growth",
   "metadata": {},
   "outputs": [
    {
     "data": {
      "text/html": [
       "<div>\n",
       "<style scoped>\n",
       "    .dataframe tbody tr th:only-of-type {\n",
       "        vertical-align: middle;\n",
       "    }\n",
       "\n",
       "    .dataframe tbody tr th {\n",
       "        vertical-align: top;\n",
       "    }\n",
       "\n",
       "    .dataframe thead th {\n",
       "        text-align: right;\n",
       "    }\n",
       "</style>\n",
       "<table border=\"1\" class=\"dataframe\">\n",
       "  <thead>\n",
       "    <tr style=\"text-align: right;\">\n",
       "      <th></th>\n",
       "      <th>Android</th>\n",
       "      <th>iOS</th>\n",
       "    </tr>\n",
       "    <tr>\n",
       "      <th>country</th>\n",
       "      <th></th>\n",
       "      <th></th>\n",
       "    </tr>\n",
       "  </thead>\n",
       "  <tbody>\n",
       "    <tr>\n",
       "      <th>AE</th>\n",
       "      <td>4.0</td>\n",
       "      <td>2.0</td>\n",
       "    </tr>\n",
       "    <tr>\n",
       "      <th>AF</th>\n",
       "      <td>3.0</td>\n",
       "      <td>0.0</td>\n",
       "    </tr>\n",
       "    <tr>\n",
       "      <th>AL</th>\n",
       "      <td>1.0</td>\n",
       "      <td>0.0</td>\n",
       "    </tr>\n",
       "    <tr>\n",
       "      <th>AM</th>\n",
       "      <td>1.0</td>\n",
       "      <td>2.0</td>\n",
       "    </tr>\n",
       "    <tr>\n",
       "      <th>AO</th>\n",
       "      <td>1.0</td>\n",
       "      <td>0.0</td>\n",
       "    </tr>\n",
       "    <tr>\n",
       "      <th>...</th>\n",
       "      <td>...</td>\n",
       "      <td>...</td>\n",
       "    </tr>\n",
       "    <tr>\n",
       "      <th>VN</th>\n",
       "      <td>14.0</td>\n",
       "      <td>18.0</td>\n",
       "    </tr>\n",
       "    <tr>\n",
       "      <th>XK</th>\n",
       "      <td>1.0</td>\n",
       "      <td>0.0</td>\n",
       "    </tr>\n",
       "    <tr>\n",
       "      <th>YE</th>\n",
       "      <td>1.0</td>\n",
       "      <td>0.0</td>\n",
       "    </tr>\n",
       "    <tr>\n",
       "      <th>ZA</th>\n",
       "      <td>2.0</td>\n",
       "      <td>0.0</td>\n",
       "    </tr>\n",
       "    <tr>\n",
       "      <th>ZM</th>\n",
       "      <td>1.0</td>\n",
       "      <td>0.0</td>\n",
       "    </tr>\n",
       "  </tbody>\n",
       "</table>\n",
       "<p>102 rows × 2 columns</p>\n",
       "</div>"
      ],
      "text/plain": [
       "         Android   iOS\n",
       "country               \n",
       "AE           4.0   2.0\n",
       "AF           3.0   0.0\n",
       "AL           1.0   0.0\n",
       "AM           1.0   2.0\n",
       "AO           1.0   0.0\n",
       "...          ...   ...\n",
       "VN          14.0  18.0\n",
       "XK           1.0   0.0\n",
       "YE           1.0   0.0\n",
       "ZA           2.0   0.0\n",
       "ZM           1.0   0.0\n",
       "\n",
       "[102 rows x 2 columns]"
      ]
     },
     "execution_count": 18,
     "metadata": {},
     "output_type": "execute_result"
    }
   ],
   "source": [
    "cnt = pd.pivot_table(data, index='country', columns='plf', values='user', aggfunc=['count']).fillna(0)\n",
    "cnt.columns = ['Android', 'iOS']\n",
    "\n",
    "cnt"
   ]
  },
  {
   "cell_type": "markdown",
   "id": "temporal-indonesian",
   "metadata": {},
   "source": [
    "Для большей информативности получим таблицы для каждой платформы с 5 странами с наибольшим количеством игроков."
   ]
  },
  {
   "cell_type": "code",
   "execution_count": 19,
   "id": "editorial-romantic",
   "metadata": {},
   "outputs": [
    {
     "data": {
      "text/html": [
       "<div>\n",
       "<style scoped>\n",
       "    .dataframe tbody tr th:only-of-type {\n",
       "        vertical-align: middle;\n",
       "    }\n",
       "\n",
       "    .dataframe tbody tr th {\n",
       "        vertical-align: top;\n",
       "    }\n",
       "\n",
       "    .dataframe thead th {\n",
       "        text-align: right;\n",
       "    }\n",
       "</style>\n",
       "<table border=\"1\" class=\"dataframe\">\n",
       "  <thead>\n",
       "    <tr style=\"text-align: right;\">\n",
       "      <th></th>\n",
       "      <th>country</th>\n",
       "      <th>Android</th>\n",
       "      <th>percent</th>\n",
       "    </tr>\n",
       "  </thead>\n",
       "  <tbody>\n",
       "    <tr>\n",
       "      <th>0</th>\n",
       "      <td>IN</td>\n",
       "      <td>152.0</td>\n",
       "      <td>20.40</td>\n",
       "    </tr>\n",
       "    <tr>\n",
       "      <th>1</th>\n",
       "      <td>RU</td>\n",
       "      <td>59.0</td>\n",
       "      <td>7.92</td>\n",
       "    </tr>\n",
       "    <tr>\n",
       "      <th>2</th>\n",
       "      <td>CN</td>\n",
       "      <td>58.0</td>\n",
       "      <td>7.79</td>\n",
       "    </tr>\n",
       "    <tr>\n",
       "      <th>3</th>\n",
       "      <td>ID</td>\n",
       "      <td>36.0</td>\n",
       "      <td>4.83</td>\n",
       "    </tr>\n",
       "    <tr>\n",
       "      <th>4</th>\n",
       "      <td>PH</td>\n",
       "      <td>30.0</td>\n",
       "      <td>4.03</td>\n",
       "    </tr>\n",
       "  </tbody>\n",
       "</table>\n",
       "</div>"
      ],
      "text/plain": [
       "  country  Android  percent\n",
       "0      IN    152.0    20.40\n",
       "1      RU     59.0     7.92\n",
       "2      CN     58.0     7.79\n",
       "3      ID     36.0     4.83\n",
       "4      PH     30.0     4.03"
      ]
     },
     "execution_count": 19,
     "metadata": {},
     "output_type": "execute_result"
    }
   ],
   "source": [
    "android = cnt.nlargest(5, columns='Android')['Android'].reset_index()\n",
    "android.columns = ['country', 'Android']\n",
    "android['percent'] = round(android['Android'] / cnt['Android'].sum() * 100, 2)\n",
    "\n",
    "android"
   ]
  },
  {
   "cell_type": "code",
   "execution_count": 20,
   "id": "isolated-vanilla",
   "metadata": {},
   "outputs": [
    {
     "data": {
      "text/html": [
       "<div>\n",
       "<style scoped>\n",
       "    .dataframe tbody tr th:only-of-type {\n",
       "        vertical-align: middle;\n",
       "    }\n",
       "\n",
       "    .dataframe tbody tr th {\n",
       "        vertical-align: top;\n",
       "    }\n",
       "\n",
       "    .dataframe thead th {\n",
       "        text-align: right;\n",
       "    }\n",
       "</style>\n",
       "<table border=\"1\" class=\"dataframe\">\n",
       "  <thead>\n",
       "    <tr style=\"text-align: right;\">\n",
       "      <th></th>\n",
       "      <th>country</th>\n",
       "      <th>iOS</th>\n",
       "      <th>percent</th>\n",
       "    </tr>\n",
       "  </thead>\n",
       "  <tbody>\n",
       "    <tr>\n",
       "      <th>0</th>\n",
       "      <td>CN</td>\n",
       "      <td>122.0</td>\n",
       "      <td>47.84</td>\n",
       "    </tr>\n",
       "    <tr>\n",
       "      <th>1</th>\n",
       "      <td>VN</td>\n",
       "      <td>18.0</td>\n",
       "      <td>7.06</td>\n",
       "    </tr>\n",
       "    <tr>\n",
       "      <th>2</th>\n",
       "      <td>US</td>\n",
       "      <td>14.0</td>\n",
       "      <td>5.49</td>\n",
       "    </tr>\n",
       "    <tr>\n",
       "      <th>3</th>\n",
       "      <td>RU</td>\n",
       "      <td>12.0</td>\n",
       "      <td>4.71</td>\n",
       "    </tr>\n",
       "    <tr>\n",
       "      <th>4</th>\n",
       "      <td>IN</td>\n",
       "      <td>11.0</td>\n",
       "      <td>4.31</td>\n",
       "    </tr>\n",
       "  </tbody>\n",
       "</table>\n",
       "</div>"
      ],
      "text/plain": [
       "  country    iOS  percent\n",
       "0      CN  122.0    47.84\n",
       "1      VN   18.0     7.06\n",
       "2      US   14.0     5.49\n",
       "3      RU   12.0     4.71\n",
       "4      IN   11.0     4.31"
      ]
     },
     "execution_count": 20,
     "metadata": {},
     "output_type": "execute_result"
    }
   ],
   "source": [
    "ios = cnt.nlargest(5, columns='iOS')['iOS'].reset_index()\n",
    "ios.columns = ['country', 'iOS']\n",
    "ios['percent'] = round(ios['iOS'] / cnt['iOS'].sum() * 100, 2)\n",
    "\n",
    "ios"
   ]
  },
  {
   "cell_type": "markdown",
   "id": "stone-offset",
   "metadata": {},
   "source": [
    "Объединим данные в единую таблицу."
   ]
  },
  {
   "cell_type": "code",
   "execution_count": 21,
   "id": "aggregate-sending",
   "metadata": {},
   "outputs": [
    {
     "data": {
      "text/html": [
       "<div>\n",
       "<style scoped>\n",
       "    .dataframe tbody tr th:only-of-type {\n",
       "        vertical-align: middle;\n",
       "    }\n",
       "\n",
       "    .dataframe tbody tr th {\n",
       "        vertical-align: top;\n",
       "    }\n",
       "\n",
       "    .dataframe thead th {\n",
       "        text-align: right;\n",
       "    }\n",
       "</style>\n",
       "<table border=\"1\" class=\"dataframe\">\n",
       "  <thead>\n",
       "    <tr style=\"text-align: right;\">\n",
       "      <th></th>\n",
       "      <th>country_Android</th>\n",
       "      <th>Android</th>\n",
       "      <th>percent_Android</th>\n",
       "      <th>country_iOS</th>\n",
       "      <th>iOS</th>\n",
       "      <th>percent_iOS</th>\n",
       "    </tr>\n",
       "  </thead>\n",
       "  <tbody>\n",
       "    <tr>\n",
       "      <th>0</th>\n",
       "      <td>IN</td>\n",
       "      <td>152.0</td>\n",
       "      <td>20.40</td>\n",
       "      <td>CN</td>\n",
       "      <td>122.0</td>\n",
       "      <td>47.84</td>\n",
       "    </tr>\n",
       "    <tr>\n",
       "      <th>1</th>\n",
       "      <td>RU</td>\n",
       "      <td>59.0</td>\n",
       "      <td>7.92</td>\n",
       "      <td>VN</td>\n",
       "      <td>18.0</td>\n",
       "      <td>7.06</td>\n",
       "    </tr>\n",
       "    <tr>\n",
       "      <th>2</th>\n",
       "      <td>CN</td>\n",
       "      <td>58.0</td>\n",
       "      <td>7.79</td>\n",
       "      <td>US</td>\n",
       "      <td>14.0</td>\n",
       "      <td>5.49</td>\n",
       "    </tr>\n",
       "    <tr>\n",
       "      <th>3</th>\n",
       "      <td>ID</td>\n",
       "      <td>36.0</td>\n",
       "      <td>4.83</td>\n",
       "      <td>RU</td>\n",
       "      <td>12.0</td>\n",
       "      <td>4.71</td>\n",
       "    </tr>\n",
       "    <tr>\n",
       "      <th>4</th>\n",
       "      <td>PH</td>\n",
       "      <td>30.0</td>\n",
       "      <td>4.03</td>\n",
       "      <td>IN</td>\n",
       "      <td>11.0</td>\n",
       "      <td>4.31</td>\n",
       "    </tr>\n",
       "  </tbody>\n",
       "</table>\n",
       "</div>"
      ],
      "text/plain": [
       "  country_Android  Android  percent_Android country_iOS    iOS  percent_iOS\n",
       "0              IN    152.0            20.40          CN  122.0        47.84\n",
       "1              RU     59.0             7.92          VN   18.0         7.06\n",
       "2              CN     58.0             7.79          US   14.0         5.49\n",
       "3              ID     36.0             4.83          RU   12.0         4.71\n",
       "4              PH     30.0             4.03          IN   11.0         4.31"
      ]
     },
     "execution_count": 21,
     "metadata": {},
     "output_type": "execute_result"
    }
   ],
   "source": [
    "country = android.join(ios, lsuffix='_Android', rsuffix='_iOS')\n",
    "country"
   ]
  },
  {
   "cell_type": "markdown",
   "id": "approved-beads",
   "metadata": {},
   "source": [
    "Чтобы видель только ТОП стран, оставим лишь колонки с ними."
   ]
  },
  {
   "cell_type": "code",
   "execution_count": 22,
   "id": "biblical-twelve",
   "metadata": {},
   "outputs": [
    {
     "data": {
      "text/html": [
       "<div>\n",
       "<style scoped>\n",
       "    .dataframe tbody tr th:only-of-type {\n",
       "        vertical-align: middle;\n",
       "    }\n",
       "\n",
       "    .dataframe tbody tr th {\n",
       "        vertical-align: top;\n",
       "    }\n",
       "\n",
       "    .dataframe thead th {\n",
       "        text-align: right;\n",
       "    }\n",
       "</style>\n",
       "<table border=\"1\" class=\"dataframe\">\n",
       "  <thead>\n",
       "    <tr style=\"text-align: right;\">\n",
       "      <th></th>\n",
       "      <th>country_Android</th>\n",
       "      <th>country_iOS</th>\n",
       "    </tr>\n",
       "  </thead>\n",
       "  <tbody>\n",
       "    <tr>\n",
       "      <th>0</th>\n",
       "      <td>IN</td>\n",
       "      <td>CN</td>\n",
       "    </tr>\n",
       "    <tr>\n",
       "      <th>1</th>\n",
       "      <td>RU</td>\n",
       "      <td>VN</td>\n",
       "    </tr>\n",
       "    <tr>\n",
       "      <th>2</th>\n",
       "      <td>CN</td>\n",
       "      <td>US</td>\n",
       "    </tr>\n",
       "    <tr>\n",
       "      <th>3</th>\n",
       "      <td>ID</td>\n",
       "      <td>RU</td>\n",
       "    </tr>\n",
       "    <tr>\n",
       "      <th>4</th>\n",
       "      <td>PH</td>\n",
       "      <td>IN</td>\n",
       "    </tr>\n",
       "  </tbody>\n",
       "</table>\n",
       "</div>"
      ],
      "text/plain": [
       "  country_Android country_iOS\n",
       "0              IN          CN\n",
       "1              RU          VN\n",
       "2              CN          US\n",
       "3              ID          RU\n",
       "4              PH          IN"
      ]
     },
     "execution_count": 22,
     "metadata": {},
     "output_type": "execute_result"
    }
   ],
   "source": [
    "country[['country_Android', 'country_iOS']]"
   ]
  },
  {
   "cell_type": "markdown",
   "id": "biological-notification",
   "metadata": {},
   "source": [
    "#### Вывод\n",
    "\n",
    "Топ-5 стран по количетсву пользователей играющих на **Android**: \n",
    "\n",
    "- IN - Индия, игроки из этой страны составляют ***20.4%*** от все игроков на этой платформе (далее процент будет писаться в скобках)\n",
    "- RU - Россия (7.9%)\n",
    "- CN - Китай (7.8%), отставание от России в 1 игрока, может быть погрешностью\n",
    "- ID - Индонезия (4.8%)\n",
    "- PH - Филиппины (4%)\n",
    "\n",
    "Топ-5 стран по количетсву пользователей играющих на **iOS**: \n",
    "\n",
    "- CN - Китай (***47.8%***)\n",
    "- VN - Вьетнам (7.06%)\n",
    "- US - США (5.5%)\n",
    "- RU - Россия (4.7%), отставание от США в 2 игрока, может быть погрешностью\n",
    "- IN - Индия (4.3%), отставание от России в 1 игрока, может быть погрешностью\n",
    "\n",
    "По количеству игроков, пользователей iOS во всех странах (кроме Китая) меньше чем в последней стране ТОПа для Android (30 шт)\n",
    "\n",
    "В обоих ТОПах представлены такие страны как Индия, Россия и Китай. Можно заметить, что Индия и Россия с 1 и 2 места в ТОПе Android переходят на 5 и 4 места соответственно в ТОПе iOS, что вероятно связано с экономической ситуацией и сравнительной дешевизне смартфонов на Android. Китай же наоборот с 3 места переходит на 1, причем 1 место в iOS он занимает с доминирующем положением (47.8% в сравнении с остальными странами, у которых меньше 8%)."
   ]
  },
  {
   "cell_type": "markdown",
   "id": "aquatic-chaos",
   "metadata": {},
   "source": [
    "### Вопрос 2: Максимальный lifetime игроков в игре"
   ]
  },
  {
   "cell_type": "markdown",
   "id": "capable-server",
   "metadata": {},
   "source": [
    "Для начала столбцы `reg` и `ts` переведем в datetime64 и найдем время, проведенное в игре."
   ]
  },
  {
   "cell_type": "code",
   "execution_count": 23,
   "id": "heard-applicant",
   "metadata": {},
   "outputs": [
    {
     "data": {
      "text/html": [
       "<div>\n",
       "<style scoped>\n",
       "    .dataframe tbody tr th:only-of-type {\n",
       "        vertical-align: middle;\n",
       "    }\n",
       "\n",
       "    .dataframe tbody tr th {\n",
       "        vertical-align: top;\n",
       "    }\n",
       "\n",
       "    .dataframe thead th {\n",
       "        text-align: right;\n",
       "    }\n",
       "</style>\n",
       "<table border=\"1\" class=\"dataframe\">\n",
       "  <thead>\n",
       "    <tr style=\"text-align: right;\">\n",
       "      <th></th>\n",
       "      <th>country</th>\n",
       "      <th>pl</th>\n",
       "      <th>plf</th>\n",
       "      <th>reg</th>\n",
       "      <th>ts</th>\n",
       "      <th>user</th>\n",
       "      <th>lifetime</th>\n",
       "    </tr>\n",
       "  </thead>\n",
       "  <tbody>\n",
       "    <tr>\n",
       "      <th>0</th>\n",
       "      <td>IT</td>\n",
       "      <td>33</td>\n",
       "      <td>Android</td>\n",
       "      <td>2017-11-20 15:32:00.859</td>\n",
       "      <td>2020-04-05 00:00:05.457</td>\n",
       "      <td>1122239prod-eu</td>\n",
       "      <td>866 days 08:28:04.598000</td>\n",
       "    </tr>\n",
       "    <tr>\n",
       "      <th>1</th>\n",
       "      <td>IN</td>\n",
       "      <td>33</td>\n",
       "      <td>Android</td>\n",
       "      <td>2017-10-27 03:23:10.554</td>\n",
       "      <td>2020-04-05 00:16:47.421</td>\n",
       "      <td>147065prod-us</td>\n",
       "      <td>890 days 20:53:36.867000</td>\n",
       "    </tr>\n",
       "    <tr>\n",
       "      <th>2</th>\n",
       "      <td>TR</td>\n",
       "      <td>33</td>\n",
       "      <td>iOS</td>\n",
       "      <td>2019-12-04 00:52:55.882</td>\n",
       "      <td>2020-04-05 00:37:39.117</td>\n",
       "      <td>25564086prod-eu</td>\n",
       "      <td>122 days 23:44:43.235000</td>\n",
       "    </tr>\n",
       "    <tr>\n",
       "      <th>3</th>\n",
       "      <td>HK</td>\n",
       "      <td>12</td>\n",
       "      <td>Android</td>\n",
       "      <td>2020-03-17 00:47:56.183</td>\n",
       "      <td>2020-04-05 00:04:47.568</td>\n",
       "      <td>10123050prod-as</td>\n",
       "      <td>18 days 23:16:51.385000</td>\n",
       "    </tr>\n",
       "    <tr>\n",
       "      <th>4</th>\n",
       "      <td>CN</td>\n",
       "      <td>21</td>\n",
       "      <td>Android</td>\n",
       "      <td>2020-02-16 21:11:51.291</td>\n",
       "      <td>2020-04-05 00:27:01.744</td>\n",
       "      <td>9893956prod-as</td>\n",
       "      <td>48 days 03:15:10.453000</td>\n",
       "    </tr>\n",
       "  </tbody>\n",
       "</table>\n",
       "</div>"
      ],
      "text/plain": [
       "  country  pl      plf                     reg                      ts  \\\n",
       "0      IT  33  Android 2017-11-20 15:32:00.859 2020-04-05 00:00:05.457   \n",
       "1      IN  33  Android 2017-10-27 03:23:10.554 2020-04-05 00:16:47.421   \n",
       "2      TR  33      iOS 2019-12-04 00:52:55.882 2020-04-05 00:37:39.117   \n",
       "3      HK  12  Android 2020-03-17 00:47:56.183 2020-04-05 00:04:47.568   \n",
       "4      CN  21  Android 2020-02-16 21:11:51.291 2020-04-05 00:27:01.744   \n",
       "\n",
       "              user                 lifetime  \n",
       "0   1122239prod-eu 866 days 08:28:04.598000  \n",
       "1    147065prod-us 890 days 20:53:36.867000  \n",
       "2  25564086prod-eu 122 days 23:44:43.235000  \n",
       "3  10123050prod-as  18 days 23:16:51.385000  \n",
       "4   9893956prod-as  48 days 03:15:10.453000  "
      ]
     },
     "execution_count": 23,
     "metadata": {},
     "output_type": "execute_result"
    }
   ],
   "source": [
    "data['reg'] = pd.to_datetime(data['reg'], unit='ms')\n",
    "data['ts'] = pd.to_datetime(data['ts'], unit='ms')\n",
    "data['lifetime'] = data['ts'] - data['reg']\n",
    "data.head()"
   ]
  },
  {
   "cell_type": "markdown",
   "id": "according-detail",
   "metadata": {},
   "source": [
    "Построим распределение по времени, проведенном в игре."
   ]
  },
  {
   "cell_type": "code",
   "execution_count": 24,
   "id": "educational-lithuania",
   "metadata": {},
   "outputs": [],
   "source": [
    "lifetime = data['lifetime'].astype('int64') / 10**9 / 60 / 60 / 24"
   ]
  },
  {
   "cell_type": "code",
   "execution_count": 25,
   "id": "correct-entry",
   "metadata": {},
   "outputs": [
    {
     "data": {
      "image/png": "[encoded data removed]",
      "text/plain": [
       "<Figure size 648x432 with 1 Axes>"
      ]
     },
     "metadata": {
      "needs_background": "light"
     },
     "output_type": "display_data"
    }
   ],
   "source": [
    "lifetime.hist(bins=100, figsize=(9, 6))\n",
    "plt.xlabel('Время проведенное в игре, дни')\n",
    "plt.ylabel('Количество игроков, шт')\n",
    "plt.title('Гистограмма распределения игроков по времени проведенному в игре')\n",
    "plt.show()"
   ]
  },
  {
   "cell_type": "markdown",
   "id": "physical-franchise",
   "metadata": {},
   "source": [
    "Видно, что большинство игроков играют малое количество дней близкое к нулю."
   ]
  },
  {
   "cell_type": "code",
   "execution_count": 26,
   "id": "visible-soviet",
   "metadata": {},
   "outputs": [
    {
     "data": {
      "text/plain": [
       "count                           1000\n",
       "mean        160 days 16:43:12.768004\n",
       "std      251 days 04:35:07.063141448\n",
       "min           0 days 00:00:00.002000\n",
       "25%           3 days 07:25:36.395750\n",
       "50%          30 days 15:06:33.920000\n",
       "75%         186 days 22:13:49.307000\n",
       "max         890 days 20:53:36.867000\n",
       "Name: lifetime, dtype: object"
      ]
     },
     "execution_count": 26,
     "metadata": {},
     "output_type": "execute_result"
    }
   ],
   "source": [
    "data['lifetime'].describe()"
   ]
  },
  {
   "cell_type": "markdown",
   "id": "quality-rogers",
   "metadata": {},
   "source": [
    "Среднее время проведенное в игре состовляет 160 дней, тогда как медиана равна 30 дням. Такой серьезный разрыв связан с тем, что медианное значение смещается в сторону нуля из-за большого количества игроков, играющих всего несколько дней и меньше."
   ]
  },
  {
   "cell_type": "markdown",
   "id": "meaningful-faith",
   "metadata": {},
   "source": [
    "Определим максимальное время проведенное в игре."
   ]
  },
  {
   "cell_type": "code",
   "execution_count": 27,
   "id": "eight-documentation",
   "metadata": {},
   "outputs": [
    {
     "data": {
      "text/plain": [
       "Timedelta('890 days 20:53:36.867000')"
      ]
     },
     "execution_count": 27,
     "metadata": {},
     "output_type": "execute_result"
    }
   ],
   "source": [
    "data['lifetime'].max()"
   ]
  },
  {
   "cell_type": "code",
   "execution_count": 28,
   "id": "weekly-entrepreneur",
   "metadata": {},
   "outputs": [
    {
     "name": "stdout",
     "output_type": "stream",
     "text": [
      "Максимальный lifetime пользователя в игре: 890 дней\n"
     ]
    }
   ],
   "source": [
    "print('Максимальный lifetime пользователя в игре: {} дней'.format(\n",
    "    data['lifetime'].max().days))"
   ]
  },
  {
   "cell_type": "markdown",
   "id": "false-definition",
   "metadata": {},
   "source": [
    "Выясним в какой промежуток времени происходит последний заход в игру у игроков."
   ]
  },
  {
   "cell_type": "code",
   "execution_count": 29,
   "id": "written-substance",
   "metadata": {},
   "outputs": [
    {
     "name": "stdout",
     "output_type": "stream",
     "text": [
      "Дата последнего захода в игру лежит в диапазоне от 2020-04-05 00:00:05.457000 до 2020-04-05 21:00:43.076000\n"
     ]
    }
   ],
   "source": [
    "print('Дата последнего захода в игру лежит в диапазоне от', data['ts'].min(), 'до', data['ts'].max())"
   ]
  },
  {
   "cell_type": "markdown",
   "id": "honey-facing",
   "metadata": {},
   "source": [
    "#### Вывод\n",
    "\n",
    "Половина всех игроков представленных в датасете остается активными в игре не больше 30 дней, а 75% всех пользователей играют уже через полгода.\n",
    "\n",
    "Самое долгое временя, проведенное в игре составляет **890 дней**."
   ]
  },
  {
   "cell_type": "markdown",
   "id": "auburn-pattern",
   "metadata": {},
   "source": [
    "### Вопрос 3: Количество игроков выше 20 уровня"
   ]
  },
  {
   "cell_type": "code",
   "execution_count": 30,
   "id": "senior-tunisia",
   "metadata": {},
   "outputs": [
    {
     "name": "stdout",
     "output_type": "stream",
     "text": [
      "Количество игроков выше 20 уровня: 250\n"
     ]
    }
   ],
   "source": [
    "print('Количество игроков выше 20 уровня:', data.query('pl > 20')['pl'].count())"
   ]
  },
  {
   "cell_type": "code",
   "execution_count": 31,
   "id": "wanted-module",
   "metadata": {},
   "outputs": [
    {
     "name": "stdout",
     "output_type": "stream",
     "text": [
      "Процент игроков выше 20 уровня: 25.00%\n"
     ]
    }
   ],
   "source": [
    "print('Процент игроков выше 20 уровня: {:.2%}'.format(data.query('pl > 20')['pl'].count() / len(data)))"
   ]
  },
  {
   "cell_type": "code",
   "execution_count": 32,
   "id": "continuous-absorption",
   "metadata": {},
   "outputs": [
    {
     "data": {
      "text/plain": [
       "count                            250\n",
       "mean     310 days 19:40:54.257632004\n",
       "std      289 days 04:27:56.729299240\n",
       "min           0 days 00:00:00.027000\n",
       "25%          63 days 23:30:20.473250\n",
       "50%         175 days 01:40:46.393000\n",
       "75%         563 days 17:59:14.539250\n",
       "max         890 days 20:53:36.867000\n",
       "Name: lifetime, dtype: object"
      ]
     },
     "execution_count": 32,
     "metadata": {},
     "output_type": "execute_result"
    }
   ],
   "source": [
    "data.query('pl > 20')['lifetime'].describe()"
   ]
  },
  {
   "cell_type": "markdown",
   "id": "closed-likelihood",
   "metadata": {},
   "source": [
    "Время, проведенное в игре у игроков выше 20 уровня в половине случаев не превышает 175 дней. Самое малое время в игре занимающее доли секунды, является выбросом. Проверим сколько игроков справилось имеют выше 20 уровня со временем в игре в неделю и меньше."
   ]
  },
  {
   "cell_type": "code",
   "execution_count": 33,
   "id": "another-insight",
   "metadata": {},
   "outputs": [
    {
     "data": {
      "text/plain": [
       "34    0 days 00:00:00.027000\n",
       "154   4 days 09:36:01.252000\n",
       "414   0 days 11:57:57.508000\n",
       "747   0 days 16:37:05.940000\n",
       "Name: lifetime, dtype: timedelta64[ns]"
      ]
     },
     "execution_count": 33,
     "metadata": {},
     "output_type": "execute_result"
    }
   ],
   "source": [
    "data.query('pl > 20').loc[data['lifetime'] < '8 days']['lifetime']"
   ]
  },
  {
   "cell_type": "markdown",
   "id": "laughing-zambia",
   "metadata": {},
   "source": [
    "Всего 4 игрока, 1 из которых справился за 4 дня, а 2 за 11 и 16 часов. Не имея возможности проверить предположим, что они достиглали своих уровней за счет читов или за счет вливания денег в игру.  Оставшийся же игрок является выбросом."
   ]
  },
  {
   "cell_type": "markdown",
   "id": "dried-burns",
   "metadata": {},
   "source": [
    "#### Вывод\n",
    "\n",
    "В данном датасете **250 игроков** находятся выше 20 уровня, что составляет **25%** от общего числа игроков."
   ]
  },
  {
   "cell_type": "markdown",
   "id": "forty-ethiopia",
   "metadata": {},
   "source": [
    "### Вопрос 4: Средний уровень игроков для каждой страны"
   ]
  },
  {
   "cell_type": "markdown",
   "id": "funded-korean",
   "metadata": {},
   "source": [
    "Проверим какие страны вообще есть в датасете."
   ]
  },
  {
   "cell_type": "code",
   "execution_count": 34,
   "id": "presidential-swimming",
   "metadata": {},
   "outputs": [
    {
     "data": {
      "text/plain": [
       "array(['IT', 'IN', 'TR', 'HK', 'CN', 'US', 'ID', 'CA', 'IL', 'BY', 'MY',\n",
       "       'PH', 'GB', 'LK', 'KZ', 'VN', 'JP', 'CZ', 'RU', 'PS', 'KG', 'BD',\n",
       "       'BR', 'MM', 'EG', 'DE', 'JM', 'NL', 'TW', 'AR', 'IR', 'ZA', 'NG',\n",
       "       'KR', 'PK', 'CL', 'TT', 'AE', 'PE', 'UZ', 'IQ', 'GP', 'TN', 'FR',\n",
       "       'CI', 'UA', 'TH', 'PL', 'MD', 'TM', 'MR', 'GH', 'SA', 'NI', 'YE',\n",
       "       'IE', 'TJ', 'RO', 'SG', 'CO', 'MX', 'UNKNOWN', 'HU', 'KW', 'AU',\n",
       "       'BF', 'MA', 'CR', 'MG', 'NP', 'AF', 'OM', 'BE', 'AM', 'ET', 'SY',\n",
       "       'SN', 'KE', 'NE', 'GR', 'AT', 'LT', 'AL', 'ZM', 'SO', 'XK', 'AZ',\n",
       "       'ES', 'DO', 'AO', 'SK', 'LB', 'CD', 'NZ', 'TZ', 'QA', 'PT', 'JO',\n",
       "       'MZ', 'GE', 'EC', 'BG'], dtype=object)"
      ]
     },
     "execution_count": 34,
     "metadata": {},
     "output_type": "execute_result"
    }
   ],
   "source": [
    "data['country'].unique()"
   ]
  },
  {
   "cell_type": "markdown",
   "id": "worthy-diversity",
   "metadata": {},
   "source": [
    "Получим сводную таблицу по средненему уровню игрока в каждой стране и по количеству игроков. Выведем только страны с количеством игроков не меньше 10, чтобы быть уверенным в корректности средних значений."
   ]
  },
  {
   "cell_type": "code",
   "execution_count": 35,
   "id": "proprietary-indication",
   "metadata": {
    "scrolled": false
   },
   "outputs": [
    {
     "data": {
      "text/html": [
       "<div>\n",
       "<style scoped>\n",
       "    .dataframe tbody tr th:only-of-type {\n",
       "        vertical-align: middle;\n",
       "    }\n",
       "\n",
       "    .dataframe tbody tr th {\n",
       "        vertical-align: top;\n",
       "    }\n",
       "\n",
       "    .dataframe thead th {\n",
       "        text-align: right;\n",
       "    }\n",
       "</style>\n",
       "<table border=\"1\" class=\"dataframe\">\n",
       "  <thead>\n",
       "    <tr style=\"text-align: right;\">\n",
       "      <th></th>\n",
       "      <th>pl_mean</th>\n",
       "      <th>count</th>\n",
       "    </tr>\n",
       "    <tr>\n",
       "      <th>country</th>\n",
       "      <th></th>\n",
       "      <th></th>\n",
       "    </tr>\n",
       "  </thead>\n",
       "  <tbody>\n",
       "    <tr>\n",
       "      <th>CN</th>\n",
       "      <td>15.0</td>\n",
       "      <td>180</td>\n",
       "    </tr>\n",
       "    <tr>\n",
       "      <th>IN</th>\n",
       "      <td>11.0</td>\n",
       "      <td>163</td>\n",
       "    </tr>\n",
       "    <tr>\n",
       "      <th>RU</th>\n",
       "      <td>14.0</td>\n",
       "      <td>71</td>\n",
       "    </tr>\n",
       "    <tr>\n",
       "      <th>ID</th>\n",
       "      <td>13.0</td>\n",
       "      <td>40</td>\n",
       "    </tr>\n",
       "    <tr>\n",
       "      <th>US</th>\n",
       "      <td>13.0</td>\n",
       "      <td>38</td>\n",
       "    </tr>\n",
       "    <tr>\n",
       "      <th>PH</th>\n",
       "      <td>12.0</td>\n",
       "      <td>36</td>\n",
       "    </tr>\n",
       "    <tr>\n",
       "      <th>MY</th>\n",
       "      <td>15.0</td>\n",
       "      <td>32</td>\n",
       "    </tr>\n",
       "    <tr>\n",
       "      <th>VN</th>\n",
       "      <td>17.0</td>\n",
       "      <td>32</td>\n",
       "    </tr>\n",
       "    <tr>\n",
       "      <th>BR</th>\n",
       "      <td>13.0</td>\n",
       "      <td>27</td>\n",
       "    </tr>\n",
       "    <tr>\n",
       "      <th>IR</th>\n",
       "      <td>11.0</td>\n",
       "      <td>25</td>\n",
       "    </tr>\n",
       "    <tr>\n",
       "      <th>EG</th>\n",
       "      <td>9.0</td>\n",
       "      <td>21</td>\n",
       "    </tr>\n",
       "    <tr>\n",
       "      <th>NG</th>\n",
       "      <td>9.0</td>\n",
       "      <td>19</td>\n",
       "    </tr>\n",
       "    <tr>\n",
       "      <th>UZ</th>\n",
       "      <td>14.0</td>\n",
       "      <td>16</td>\n",
       "    </tr>\n",
       "    <tr>\n",
       "      <th>DE</th>\n",
       "      <td>20.0</td>\n",
       "      <td>14</td>\n",
       "    </tr>\n",
       "    <tr>\n",
       "      <th>TH</th>\n",
       "      <td>15.0</td>\n",
       "      <td>14</td>\n",
       "    </tr>\n",
       "    <tr>\n",
       "      <th>TR</th>\n",
       "      <td>15.0</td>\n",
       "      <td>13</td>\n",
       "    </tr>\n",
       "    <tr>\n",
       "      <th>UA</th>\n",
       "      <td>13.0</td>\n",
       "      <td>13</td>\n",
       "    </tr>\n",
       "    <tr>\n",
       "      <th>HK</th>\n",
       "      <td>20.0</td>\n",
       "      <td>12</td>\n",
       "    </tr>\n",
       "    <tr>\n",
       "      <th>KZ</th>\n",
       "      <td>11.0</td>\n",
       "      <td>12</td>\n",
       "    </tr>\n",
       "    <tr>\n",
       "      <th>BD</th>\n",
       "      <td>9.0</td>\n",
       "      <td>11</td>\n",
       "    </tr>\n",
       "    <tr>\n",
       "      <th>LK</th>\n",
       "      <td>7.0</td>\n",
       "      <td>10</td>\n",
       "    </tr>\n",
       "  </tbody>\n",
       "</table>\n",
       "</div>"
      ],
      "text/plain": [
       "         pl_mean  count\n",
       "country                \n",
       "CN          15.0    180\n",
       "IN          11.0    163\n",
       "RU          14.0     71\n",
       "ID          13.0     40\n",
       "US          13.0     38\n",
       "PH          12.0     36\n",
       "MY          15.0     32\n",
       "VN          17.0     32\n",
       "BR          13.0     27\n",
       "IR          11.0     25\n",
       "EG           9.0     21\n",
       "NG           9.0     19\n",
       "UZ          14.0     16\n",
       "DE          20.0     14\n",
       "TH          15.0     14\n",
       "TR          15.0     13\n",
       "UA          13.0     13\n",
       "HK          20.0     12\n",
       "KZ          11.0     12\n",
       "BD           9.0     11\n",
       "LK           7.0     10"
      ]
     },
     "execution_count": 35,
     "metadata": {},
     "output_type": "execute_result"
    }
   ],
   "source": [
    "pl_mean = pd.pivot_table(data, index='country', values='pl', aggfunc=['mean', 'count'])\n",
    "pl_mean.columns = ['pl_mean', 'count']\n",
    "pl_mean['pl_mean'] = round(pl_mean['pl_mean'])\n",
    "pl_mean.query('count > 9').sort_values('count', ascending=False)"
   ]
  },
  {
   "cell_type": "markdown",
   "id": "expected-price",
   "metadata": {},
   "source": [
    "Получим таблицу по времени, проведенному в игре."
   ]
  },
  {
   "cell_type": "code",
   "execution_count": 36,
   "id": "south-north",
   "metadata": {},
   "outputs": [],
   "source": [
    "def day(val):\n",
    "    return val.days\n",
    "\n",
    "data['days'] = data['lifetime'].apply(day)"
   ]
  },
  {
   "cell_type": "code",
   "execution_count": 37,
   "id": "silent-phenomenon",
   "metadata": {
    "scrolled": false
   },
   "outputs": [
    {
     "data": {
      "text/html": [
       "<div>\n",
       "<style scoped>\n",
       "    .dataframe tbody tr th:only-of-type {\n",
       "        vertical-align: middle;\n",
       "    }\n",
       "\n",
       "    .dataframe tbody tr th {\n",
       "        vertical-align: top;\n",
       "    }\n",
       "\n",
       "    .dataframe thead th {\n",
       "        text-align: right;\n",
       "    }\n",
       "</style>\n",
       "<table border=\"1\" class=\"dataframe\">\n",
       "  <thead>\n",
       "    <tr style=\"text-align: right;\">\n",
       "      <th></th>\n",
       "      <th>life_mean</th>\n",
       "      <th>count</th>\n",
       "    </tr>\n",
       "    <tr>\n",
       "      <th>country</th>\n",
       "      <th></th>\n",
       "      <th></th>\n",
       "    </tr>\n",
       "  </thead>\n",
       "  <tbody>\n",
       "    <tr>\n",
       "      <th>CN</th>\n",
       "      <td>176.1</td>\n",
       "      <td>180</td>\n",
       "    </tr>\n",
       "    <tr>\n",
       "      <th>IN</th>\n",
       "      <td>151.3</td>\n",
       "      <td>163</td>\n",
       "    </tr>\n",
       "    <tr>\n",
       "      <th>RU</th>\n",
       "      <td>204.5</td>\n",
       "      <td>71</td>\n",
       "    </tr>\n",
       "    <tr>\n",
       "      <th>ID</th>\n",
       "      <td>142.0</td>\n",
       "      <td>40</td>\n",
       "    </tr>\n",
       "    <tr>\n",
       "      <th>US</th>\n",
       "      <td>186.8</td>\n",
       "      <td>38</td>\n",
       "    </tr>\n",
       "    <tr>\n",
       "      <th>PH</th>\n",
       "      <td>120.1</td>\n",
       "      <td>36</td>\n",
       "    </tr>\n",
       "    <tr>\n",
       "      <th>MY</th>\n",
       "      <td>180.2</td>\n",
       "      <td>32</td>\n",
       "    </tr>\n",
       "    <tr>\n",
       "      <th>VN</th>\n",
       "      <td>162.9</td>\n",
       "      <td>32</td>\n",
       "    </tr>\n",
       "    <tr>\n",
       "      <th>BR</th>\n",
       "      <td>192.1</td>\n",
       "      <td>27</td>\n",
       "    </tr>\n",
       "    <tr>\n",
       "      <th>IR</th>\n",
       "      <td>65.1</td>\n",
       "      <td>25</td>\n",
       "    </tr>\n",
       "    <tr>\n",
       "      <th>EG</th>\n",
       "      <td>93.5</td>\n",
       "      <td>21</td>\n",
       "    </tr>\n",
       "    <tr>\n",
       "      <th>NG</th>\n",
       "      <td>76.9</td>\n",
       "      <td>19</td>\n",
       "    </tr>\n",
       "    <tr>\n",
       "      <th>UZ</th>\n",
       "      <td>70.9</td>\n",
       "      <td>16</td>\n",
       "    </tr>\n",
       "    <tr>\n",
       "      <th>DE</th>\n",
       "      <td>287.4</td>\n",
       "      <td>14</td>\n",
       "    </tr>\n",
       "    <tr>\n",
       "      <th>TH</th>\n",
       "      <td>82.0</td>\n",
       "      <td>14</td>\n",
       "    </tr>\n",
       "    <tr>\n",
       "      <th>TR</th>\n",
       "      <td>222.7</td>\n",
       "      <td>13</td>\n",
       "    </tr>\n",
       "    <tr>\n",
       "      <th>UA</th>\n",
       "      <td>66.7</td>\n",
       "      <td>13</td>\n",
       "    </tr>\n",
       "    <tr>\n",
       "      <th>HK</th>\n",
       "      <td>201.7</td>\n",
       "      <td>12</td>\n",
       "    </tr>\n",
       "    <tr>\n",
       "      <th>KZ</th>\n",
       "      <td>130.5</td>\n",
       "      <td>12</td>\n",
       "    </tr>\n",
       "    <tr>\n",
       "      <th>BD</th>\n",
       "      <td>77.8</td>\n",
       "      <td>11</td>\n",
       "    </tr>\n",
       "    <tr>\n",
       "      <th>LK</th>\n",
       "      <td>199.3</td>\n",
       "      <td>10</td>\n",
       "    </tr>\n",
       "  </tbody>\n",
       "</table>\n",
       "</div>"
      ],
      "text/plain": [
       "         life_mean  count\n",
       "country                  \n",
       "CN           176.1    180\n",
       "IN           151.3    163\n",
       "RU           204.5     71\n",
       "ID           142.0     40\n",
       "US           186.8     38\n",
       "PH           120.1     36\n",
       "MY           180.2     32\n",
       "VN           162.9     32\n",
       "BR           192.1     27\n",
       "IR            65.1     25\n",
       "EG            93.5     21\n",
       "NG            76.9     19\n",
       "UZ            70.9     16\n",
       "DE           287.4     14\n",
       "TH            82.0     14\n",
       "TR           222.7     13\n",
       "UA            66.7     13\n",
       "HK           201.7     12\n",
       "KZ           130.5     12\n",
       "BD            77.8     11\n",
       "LK           199.3     10"
      ]
     },
     "execution_count": 37,
     "metadata": {},
     "output_type": "execute_result"
    }
   ],
   "source": [
    "pl_life = pd.pivot_table(data, index='country', values='days', aggfunc=['mean', 'count'])\n",
    "pl_life.columns = ['life_mean', 'count']\n",
    "pl_life['life_mean'] = round(pl_life['life_mean'], 1)\n",
    "pl_life.query('count > 9').sort_values(['count'], ascending=False)"
   ]
  },
  {
   "cell_type": "markdown",
   "id": "knowing-timothy",
   "metadata": {},
   "source": [
    "Получим ТОП-5 стран по количеству игроков."
   ]
  },
  {
   "cell_type": "code",
   "execution_count": 38,
   "id": "patient-polymer",
   "metadata": {},
   "outputs": [
    {
     "data": {
      "text/html": [
       "<div>\n",
       "<style scoped>\n",
       "    .dataframe tbody tr th:only-of-type {\n",
       "        vertical-align: middle;\n",
       "    }\n",
       "\n",
       "    .dataframe tbody tr th {\n",
       "        vertical-align: top;\n",
       "    }\n",
       "\n",
       "    .dataframe thead th {\n",
       "        text-align: right;\n",
       "    }\n",
       "</style>\n",
       "<table border=\"1\" class=\"dataframe\">\n",
       "  <thead>\n",
       "    <tr style=\"text-align: right;\">\n",
       "      <th></th>\n",
       "      <th>pl_mean</th>\n",
       "      <th>count</th>\n",
       "      <th>life_mean</th>\n",
       "    </tr>\n",
       "    <tr>\n",
       "      <th>country</th>\n",
       "      <th></th>\n",
       "      <th></th>\n",
       "      <th></th>\n",
       "    </tr>\n",
       "  </thead>\n",
       "  <tbody>\n",
       "    <tr>\n",
       "      <th>CN</th>\n",
       "      <td>15.0</td>\n",
       "      <td>180</td>\n",
       "      <td>176.1</td>\n",
       "    </tr>\n",
       "    <tr>\n",
       "      <th>IN</th>\n",
       "      <td>11.0</td>\n",
       "      <td>163</td>\n",
       "      <td>151.3</td>\n",
       "    </tr>\n",
       "    <tr>\n",
       "      <th>RU</th>\n",
       "      <td>14.0</td>\n",
       "      <td>71</td>\n",
       "      <td>204.5</td>\n",
       "    </tr>\n",
       "    <tr>\n",
       "      <th>ID</th>\n",
       "      <td>13.0</td>\n",
       "      <td>40</td>\n",
       "      <td>142.0</td>\n",
       "    </tr>\n",
       "    <tr>\n",
       "      <th>US</th>\n",
       "      <td>13.0</td>\n",
       "      <td>38</td>\n",
       "      <td>186.8</td>\n",
       "    </tr>\n",
       "  </tbody>\n",
       "</table>\n",
       "</div>"
      ],
      "text/plain": [
       "         pl_mean  count  life_mean\n",
       "country                           \n",
       "CN          15.0    180      176.1\n",
       "IN          11.0    163      151.3\n",
       "RU          14.0     71      204.5\n",
       "ID          13.0     40      142.0\n",
       "US          13.0     38      186.8"
      ]
     },
     "execution_count": 38,
     "metadata": {},
     "output_type": "execute_result"
    }
   ],
   "source": [
    "pl_mean['life_mean'] = pl_life['life_mean']\n",
    "pl_mean.query('count > 9').sort_values(['count'], ascending=False).head()"
   ]
  },
  {
   "cell_type": "markdown",
   "id": "respected-english",
   "metadata": {},
   "source": [
    "Получим ТОП-5 стран по среднему уровню игроков."
   ]
  },
  {
   "cell_type": "code",
   "execution_count": 39,
   "id": "loved-access",
   "metadata": {},
   "outputs": [
    {
     "data": {
      "text/html": [
       "<div>\n",
       "<style scoped>\n",
       "    .dataframe tbody tr th:only-of-type {\n",
       "        vertical-align: middle;\n",
       "    }\n",
       "\n",
       "    .dataframe tbody tr th {\n",
       "        vertical-align: top;\n",
       "    }\n",
       "\n",
       "    .dataframe thead th {\n",
       "        text-align: right;\n",
       "    }\n",
       "</style>\n",
       "<table border=\"1\" class=\"dataframe\">\n",
       "  <thead>\n",
       "    <tr style=\"text-align: right;\">\n",
       "      <th></th>\n",
       "      <th>pl_mean</th>\n",
       "      <th>count</th>\n",
       "      <th>life_mean</th>\n",
       "    </tr>\n",
       "    <tr>\n",
       "      <th>country</th>\n",
       "      <th></th>\n",
       "      <th></th>\n",
       "      <th></th>\n",
       "    </tr>\n",
       "  </thead>\n",
       "  <tbody>\n",
       "    <tr>\n",
       "      <th>HK</th>\n",
       "      <td>20.0</td>\n",
       "      <td>12</td>\n",
       "      <td>201.7</td>\n",
       "    </tr>\n",
       "    <tr>\n",
       "      <th>DE</th>\n",
       "      <td>20.0</td>\n",
       "      <td>14</td>\n",
       "      <td>287.4</td>\n",
       "    </tr>\n",
       "    <tr>\n",
       "      <th>VN</th>\n",
       "      <td>17.0</td>\n",
       "      <td>32</td>\n",
       "      <td>162.9</td>\n",
       "    </tr>\n",
       "    <tr>\n",
       "      <th>TH</th>\n",
       "      <td>15.0</td>\n",
       "      <td>14</td>\n",
       "      <td>82.0</td>\n",
       "    </tr>\n",
       "    <tr>\n",
       "      <th>MY</th>\n",
       "      <td>15.0</td>\n",
       "      <td>32</td>\n",
       "      <td>180.2</td>\n",
       "    </tr>\n",
       "  </tbody>\n",
       "</table>\n",
       "</div>"
      ],
      "text/plain": [
       "         pl_mean  count  life_mean\n",
       "country                           \n",
       "HK          20.0     12      201.7\n",
       "DE          20.0     14      287.4\n",
       "VN          17.0     32      162.9\n",
       "TH          15.0     14       82.0\n",
       "MY          15.0     32      180.2"
      ]
     },
     "execution_count": 39,
     "metadata": {},
     "output_type": "execute_result"
    }
   ],
   "source": [
    "pl_mean.query('count > 9').sort_values(['pl_mean'], ascending=False).head()"
   ]
  },
  {
   "cell_type": "markdown",
   "id": "alone-jason",
   "metadata": {},
   "source": [
    "Получим ТОП-5 стран по среднему времени, проведенному в игре."
   ]
  },
  {
   "cell_type": "code",
   "execution_count": 40,
   "id": "adequate-airplane",
   "metadata": {},
   "outputs": [
    {
     "data": {
      "text/html": [
       "<div>\n",
       "<style scoped>\n",
       "    .dataframe tbody tr th:only-of-type {\n",
       "        vertical-align: middle;\n",
       "    }\n",
       "\n",
       "    .dataframe tbody tr th {\n",
       "        vertical-align: top;\n",
       "    }\n",
       "\n",
       "    .dataframe thead th {\n",
       "        text-align: right;\n",
       "    }\n",
       "</style>\n",
       "<table border=\"1\" class=\"dataframe\">\n",
       "  <thead>\n",
       "    <tr style=\"text-align: right;\">\n",
       "      <th></th>\n",
       "      <th>pl_mean</th>\n",
       "      <th>count</th>\n",
       "      <th>life_mean</th>\n",
       "    </tr>\n",
       "    <tr>\n",
       "      <th>country</th>\n",
       "      <th></th>\n",
       "      <th></th>\n",
       "      <th></th>\n",
       "    </tr>\n",
       "  </thead>\n",
       "  <tbody>\n",
       "    <tr>\n",
       "      <th>DE</th>\n",
       "      <td>20.0</td>\n",
       "      <td>14</td>\n",
       "      <td>287.4</td>\n",
       "    </tr>\n",
       "    <tr>\n",
       "      <th>TR</th>\n",
       "      <td>15.0</td>\n",
       "      <td>13</td>\n",
       "      <td>222.7</td>\n",
       "    </tr>\n",
       "    <tr>\n",
       "      <th>RU</th>\n",
       "      <td>14.0</td>\n",
       "      <td>71</td>\n",
       "      <td>204.5</td>\n",
       "    </tr>\n",
       "    <tr>\n",
       "      <th>HK</th>\n",
       "      <td>20.0</td>\n",
       "      <td>12</td>\n",
       "      <td>201.7</td>\n",
       "    </tr>\n",
       "    <tr>\n",
       "      <th>LK</th>\n",
       "      <td>7.0</td>\n",
       "      <td>10</td>\n",
       "      <td>199.3</td>\n",
       "    </tr>\n",
       "  </tbody>\n",
       "</table>\n",
       "</div>"
      ],
      "text/plain": [
       "         pl_mean  count  life_mean\n",
       "country                           \n",
       "DE          20.0     14      287.4\n",
       "TR          15.0     13      222.7\n",
       "RU          14.0     71      204.5\n",
       "HK          20.0     12      201.7\n",
       "LK           7.0     10      199.3"
      ]
     },
     "execution_count": 40,
     "metadata": {},
     "output_type": "execute_result"
    }
   ],
   "source": [
    "pl_mean.query('count > 9').sort_values(['life_mean'], ascending=False).head()"
   ]
  },
  {
   "cell_type": "markdown",
   "id": "stone-marina",
   "metadata": {},
   "source": [
    "#### Вывод\n",
    "\n",
    "Для стран ***с наибольшим количеством игроков*** средний уровень находится в диапазоне от 11 по 15 уровень. Страны топа имеют следующие уровни:\n",
    "\n",
    "- Китай - 15\n",
    "- Индия - 11\n",
    "- Россия - 14\n",
    "- Индонезия - 13\n",
    "- США - 13\n",
    "\n",
    "В топ ***по среднему уровню игроков*** попали следующие страны (страна - уровень):\n",
    "\n",
    "- Гонконг - 20\n",
    "- Германия - 20\n",
    "- Вьетнам - 17\n",
    "- Тайланд - 15\n",
    "- Малайзия - 15\n",
    "\n",
    "В топ ***по среднему времени, проведенному в игре*** попали следующие страны (страна - уровень):\n",
    "\n",
    "- Германия - 20\n",
    "- Турция - 15\n",
    "- Россия - 14\n",
    "- Гонконг - 20\n",
    "- Шри-Ланка - 7\n",
    "\n",
    "Из представленных топов можно сделать вывод, что страны с большим количеством игроков зачастую не совпадают со странами, в которых игроки уже долго находятся в игре (кроме России). Это может быть связано с притоком новых пользователей в этих странах. Такие страны, как Гонконг и Германия, показывают высокий средний уровень игроков и долгое время в игре у пользователя, что говорит о том, что новичков в этих странах почти нет.\n",
    "\n",
    "Китай и Индия являются безоговорочными лидерами по количеству игроков, но в игре пока провели мало времени.\n",
    "\n",
    "Индонезия и США являются странами с большим количеством новых пользователей этой игры.\n",
    "\n",
    "В России малый приток новых пользователей (время в игре у пользователя высокое)."
   ]
  },
  {
   "cell_type": "markdown",
   "id": "ahead-overhead",
   "metadata": {},
   "source": [
    "## Вывод\n",
    "\n",
    "- Все строки таблицы соответствуют уникальным пользователям\n",
    "- Большое количество стран имеет малое число игроков (1-2 игрока)\n",
    "- Страны CN (Китай), IN (Индия), RU (Россия) являются лидерами по количеству игроков\n",
    "- Наибольшая концентрация игроков наблючается на уровнях 3, 4 и 33, тогда как средний игрок находится на 13 уровне, а медианный на 10. Всплеск на 33 уровне связан с ограничением на шкале уровней, поэтому пользователи накапливаются на финальном уровне\n",
    "- Большинство пользователей пользуются Android (74.5%)\n",
    "- Датасет составлен так, что дата последнего захода в игру у всех пользователей приходится на 5 апреля 2020 года\n",
    "- В ТОП-5 по количеству игроков на разных платформах представлены такие страны как Индия, Россия и Китай. Можно заметить, что Индия и Россия с 1 и 2 места в ТОПе Android переходят на 5 и 4 места соответственно в ТОПе iOS, что вероятно связано с экономической ситуацией и сравнительной дешевизне смартфонов на Android. Китай же наоборот с 3 места переходит на 1, причем 1 место в iOS он занимает с доминирующем положением (47.8% в сравнении с остальными странами, у которых меньше 8%). Индия - лидер по числу пользователей на Android (20.4%), Китай - лидер на iOS (47.8%)\n",
    "- Половина всех игроков представленных в датасете остается активными в игре не больше 30 дней, а 75% всех пользователей играют уже полгода\n",
    "- Самое долгое время, проведенное в игре, составляет **890 дней**\n",
    "- В данном датасете **250 игроков** находятся выше 20 уровня, что составляет **25%** от общего числа игроков\n",
    "- Такие страны, как Гонконг и Германия, показывают высокий средний уровень игроков и долгое время в игре у пользователя, что говорит о том, что новичков в этих странах почти нет. Китай и Индия являются безоговорочными лидерами по количеству игроков, но в игре пока провели мало времени. Индонезия и США являются странами с большим количеством новых пользователей этой игры. В России малый приток новых пользователей (время в игре у пользователя высокое)."
   ]
  },
  {
   "cell_type": "code",
   "execution_count": null,
   "id": "swedish-citizen",
   "metadata": {},
   "outputs": [],
   "source": []
  }
 ],
 "metadata": {
  "kernelspec": {
   "display_name": "Python 3",
   "language": "python",
   "name": "python3"
  },
  "language_info": {
   "codemirror_mode": {
    "name": "ipython",
    "version": 3
   },
   "file_extension": ".py",
   "mimetype": "text/x-python",
   "name": "python",
   "nbconvert_exporter": "python",
   "pygments_lexer": "ipython3",
   "version": "3.7.10"
  },
  "toc": {
   "base_numbering": 1,
   "nav_menu": {},
   "number_sections": true,
   "sideBar": true,
   "skip_h1_title": true,
   "title_cell": "Table of Contents",
   "title_sidebar": "Contents",
   "toc_cell": true,
   "toc_position": {
    "height": "calc(100% - 180px)",
    "left": "10px",
    "top": "150px",
    "width": "294.237px"
   },
   "toc_section_display": true,
   "toc_window_display": true
  }
 },
 "nbformat": 4,
 "nbformat_minor": 5
}
